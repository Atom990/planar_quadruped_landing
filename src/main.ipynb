{
 "cells": [
  {
   "cell_type": "code",
   "execution_count": null,
   "metadata": {},
   "outputs": [],
   "source": [
    "import Pkg; Pkg.activate(joinpath(@__DIR__,\"..\")); Pkg.instantiate()\n",
    "using LinearAlgebra\n",
    "using ForwardDiff\n",
    "using RobotDynamics\n",
    "using Ipopt\n",
    "using MathOptInterface\n",
    "using TrajOptPlots\n",
    "const MOI = MathOptInterface\n",
    "using Random\n",
    "include(\"quadratic_cost.jl\")\n",
    "include(\"planar_quadruped.jl\")\n",
    "include(\"sparseblocks.jl\")\n",
    "include(\"utils.jl\")\n",
    "include(\"nlp.jl\")\n",
    "include(\"moi.jl\")\n",
    "include(\"costs.jl\")\n",
    "include(\"constraints.jl\")"
   ]
  },
  {
   "cell_type": "markdown",
   "metadata": {},
   "source": [
    "## Reference Trajectory"
   ]
  },
  {
   "cell_type": "code",
   "execution_count": null,
   "metadata": {},
   "outputs": [],
   "source": [
    "\"\"\"\n",
    "    reference_trajectory(model, times)\n",
    "\n",
    "Return a reference trajectory that translates the walker from an x position of `xinit` to `xterm`,\n",
    "with a nominal body height of `height` meters.\n",
    "\"\"\"\n",
    "function reference_trajectory(model::PlanarQuadruped, times, t_trans, xinit, xterm, uinit, init_mode)\n",
    "    # Some useful variables\n",
    "    n, m = size(model)\n",
    "    tf = times[end]\n",
    "    N = length(times)\n",
    "    Δx = xterm - xinit\n",
    "    dt = times[2]\n",
    "\n",
    "    g, mb, lb, l1, l2 = model.g, model.mb, model.lb, model.l1, model.l2\n",
    "\n",
    "    # initialization\n",
    "    k_trans = 0\n",
    "    for k = 1:N-1\n",
    "        if times[k] < t_trans && times[k+1] >= t_trans\n",
    "            k_trans = k + 1\n",
    "            break\n",
    "        end\n",
    "    end\n",
    "\n",
    "    Xref = zeros(n,N)\n",
    "    Uref = zeros(m,N)\n",
    "\n",
    "    Xref[:, 1] .= xinit\n",
    "    Uref[:, 1] .= uinit\n",
    "\n",
    "    Xref[:, 2:end] .= xterm\n",
    "\n",
    "    a = 2 * Δx[7:10] / (t_trans^2)     # acceleration of feet (assume feet have constant acceleration and zero velocity since touching the ground)\n",
    "\n",
    "    for k = 2:k_trans-1\n",
    "        Uref[1:4, :] .= uinit[1:4] + a * (k-1)*dt  # v1 and v2\n",
    "    end\n",
    "\n",
    "    if init_mode == 1\n",
    "        Uref[6, :] .= mb*g/2           # F1_y\n",
    "        Uref[8, k_trans:end] .= mb*g/2    # F2_y\n",
    "    else\n",
    "        Uref[6, k_trans:end] .= mb*g/2    # F1_y\n",
    "        Uref[8, :] .= mb*g/2           # F2_y\n",
    "    end\n",
    "\n",
    "    # Convert to a trajectory\n",
    "    Xref = [SVector{n}(x) for x in eachcol(Xref)]\n",
    "    Uref = [SVector{m}(u) for u in eachcol(Uref)]\n",
    "    return Xref, Uref\n",
    "end"
   ]
  },
  {
   "cell_type": "markdown",
   "metadata": {},
   "source": [
    "## Problem Definition"
   ]
  },
  {
   "cell_type": "code",
   "execution_count": null,
   "metadata": {},
   "outputs": [],
   "source": [
    "# Dynamics model\n",
    "model = PlanarQuadruped()\n",
    "g, mb, lb, l1, l2 = model.g, model.mb, model.lb, model.l1, model.l2\n",
    "\n",
    "# Discretization\n",
    "tf = 1.0\n",
    "dt = 0.05\n",
    "N = Int(ceil(tf/dt)) + 1\n",
    "times = range(0,tf, length=N)\n",
    "t_trans = 0.5\n",
    "\n",
    "# Initial Conditions\n",
    "# currently, we assume the initial mode ID is 1\n",
    "xinit = [-0.4;0.6;3.1415/9; 0.0;-0.5;0.0; 0.0;0.0; -1.0;0.2]\n",
    "xterm = [-lb/2;sqrt(l1^2+l2^2);0.0; 0.0;0.0;0.0; 0.0;0.0; -lb;0.0]\n",
    "\n",
    "uinit = [0.0;0.0; 0.0;-0.2; 0.0;mb*g/2; 0.0;mb*g/2]\n",
    "init_mode = 1\n",
    "\n",
    "# Reference Trajectory\n",
    "Xref,Uref = reference_trajectory(model, times, t_trans, xinit, xterm, uinit, init_mode)\n",
    "\n",
    "# Objective\n",
    "Random.seed!(1)\n",
    "Q = Diagonal([10.0;10.0;1.0; 10.0;10.0;1.0; 10.0;10.0; 10.0;10.0])\n",
    "R = Diagonal(fill(1e-3,8))\n",
    "Qf = Q\n",
    "\n",
    "obj = map(1:N-1) do k\n",
    "    LQRCost(Q,R,Xref[k],Uref[k])\n",
    "end\n",
    "push!(obj, LQRCost(Qf, R*0, Xref[N], Uref[1]))\n",
    "\n",
    "# Define the NLP\n",
    "nlp = HybridNLP(model, obj, init_mode, tf, N, Xref[1], Xref[end]);"
   ]
  },
  {
   "cell_type": "markdown",
   "metadata": {},
   "source": [
    "## Solve"
   ]
  },
  {
   "cell_type": "code",
   "execution_count": null,
   "metadata": {},
   "outputs": [],
   "source": [
    "# Initial guess\n",
    "Random.seed!(1)\n",
    "Xguess = [x + 0.1*randn(length(x)) for x in Xref]\n",
    "Uguess = [u + 0.1*randn(length(u)) for u in Uref]\n",
    "Z0 = packZ(nlp, Xguess, Uguess);\n",
    "nlp = HybridNLP(model, obj, init_mode, tf, N, Xref[1], Xref[end], use_sparse_jacobian=false);"
   ]
  },
  {
   "cell_type": "code",
   "execution_count": null,
   "metadata": {},
   "outputs": [],
   "source": [
    "# Z_sol, solver = solve(Z0, nlp, c_tol=1e-6, tol=1e-6)\n",
    "Z_sol, solver = solve(Z0, nlp, c_tol=1e-2, tol=1e-2)"
   ]
  },
  {
   "cell_type": "code",
   "execution_count": null,
   "metadata": {},
   "outputs": [],
   "source": []
  }
 ],
 "metadata": {
  "@webio": {
   "lastCommId": "06ae0ce534004235b788f1a5d0a7d59a",
   "lastKernelId": "320b288e-2315-4364-93b6-7c10c2dfbcc7"
  },
  "kernelspec": {
   "display_name": "Julia 1.6.6",
   "language": "julia",
   "name": "julia-1.6"
  },
  "language_info": {
   "file_extension": ".jl",
   "mimetype": "application/julia",
   "name": "julia",
   "version": "1.6.6"
  }
 },
 "nbformat": 4,
 "nbformat_minor": 4
}
