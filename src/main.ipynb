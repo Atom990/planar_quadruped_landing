{
 "cells": [
  {
   "cell_type": "code",
   "execution_count": 1,
   "metadata": {},
   "outputs": [
    {
     "name": "stderr",
     "output_type": "stream",
     "text": [
      "\u001b[32m\u001b[1m  Activating\u001b[22m\u001b[39m environment at `~/Documents/planar_quadruped_landing/Project.toml`\n"
     ]
    }
   ],
   "source": [
    "import Pkg; Pkg.activate(joinpath(@__DIR__,\"..\")); Pkg.instantiate()\n",
    "using LinearAlgebra\n",
    "using ForwardDiff\n",
    "using RobotDynamics\n",
    "using Ipopt\n",
    "using MathOptInterface\n",
    "using TrajOptPlots\n",
    "const MOI = MathOptInterface\n",
    "using Random"
   ]
  },
  {
   "cell_type": "code",
   "execution_count": 2,
   "metadata": {},
   "outputs": [
    {
     "data": {
      "application/vnd.webio.node+json": {
       "children": [],
       "instanceArgs": {
        "namespace": "html",
        "tag": "div"
       },
       "nodeType": "DOM",
       "props": {},
       "type": "node"
      },
      "text/html": [
       "<div style=\"padding: 1em; background-color: #f8d6da; border: 1px solid #f5c6cb; font-weight: bold;\">\n",
       "<p>The WebIO Jupyter extension was not detected. See the\n",
       "<a href=\"https://juliagizmos.github.io/WebIO.jl/latest/providers/ijulia/\" target=\"_blank\">\n",
       "    WebIO Jupyter integration documentation\n",
       "</a>\n",
       "for more information.\n",
       "</div>\n"
      ],
      "text/plain": [
       "WebIO._IJuliaInit()"
      ]
     },
     "metadata": {},
     "output_type": "display_data"
    },
    {
     "data": {
      "text/plain": [
       "reference_trajectory"
      ]
     },
     "execution_count": 2,
     "metadata": {},
     "output_type": "execute_result"
    }
   ],
   "source": [
    "include(\"quadratic_cost.jl\")\n",
    "include(\"planar_quadruped.jl\")\n",
    "include(\"sparseblocks.jl\")\n",
    "include(\"utils.jl\")\n",
    "include(\"nlp.jl\")\n",
    "include(\"moi.jl\")\n",
    "include(\"costs.jl\")\n",
    "include(\"constraints.jl\")\n",
    "include(\"ref_traj.jl\")"
   ]
  },
  {
   "cell_type": "markdown",
   "metadata": {},
   "source": [
    "## Reference Trajectory"
   ]
  },
  {
   "cell_type": "markdown",
   "metadata": {},
   "source": [
    "## Problem Definition"
   ]
  },
  {
   "cell_type": "code",
   "execution_count": 3,
   "metadata": {},
   "outputs": [],
   "source": [
    "# Dynamics model\n",
    "model = PlanarQuadruped()\n",
    "g, mb, lb, l1, l2 = model.g, model.mb, model.lb, model.l1, model.l2\n",
    "\n",
    "# Discretization\n",
    "tf = 0.6\n",
    "dt = 0.02\n",
    "N = Int(ceil(tf/dt)) + 1\n",
    "times = range(0,tf, length=N)\n",
    "t_trans = 0.2\n",
    "\n",
    "n = 14\n",
    "m = 4\n",
    "\n",
    "# Initial Conditions\n",
    "# currently, we assume the initial mode ID is 1\n",
    "# xinit = [-0.4;0.6;-3.1415/9;        0.0;0.0; -1.0;0.2; 0.0;-0.5;0.0; 0.0;0.0; 0.0;-0.5]\n",
    "# xterm = [-lb/2;sqrt(l1^2+l2^2);0.0; 0.0;0.0; -lb;0.0;  0.0;0.0;0.0;  0.0;0.0; 0.0;0.0]\n",
    "xinit = zeros(n)\n",
    "xinit[1] = -lb/2                  # xb\n",
    "xinit[2] = sqrt(l1^2+l2^2) + 0.05 # yb\n",
    "xinit[3] = 10 * pi / 180          # theta\n",
    "xinit[6] = -lb                    # x2\n",
    "xinit[7] = 0.05                   # y2\n",
    "xinit[9] = -3.0                   # yb_dot\n",
    "xinit[12] = -3.0                  # y2_dot\n",
    "\n",
    "xterm = zeros(n)\n",
    "xterm[1] = -lb/2           # xb\n",
    "xterm[2] = sqrt(l1^2+l2^2) # yb\n",
    "xterm[6] = -lb             # x2\n",
    "\n",
    "init_mode = 1\n",
    "\n",
    "# Reference Trajectory\n",
    "Xref, Uref = reference_trajectory(model, times, t_trans, xinit, xterm, init_mode)\n",
    "\n",
    "# Objective\n",
    "Random.seed!(1)\n",
    "Q = Diagonal([1.0;1.0;1.0; 1.0;1.0; 1.0;1.0; 1.0;1.0;1.0; 1.0;1.0; 1.0;1.0])\n",
    "R = Diagonal(fill(1e-3,4))\n",
    "Qf = Q\n",
    "\n",
    "obj = map(1:N-1) do k\n",
    "    LQRCost(Q,R,Xref[k],Uref[k])\n",
    "end\n",
    "push!(obj, LQRCost(Qf, R*0, Xref[N], Uref[1]))\n",
    "\n",
    "# Define the NLP\n",
    "nlp = HybridNLP(model, obj, init_mode, tf, N, Xref[1], Xref[end]);"
   ]
  },
  {
   "cell_type": "markdown",
   "metadata": {},
   "source": [
    "## Solve"
   ]
  },
  {
   "cell_type": "code",
   "execution_count": 4,
   "metadata": {},
   "outputs": [
    {
     "data": {
      "text/plain": [
       "5-element Vector{UnitRange{Int64}}:\n",
       " 1:14\n",
       " 15:28\n",
       " 29:448\n",
       " 449:479\n",
       " 480:500"
      ]
     },
     "execution_count": 4,
     "metadata": {},
     "output_type": "execute_result"
    }
   ],
   "source": [
    "nlp.cinds"
   ]
  },
  {
   "cell_type": "code",
   "execution_count": 5,
   "metadata": {},
   "outputs": [],
   "source": [
    "# Initial guess\n",
    "xtransit = zeros(n)\n",
    "xtransit[1] = -lb/2 # xb\n",
    "xtransit[2] = l1    # yb\n",
    "xtransit[3] = 0     # theta\n",
    "xtransit[6] = -lb   # x2\n",
    "\n",
    "# Random.seed!(1)\n",
    "# Uguess = [u + 0.1*randn(length(u)) for u in Uref]\n",
    "# Xguess = [x + 0.1*randn(length(x)) for x in Xref]\n",
    "\n",
    "Uguess = [zeros(length(u)) for u in Uref]\n",
    "Xguess = [zeros(length(x)) for x in Xref]\n",
    "\n",
    "timesteps_phase_1 = nlp.k_trans\n",
    "\n",
    "for i = 1:timesteps_phase_1\n",
    "    Xguess[i] = xinit + (xtransit - xinit)/timesteps_phase_1 * i\n",
    "end\n",
    "\n",
    "# display((xtransit - xinit)/timesteps_phase_1)"
   ]
  },
  {
   "cell_type": "code",
   "execution_count": 6,
   "metadata": {},
   "outputs": [
    {
     "name": "stdout",
     "output_type": "stream",
     "text": [
      "Creating NLP Block Data...\n",
      "Creating Ipopt...\n",
      "Adding constraints...\n",
      "starting Ipopt Solve...\n",
      "\n",
      "******************************************************************************\n",
      "This program contains Ipopt, a library for large-scale nonlinear optimization.\n",
      " Ipopt is released as open source code under the Eclipse Public License (EPL).\n",
      "         For more information visit https://github.com/coin-or/Ipopt\n",
      "******************************************************************************\n",
      "\n",
      "This is Ipopt version 3.13.4, running with linear solver mumps.\n",
      "NOTE: Other linear solvers might be more efficient (see Ipopt documentation).\n",
      "\n",
      "Number of nonzeros in equality constraint Jacobian...:   277000\n",
      "Number of nonzeros in inequality constraint Jacobian.:        0\n",
      "Number of nonzeros in Lagrangian Hessian.............:        0\n",
      "\n",
      "Total number of variables............................:      554\n",
      "                     variables with only lower bounds:       93\n",
      "                variables with lower and upper bounds:        0\n",
      "                     variables with only upper bounds:        0\n",
      "Total number of equality constraints.................:      500\n",
      "Total number of inequality constraints...............:        0\n",
      "        inequality constraints with only lower bounds:        0\n",
      "   inequality constraints with lower and upper bounds:        0\n",
      "        inequality constraints with only upper bounds:        0\n",
      "\n",
      "iter    objective    inf_pr   inf_du lg(mu)  ||d||  lg(rg) alpha_du alpha_pr  ls\n",
      "   0  8.5783615e+01 5.00e-01 2.45e+00   0.0 0.00e+00    -  0.00e+00 0.00e+00   0\n",
      "   1r 8.5783615e+01 5.00e-01 9.99e+02  -0.3 0.00e+00    -  0.00e+00 4.06e-07R 20\n",
      "   2r 8.4987997e+01 4.65e-01 9.95e+02   1.7 2.40e+02    -  8.34e-03 3.07e-03f  1\n",
      "   3r 8.5602439e+01 4.63e-01 1.03e+03   1.1 3.32e+01    -  4.51e-01 9.64e-03f  1\n",
      "   4r 1.0503720e+02 5.11e-01 8.91e+02   1.1 1.55e+01    -  1.14e-01 8.54e-02f  1\n",
      "   5r 1.0720877e+02 5.61e-01 1.72e+03   0.8 1.93e+00    -  6.13e-01 1.18e-01f  1\n",
      "   6r 1.0658743e+02 1.36e+00 3.72e+02   0.5 1.49e+00    -  9.99e-01 6.00e-01f  1\n",
      "   7r 1.1395466e+02 2.00e+00 4.29e+00   0.7 1.41e+00    -  1.00e+00 1.00e+00f  1\n",
      "   8r 1.1064982e+02 1.79e+00 9.33e+01   0.6 3.93e-01    -  5.83e-01 1.00e+00h  1\n",
      "   9r 1.1036812e+02 1.80e+00 7.84e+01  -0.2 6.18e-01    -  9.99e-01 6.80e-01f  1\n",
      "iter    objective    inf_pr   inf_du lg(mu)  ||d||  lg(rg) alpha_du alpha_pr  ls\n",
      "  10r 1.1655538e+02 1.84e+00 4.42e+00  -0.4 1.09e+00    -  1.00e+00 9.96e-01f  1\n",
      "  11r 1.2663807e+02 1.72e+00 8.81e+01  -1.0 1.10e+00    -  8.71e-01 1.00e+00f  1\n",
      "  12r 1.5399785e+02 1.26e+00 1.43e+02  -1.3 2.60e+00    -  1.00e+00 4.89e-01f  1\n",
      "  13r 1.5870696e+02 1.07e+00 1.77e+02  -1.4 3.53e+00    -  1.00e+00 2.24e-01f  1\n",
      "  14r 1.8450910e+02 1.42e+00 6.88e+01  -1.2 3.67e+00    -  1.00e+00 5.33e-01f  1\n",
      "  15r 1.8621475e+02 1.35e+00 2.01e+02   0.1 1.05e+01    -  1.69e-01 1.18e-01f  1\n",
      "  16r 1.7065655e+02 1.34e+00 1.80e+02  -0.8 2.08e+01    -  1.03e-01 1.03e-01s 20\n",
      "  17r 1.6630619e+02 1.07e+00 1.32e+02  -0.8 2.63e+00    -  2.70e-01 2.70e-01s 20\n",
      "  18r 1.5889158e+02 6.03e-01 5.70e+01  -0.8 2.22e+00    -  5.66e-01 5.66e-01s 20\n",
      "  19r 1.5618796e+02 1.70e+00 9.61e+01  -0.8 1.18e+00    -  1.00e+00 0.00e+00S 20\n",
      "iter    objective    inf_pr   inf_du lg(mu)  ||d||  lg(rg) alpha_du alpha_pr  ls\n",
      "  20r 1.5644921e+02 1.85e+00 3.78e-01  -0.8 2.18e-01    -  1.00e+00 1.00e+00h  1\n",
      "  21r 1.5916594e+02 1.92e+00 2.74e+01  -1.6 2.69e-01    -  8.71e-01 9.86e-01f  1\n",
      "  22r 2.0819506e+02 1.57e+00 1.10e+03  -0.9 1.25e+01    -  1.00e+00 1.36e-01f  1\n",
      "  23r 2.0188820e+02 1.07e+00 1.16e+03  -1.4 9.94e-01    -  1.63e-01 1.00e+00h  1\n",
      "  24r 2.2614722e+02 1.98e+00 6.15e+02  -1.4 3.79e+00    -  4.26e-01 6.64e-01f  1\n",
      "  25r 2.7765284e+02 1.14e+00 4.09e+00  -1.4 2.01e+00    -  1.00e+00 1.00e+00H  1\n",
      "  26r 2.7621977e+02 1.15e+00 3.35e+01  -1.1 2.14e+00    -  8.26e-01 1.00e+00f  1\n",
      "  27r 2.0780088e+02 1.15e+00 8.76e+00  -1.2 3.79e+00    -  9.67e-01 1.00e+00H  1\n",
      "  28r 2.2840591e+02 1.29e+00 1.47e+01  -1.2 2.32e+00    -  1.00e+00 8.53e-01f  1\n",
      "  29r 2.3513443e+02 1.54e+00 5.66e-01  -1.2 6.93e-01    -  1.00e+00 1.00e+00f  1\n",
      "iter    objective    inf_pr   inf_du lg(mu)  ||d||  lg(rg) alpha_du alpha_pr  ls\n",
      "  30r 2.3729052e+02 1.57e+00 2.09e+00  -1.9 2.56e-01    -  9.88e-01 1.00e+00h  1\n",
      "  31r 2.3971180e+02 1.36e+00 5.81e+02  -1.0 1.86e+01    -  7.44e-01 3.66e-02f  1\n",
      "  32r 2.0015273e+02 1.40e+00 9.22e+00  -1.8 1.99e+00    -  9.85e-01 1.00e+00H  1\n",
      "  33r 2.3952632e+02 1.39e+00 4.39e+02  -1.5 1.01e+01    -  1.00e+00 1.77e-01f  1\n",
      "  34r 3.4110784e+02 1.54e+00 1.25e+01  -1.8 3.35e+00    -  9.53e-01 1.00e+00H  1\n",
      "  35r 4.1977779e+02 1.19e+00 2.60e+01  -1.8 4.28e+00    -  7.42e-01 5.90e-01f  1\n",
      "  36r 4.8919897e+02 1.40e+00 2.03e+01  -1.8 1.79e+00    -  3.08e-01 1.00e+00H  1\n",
      "  37r 4.7625166e+02 1.26e+00 5.36e-01  -2.0 5.16e-01    -  1.00e+00 1.00e+00f  1\n",
      "  38r 6.2928421e+02 1.65e+00 2.20e+00  -2.1 3.85e+00    -  1.00e+00 9.95e-01f  1\n",
      "  39r 8.0469870e+02 1.62e+00 3.41e-01  -2.1 3.63e+00    -  1.00e+00 1.00e+00h  1\n",
      "iter    objective    inf_pr   inf_du lg(mu)  ||d||  lg(rg) alpha_du alpha_pr  ls\n",
      "  40r 7.9743391e+02 1.61e+00 1.05e-01  -2.1 2.92e-01    -  1.00e+00 1.00e+00h  1\n",
      "  41r 8.0129501e+02 1.61e+00 3.83e+01  -3.1 4.78e-01    -  6.91e-01 9.19e-01f  1\n",
      "  42r 1.0947856e+03 1.92e+00 3.38e+01  -3.1 1.61e+01    -  2.62e-01 3.00e-01f  1\n",
      "  43r 1.1458080e+03 1.97e+00 2.51e+01  -3.1 5.15e+01    -  8.68e-02 1.57e-02f  1\n",
      "  44r 1.2587106e+03 2.08e+00 3.28e+01  -3.1 4.83e+01    -  9.11e-02 3.12e-02f  1\n",
      "  45r 1.6274524e+03 2.41e+00 4.73e+01  -3.1 4.52e+01    -  1.55e-01 9.65e-02f  1\n",
      "  46r 1.6979338e+03 2.47e+00 1.06e+02  -3.1 4.15e+01    -  3.48e-01 1.86e-02f  3\n",
      "  47r 1.7385127e+03 2.50e+00 1.05e+02  -3.1 4.18e+01    -  1.10e-02 1.10e-02s 19\n",
      "  48r 2.1729851e+03 2.81e+00 9.08e+01  -3.1 4.10e+01    -  1.36e-01 1.36e-01s 19\n",
      "  49r 2.2332911e+03 2.85e+00 8.90e+01  -3.1 3.50e+01    -  1.94e-02 1.94e-02s 19\n",
      "iter    objective    inf_pr   inf_du lg(mu)  ||d||  lg(rg) alpha_du alpha_pr  ls\n",
      "  50r 2.3287772e+03 2.91e+00 8.62e+01  -3.1 3.45e+01    -  3.15e-02 3.15e-02s 19\n",
      "  51r 2.4028104e+03 2.96e+00 8.41e+01  -3.1 3.34e+01    -  2.47e-02 2.47e-02s 19\n",
      "  52r 2.6318778e+03 3.10e+00 7.77e+01  -3.1 3.26e+01    -  7.61e-02 7.61e-02s 19\n",
      "  53r 2.9917105e+03 3.31e+00 6.83e+01  -3.1 2.99e+01    -  1.21e-01 1.21e-01s 19\n",
      "  54r 3.1958747e+03 3.43e+00 6.32e+01  -3.1 2.62e+01    -  7.42e-02 7.42e-02s 19\n",
      "  55r 3.2073215e+03 3.43e+00 6.29e+01  -3.1 2.42e+01    -  4.43e-03 4.43e-03s 19\n",
      "  56r 3.2130641e+03 3.44e+00 6.28e+01  -3.1 2.39e+01    -  2.26e-03 2.26e-03s 19\n",
      "  57r 3.2312929e+03 3.44e+00 6.23e+01  -3.1 2.39e+01    -  7.20e-03 7.20e-03s 19\n",
      "  58r 3.2312929e+03 3.44e+00 1.77e+00  -3.1 2.37e+01    -  0.00e+00 0.00e+00R  1\n",
      "  59r 3.2497419e+03 3.45e+00 7.51e+01  -3.1 2.37e+01    -  1.00e+00 7.38e-03f  1\n",
      "iter    objective    inf_pr   inf_du lg(mu)  ||d||  lg(rg) alpha_du alpha_pr  ls\n",
      "  60r 3.4634315e+03 3.58e+00 5.75e+02  -3.1 2.29e+01    -  1.00e+00 1.01e-01f  1\n",
      "  61r 5.2604256e+03 4.52e+00 8.22e+01  -3.1 2.06e+01    -  1.00e+00 8.82e-01H  1\n",
      "  62r 5.5632801e+03 4.66e+00 9.89e-01  -3.1 2.26e+00    -  1.00e+00 9.92e-01H  1\n",
      "  63r 5.5605822e+03 4.66e+00 5.50e-03  -3.1 2.83e-02    -  1.00e+00 1.00e+00h  1\n",
      "  64r 5.5607229e+03 4.66e+00 2.25e+01  -4.7 4.56e-03    -  1.00e+00 8.54e-01f  1\n",
      "  65r 1.1847227e+04 7.26e+00 2.73e+02  -4.7 6.28e+01    -  1.83e-01 3.98e-01f  1\n",
      "  66r 1.1858685e+04 7.26e+00 2.73e+02  -4.7 2.37e+02    -  1.63e-04 1.63e-04s 21\n",
      "  67r 1.1858685e+04 7.26e+00 1.82e+00  -4.7 2.75e+02    -  0.00e+00 0.00e+00R  1\n",
      "  68r 1.7691345e+04 8.86e+00 9.67e+01  -4.7 2.74e+02    -  4.19e-07 9.53e-02f  1\n",
      "  69r 1.7696296e+04 8.86e+00 8.10e+01  -4.7 3.24e+02    -  8.43e-02 6.74e-05f  1\n",
      "iter    objective    inf_pr   inf_du lg(mu)  ||d||  lg(rg) alpha_du alpha_pr  ls\n",
      "  70r 1.7697137e+04 8.86e+00 8.10e+01  -4.7 8.86e+01    -  2.29e-05 2.40e-05f  1\n",
      "  71r 1.7697281e+04 8.86e+00 4.91e+01  -4.7 1.20e+02    -  5.43e-02 9.31e-06f  1\n",
      "  72r 1.9324321e+04 9.25e+00 5.01e+01  -4.7 1.11e+02    -  6.79e-05 9.30e-02f  1\n",
      "  73r 1.9405561e+04 9.27e+00 4.08e+01  -4.7 1.55e+02    -  3.01e-02 4.23e-03f  1\n",
      "  74r 1.9754329e+04 9.35e+00 4.08e+01  -4.7 9.51e+04    -  2.52e-06 2.81e-05f  1\n",
      "  75r 1.9758470e+04 9.35e+00 4.08e+01  -4.7 6.32e+03    -  6.93e-06 3.23e-06f  1\n",
      "  76r 2.0098802e+04 9.44e+00 4.15e+01  -4.7 1.07e+03    -  2.67e-04 1.69e-03f  1\n",
      "  77r 2.0099727e+04 9.44e+00 3.84e+01  -4.7 8.17e+02    -  7.32e-03 5.77e-06f  1\n",
      "  78r 2.0097499e+04 9.43e+00 3.84e+01  -4.7 1.49e+02    -  7.59e-05 1.06e-04f  1\n",
      "  79r 2.0131188e+04 9.44e+00 3.84e+01  -4.7 8.24e+01    -  4.04e-03 4.76e-03f  1\n",
      "iter    objective    inf_pr   inf_du lg(mu)  ||d||  lg(rg) alpha_du alpha_pr  ls\n",
      "  80r 2.0132788e+04 9.44e+00 3.85e+01  -4.7 2.56e+02    -  8.90e-06 5.01e-05f  1\n",
      "  81r 2.0133125e+04 9.44e+00 3.94e+01  -4.7 6.86e+01    -  4.35e-03 6.99e-05f  1\n",
      "  82r 2.0135722e+04 9.44e+00 3.94e+01  -4.7 1.91e+02    -  6.26e-06 1.01e-04f  1\n",
      "  83r 2.0136847e+04 9.44e+00 3.96e+01  -4.7 2.55e+02    -  6.33e-04 3.15e-05f  1\n",
      "  84r 2.0232541e+04 9.47e+00 3.91e+01  -4.7 6.60e+01    -  6.36e-03 1.62e-02f  1\n",
      "  85r 2.0232538e+04 9.47e+00 4.37e+01  -4.7 3.90e+00    -  1.09e-02 9.10e-04f  1\n",
      "  86r 2.0347929e+04 9.49e+00 4.33e+01  -4.7 8.93e+01    -  7.87e-03 8.47e-03f  1\n",
      "  87r 2.0348031e+04 9.49e+00 4.33e+01  -4.7 1.13e+02    -  3.60e-04 6.09e-06f  1\n",
      "  88r 2.0348431e+04 9.49e+00 4.33e+01  -4.7 8.96e+01    -  2.51e-04 2.75e-05f  1\n",
      "  89r 2.0510472e+04 9.53e+00 4.23e+01  -4.7 8.78e+01    -  2.00e-04 1.39e-02f  1\n",
      "iter    objective    inf_pr   inf_du lg(mu)  ||d||  lg(rg) alpha_du alpha_pr  ls\n",
      "  90r 2.0514739e+04 9.53e+00 4.29e+01  -4.7 8.71e+01    -  1.31e-02 3.50e-04f  1\n",
      "  91r 2.0521109e+04 9.53e+00 4.29e+01  -4.7 8.92e+01    -  1.30e-05 4.99e-04f  1\n",
      "  92r 2.0622436e+04 9.55e+00 4.37e+01  -4.7 8.73e+01    -  4.10e-02 8.17e-03f  1\n",
      "  93r 2.0622639e+04 9.55e+00 4.41e+01  -4.7 8.97e+01    -  4.66e-03 1.54e-05f  1\n",
      "  94r 2.0995114e+04 9.64e+00 4.03e+01  -4.7 8.90e+01    -  1.12e-04 2.84e-02f  1\n",
      "  95r 2.0995391e+04 9.64e+00 4.14e+01  -4.7 8.60e+01    -  1.21e-02 2.13e-05f  1\n",
      "  96r 2.1400093e+04 9.73e+00 3.75e+01  -4.7 8.62e+01    -  4.51e-05 3.09e-02f  1\n",
      "  97r 2.1400390e+04 9.73e+00 3.84e+01  -4.7 8.31e+01    -  1.12e-02 2.33e-05f  1\n",
      "  98r 2.1851233e+04 9.83e+00 3.82e+01  -4.7 8.35e+01    -  5.22e-05 3.50e-02f  1\n",
      "  99r 2.1851593e+04 9.83e+00 3.65e+01  -4.7 8.03e+01    -  1.15e-02 2.88e-05h  1\n",
      "iter    objective    inf_pr   inf_du lg(mu)  ||d||  lg(rg) alpha_du alpha_pr  ls\n",
      " 100r 2.2387892e+04 9.94e+00 4.11e+01  -4.7 8.09e+01    -  7.03e-05 4.23e-02f  1\n",
      " 101r 2.2387892e+04 9.94e+00 2.17e+00  -4.7 7.72e+01    -  0.00e+00 2.72e-07R  8\n",
      " 102r 2.2388318e+04 9.94e+00 5.69e+00  -4.7 7.72e+01    -  1.41e-02 3.48e-05f  1\n",
      " 103r 2.3025500e+04 1.01e+01 1.49e+01  -4.7 7.77e+01    -  1.24e-04 5.10e-02f  1\n",
      " 104r 2.3025996e+04 1.01e+01 8.75e+00  -4.7 7.36e+01    -  1.59e-02 4.15e-05f  1\n",
      " 105r 2.3781439e+04 1.02e+01 3.24e+01  -4.7 7.40e+01    -  5.05e-04 6.23e-02f  1\n",
      " 106r 2.3782019e+04 1.02e+01 2.57e+01  -4.7 6.92e+01    -  1.70e-02 5.04e-05f  1\n",
      " 107r 2.4690991e+04 1.04e+01 3.98e+01  -4.7 6.95e+01    -  3.61e-02 7.78e-02f  1\n",
      " 108r 2.4691641e+04 1.04e+01 3.98e+01  -4.7 6.80e+01    -  4.80e-05 6.14e-05f  1\n",
      " 109r 2.4709880e+04 1.04e+01 3.99e+01  -4.7 4.04e+02    -  5.88e-05 3.14e-04f  1\n",
      "iter    objective    inf_pr   inf_du lg(mu)  ||d||  lg(rg) alpha_du alpha_pr  ls\n",
      " 110r 2.4840124e+04 1.05e+01 4.04e+01  -4.7 6.14e+02    -  1.09e-04 1.41e-03f  1\n",
      " 111r 2.4840457e+04 1.05e+01 3.75e+01  -4.7 5.16e+02    -  7.71e-03 4.36e-06f  1\n",
      " 112r 2.4839069e+04 1.05e+01 7.58e+01  -4.7 2.99e+00    -  2.91e-03 2.46e-02f  1\n",
      " 113r 2.4919629e+04 1.05e+01 5.98e+01  -4.7 7.64e+01    -  1.17e-01 6.06e-03f  1\n",
      " 114r 2.5255207e+04 1.05e+01 6.66e+01  -4.7 6.35e+01    -  1.29e-04 3.09e-02f  1\n",
      " 115r 2.5255413e+04 1.05e+01 6.57e+01  -4.7 8.11e+01    -  2.27e-03 2.21e-05f  1\n",
      " 116r 2.5222898e+04 1.05e+01 6.57e+01  -4.7 5.13e+02    -  4.28e-05 8.62e-04f  1\n",
      " 117r 2.5223026e+04 1.05e+01 6.57e+01  -4.7 1.75e+02    -  2.36e-04 8.67e-06f  1\n",
      " 118r 2.5473714e+04 1.06e+01 6.82e+01  -4.7 6.75e+01    -  7.68e-04 2.00e-02f  1\n",
      " 119r 2.5482845e+04 1.06e+01 6.10e+01  -4.7 6.06e+01    -  3.03e-02 8.81e-04f  1\n",
      "iter    objective    inf_pr   inf_du lg(mu)  ||d||  lg(rg) alpha_du alpha_pr  ls\n",
      " 120r 2.6252541e+04 1.07e+01 5.80e+01  -4.7 5.76e+01    -  6.52e-02 7.15e-02f  1\n",
      " 121r 2.6760854e+04 1.08e+01 6.47e+01  -4.7 5.43e+01    -  5.67e-05 4.93e-02f  1\n",
      " 122r 2.6761085e+04 1.08e+01 6.45e+01  -4.7 7.52e+01    -  7.53e-04 1.46e-05f  1\n",
      " 123r 2.7544189e+04 1.10e+01 6.25e+01  -4.7 3.37e+02    -  2.86e-02 3.42e-02f  1\n",
      " 124r 2.7608323e+04 1.10e+01 6.15e+01  -4.7 9.95e+01    -  2.00e-03 5.34e-03f  1\n",
      " 125r 2.7608376e+04 1.10e+01 6.17e+01  -4.7 1.42e+02    -  6.23e-04 2.94e-06f  1\n",
      " 126r 2.7668556e+04 1.10e+01 4.69e+01  -4.7 4.07e+01    -  1.67e-01 1.15e-02f  1\n",
      " 127r 2.7666312e+04 1.10e+01 9.02e+01  -4.7 2.31e+00    -  1.07e-02 3.95e-02f  1\n",
      " 128r 2.7786180e+04 1.10e+01 7.94e+01  -4.7 4.44e+01    -  8.07e-02 1.38e-02f  1\n",
      " 129r 2.7839303e+04 1.11e+01 7.51e+01  -4.7 4.82e+01    -  5.82e-02 5.78e-03f  1\n",
      "iter    objective    inf_pr   inf_du lg(mu)  ||d||  lg(rg) alpha_du alpha_pr  ls\n",
      " 130r 2.7917216e+04 1.11e+01 6.96e+01  -4.7 4.62e+01    -  2.92e-02 8.82e-03f  1\n",
      " 131r 2.9372837e+04 1.13e+01 9.07e+01  -4.7 4.57e+01    -  4.47e-01 1.63e-01f  1\n",
      " 132r 2.9438827e+04 1.14e+01 1.77e+02  -4.7 3.81e+01    -  8.08e-01 8.76e-03f  1\n",
      " 133r 2.9444658e+04 1.14e+01 1.97e+02  -4.7 3.73e+01    -  9.26e-01 7.94e-04f  1\n",
      " 134r 2.9436764e+04 1.14e+01 2.67e+02  -4.7 1.05e+01    -  1.00e+00 8.65e-03f  1\n",
      " 135r 2.7462788e+04 1.09e+01 4.24e+01  -4.7 1.11e+01    -  1.00e+00 8.49e-01f  1\n",
      " 136r 2.7035693e+04 1.07e+01 6.57e-02  -4.7 1.48e+00    -  1.00e+00 9.99e-01f  1\n",
      " 137r 2.7030426e+04 1.07e+01 3.79e-02  -4.7 1.14e-01    -  1.00e+00 9.99e-01f  1\n",
      "\n",
      "Number of Iterations....: 137\n",
      "\n",
      "                                   (scaled)                 (unscaled)\n",
      "Objective...............:   2.7030529830681979e+04    2.7030529830681979e+04\n",
      "Dual infeasibility......:   1.3027960189851322e+02    1.3027960189851322e+02\n",
      "Constraint violation....:   1.0743553207491882e+01    1.0743553207491882e+01\n",
      "Complementarity.........:   1.9323134462651796e-05    1.9323134462651796e-05\n",
      "Overall NLP error.......:   7.0197092892307907e+01    1.3027960189851322e+02\n",
      "\n",
      "\n",
      "Number of objective function evaluations             = 244\n",
      "Number of objective gradient evaluations             = 3\n",
      "Number of equality constraint evaluations            = 246\n",
      "Number of inequality constraint evaluations          = 0\n",
      "Number of equality constraint Jacobian evaluations   = 142\n",
      "Number of inequality constraint Jacobian evaluations = 0\n",
      "Number of Lagrangian Hessian evaluations             = 0\n",
      "Total CPU secs in IPOPT (w/o function evaluations)   =     75.870\n",
      "Total CPU secs in NLP function evaluations           =      4.666\n",
      "\n",
      "EXIT: Converged to a point of local infeasibility. Problem may be infeasible.\n"
     ]
    },
    {
     "data": {
      "text/plain": [
       "([-0.24999999833772013, 0.4035534520716734, 0.17453292512236723, -5.911118365939537e-10, 4.692409784284352e-8, -0.5000000003698846, 0.04999999998361138, 9.980701286946877e-11, -2.999999980898347, -1.6835822986299908e-11  …  1.8718249965293496e-8, -0.499999999244163, 2.2556878818588898e-8, 4.938458702588705e-10, 1.1275448736841334e-9, -2.7374707149872375e-11, -4.443594686442027e-11, -1.3678627895883782e-10, -1.1667151529654125e-10, -2.257289372960156e-9], Ipopt.Optimizer)"
      ]
     },
     "execution_count": 6,
     "metadata": {},
     "output_type": "execute_result"
    }
   ],
   "source": [
    "Z0 = packZ(nlp, Xguess, Uguess);\n",
    "# nlp = HybridNLP(model, obj, init_mode, tf, N, Xref[1], Xref[end], use_sparse_jacobian=false);\n",
    "\n",
    "# Z_sol, solver = solve(Z0, nlp, c_tol=1e-6, tol=1e-6)\n",
    "Z_sol, solver = solve(Z0, nlp, c_tol=1e-4, tol=1e-2)"
   ]
  },
  {
   "cell_type": "code",
   "execution_count": 7,
   "metadata": {},
   "outputs": [
    {
     "data": {
      "text/plain": [
       "14-element Vector{Float64}:\n",
       "  1.6622798693077812e-9\n",
       "  6.147839964887325e-8\n",
       " -7.706571492072101e-11\n",
       " -5.911118365939537e-10\n",
       "  4.692409784284352e-8\n",
       " -3.6988456741937625e-10\n",
       " -1.6388619628049383e-11\n",
       "  9.980701286946877e-11\n",
       "  1.910165314811252e-8\n",
       " -1.6835822986299908e-11\n",
       "  4.199556529017935e-11\n",
       "  7.19147319472313e-9\n",
       " -1.3819512912337204e-11\n",
       " -1.0160273215970499e-10"
      ]
     },
     "execution_count": 7,
     "metadata": {},
     "output_type": "execute_result"
    }
   ],
   "source": [
    "Z_sol[1:14] - xinit"
   ]
  },
  {
   "cell_type": "code",
   "execution_count": 8,
   "metadata": {},
   "outputs": [
    {
     "data": {
      "text/plain": [
       "14-element Vector{Float64}:\n",
       " -1.9126585315554223e-9\n",
       " -6.139759450851656e-8\n",
       "  7.577089961220423e-11\n",
       "  4.5692056331898117e-10\n",
       "  1.8718249965293496e-8\n",
       "  7.558370040960938e-10\n",
       "  2.2556878818588898e-8\n",
       "  4.938458702588705e-10\n",
       "  1.1275448736841334e-9\n",
       " -2.7374707149872375e-11\n",
       " -4.443594686442027e-11\n",
       " -1.3678627895883782e-10\n",
       " -1.1667151529654125e-10\n",
       " -2.257289372960156e-9"
      ]
     },
     "execution_count": 8,
     "metadata": {},
     "output_type": "execute_result"
    }
   ],
   "source": [
    "Z_sol[end-13:end] - xterm"
   ]
  },
  {
   "cell_type": "markdown",
   "metadata": {},
   "source": [
    "EXIT: Restoration failed!\n",
    "\n",
    "EXIT: Converged to a point of local infeasibility. Problem may be infeasible."
   ]
  },
  {
   "cell_type": "code",
   "execution_count": 9,
   "metadata": {},
   "outputs": [],
   "source": [
    "# # display(Z_sol)\n",
    "# using DelimitedFiles\n",
    "# using CSV\n",
    "# writedlm( \"data.csv\",  Z_sol, ',')"
   ]
  },
  {
   "cell_type": "code",
   "execution_count": null,
   "metadata": {},
   "outputs": [],
   "source": []
  }
 ],
 "metadata": {
  "@webio": {
   "lastCommId": "06ae0ce534004235b788f1a5d0a7d59a",
   "lastKernelId": "320b288e-2315-4364-93b6-7c10c2dfbcc7"
  },
  "kernelspec": {
   "display_name": "Julia 1.6.5",
   "language": "julia",
   "name": "julia-1.6"
  },
  "language_info": {
   "file_extension": ".jl",
   "mimetype": "application/julia",
   "name": "julia",
   "version": "1.6.5"
  }
 },
 "nbformat": 4,
 "nbformat_minor": 4
}
