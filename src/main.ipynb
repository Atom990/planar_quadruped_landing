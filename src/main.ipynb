{
 "cells": [
  {
   "cell_type": "code",
   "execution_count": 1,
   "metadata": {},
   "outputs": [
    {
     "name": "stderr",
     "output_type": "stream",
     "text": [
      "\u001b[32m\u001b[1m  Activating\u001b[22m\u001b[39m environment at `~/planar_quadruped_landing/Project.toml`\n"
     ]
    }
   ],
   "source": [
    "import Pkg; Pkg.activate(joinpath(@__DIR__,\"..\")); Pkg.instantiate()\n",
    "using LinearAlgebra\n",
    "using ForwardDiff\n",
    "using RobotDynamics\n",
    "using Ipopt\n",
    "using MathOptInterface\n",
    "using TrajOptPlots\n",
    "const MOI = MathOptInterface\n",
    "using Random"
   ]
  },
  {
   "cell_type": "code",
   "execution_count": 21,
   "metadata": {},
   "outputs": [
    {
     "data": {
      "text/plain": [
       "reference_trajectory"
      ]
     },
     "metadata": {},
     "output_type": "display_data"
    }
   ],
   "source": [
    "include(\"quadratic_cost.jl\")\n",
    "include(\"planar_quadruped.jl\")\n",
    "include(\"sparseblocks.jl\")\n",
    "include(\"utils.jl\")\n",
    "include(\"nlp.jl\")\n",
    "include(\"moi.jl\")\n",
    "include(\"costs.jl\")\n",
    "include(\"constraints.jl\")\n",
    "include(\"ref_traj.jl\")"
   ]
  },
  {
   "cell_type": "markdown",
   "metadata": {},
   "source": [
    "## Reference Trajectory"
   ]
  },
  {
   "cell_type": "markdown",
   "metadata": {},
   "source": [
    "## Problem Definition"
   ]
  },
  {
   "cell_type": "code",
   "execution_count": 22,
   "metadata": {},
   "outputs": [],
   "source": [
    "# Dynamics model\n",
    "model = PlanarQuadruped()\n",
    "g, mb, lb, l1, l2 = model.g, model.mb, model.lb, model.l1, model.l2\n",
    "\n",
    "# Discretization\n",
    "tf = 0.6\n",
    "dt = 0.02\n",
    "N = Int(ceil(tf/dt)) + 1\n",
    "times = range(0,tf, length=N)\n",
    "t_trans = 0.2\n",
    "\n",
    "n = 14\n",
    "m = 4\n",
    "\n",
    "# Initial Conditions\n",
    "# currently, we assume the initial mode ID is 1\n",
    "# xinit = [-0.4;0.6;-3.1415/9;        0.0;0.0; -1.0;0.2; 0.0;-0.5;0.0; 0.0;0.0; 0.0;-0.5]\n",
    "# xterm = [-lb/2;sqrt(l1^2+l2^2);0.0; 0.0;0.0; -lb;0.0;  0.0;0.0;0.0;  0.0;0.0; 0.0;0.0]\n",
    "xinit = zeros(n)\n",
    "xinit[1] = -lb/2                  # xb\n",
    "xinit[2] = sqrt(l1^2+l2^2) + 0.05 # yb\n",
    "xinit[3] = 10 * pi / 180          # theta\n",
    "xinit[6] = -lb                    # x2\n",
    "xinit[7] = 0.05                   # y2\n",
    "xinit[9] = -4.0                   # yb_dot\n",
    "xinit[12] = -4.0                  # y2_dot\n",
    "\n",
    "xterm = zeros(n)\n",
    "xterm[1] = -lb/2           # xb\n",
    "xterm[2] = sqrt(l1^2+l2^2) # yb\n",
    "xterm[6] = -lb             # x2\n",
    "\n",
    "init_mode = 1\n",
    "\n",
    "# Reference Trajectory\n",
    "Xref, Uref = reference_trajectory(model, times, t_trans, xinit, xterm, init_mode)\n",
    "\n",
    "# Objective\n",
    "Random.seed!(1)\n",
    "Q = Diagonal([1.0;1.0;1.0; 1.0;1.0; 1.0;1.0; 1.0;1.0;1.0; 1.0;1.0; 1.0;1.0])\n",
    "R = Diagonal(fill(1e-3,4))\n",
    "Qf = Q\n",
    "\n",
    "obj = map(1:N-1) do k\n",
    "    LQRCost(Q,R,Xref[k],Uref[k])\n",
    "end\n",
    "push!(obj, LQRCost(Qf, R*0, Xref[N], Uref[1]))\n",
    "\n",
    "# Define the NLP\n",
    "nlp = HybridNLP(model, obj, init_mode, tf, N, Xref[1], Xref[end]);"
   ]
  },
  {
   "cell_type": "markdown",
   "metadata": {},
   "source": [
    "## Solve"
   ]
  },
  {
   "cell_type": "code",
   "execution_count": 23,
   "metadata": {},
   "outputs": [],
   "source": [
    "# Initial guess\n",
    "Random.seed!(1)\n",
    "Xguess = [x + 0.1*randn(length(x)) for x in Xref]\n",
    "Uguess = [u + 0.1*randn(length(u)) for u in Uref]\n",
    "Z0 = packZ(nlp, Xguess, Uguess);\n",
    "# nlp = HybridNLP(model, obj, init_mode, tf, N, Xref[1], Xref[end], use_sparse_jacobian=false);"
   ]
  },
  {
   "cell_type": "code",
   "execution_count": 26,
   "metadata": {},
   "outputs": [
    {
     "name": "stdout",
     "output_type": "stream",
     "text": [
      "Creating NLP Block Data...\n",
      "Creating Ipopt...\n",
      "Adding constraints...\n",
      "starting Ipopt Solve...\n"
     ]
    },
    {
     "name": "stdout",
     "output_type": "stream",
     "text": [
      "This is Ipopt version 3.13.4, running with linear solver mumps.\n",
      "NOTE: Other linear solvers might be more efficient (see Ipopt documentation).\n",
      "\n",
      "Number of nonzeros in equality constraint Jacobian...:   248192\n",
      "Number of nonzeros in inequality constraint Jacobian.:        0\n",
      "Number of nonzeros in Lagrangian Hessian.............:        0\n",
      "\n",
      "Total number of variables............................:      554\n",
      "                     variables with only lower bounds:        0\n",
      "                variables with lower and upper bounds:        0\n",
      "                     variables with only upper bounds:        0\n",
      "Total number of equality constraints.................:      552\n",
      "Total number of inequality constraints...............:       62\n",
      "        inequality constraints with only lower bounds:        0\n",
      "   inequality constraints with lower and upper bounds:       62\n",
      "        inequality constraints with only upper bounds:        0\n",
      "\n",
      "iter    objective    inf_pr   inf_du lg(mu)  ||d||  lg(rg) alpha_du alpha_pr  ls\n",
      "   0  2.2954330e+00 4.34e+00 4.05e-01   0.0 0.00e+00    -  0.00e+00 0.00e+00   0\n",
      "   1  5.9581867e+04 1.51e+01 2.48e+04  -1.9 2.47e+02    -  9.97e-01 9.90e-01h  1\n",
      "   2  9.9973735e+03 3.52e+01 1.96e+04  -2.2 2.39e+02    -  1.00e+00 9.94e-01f  1\n",
      "   3  5.9266148e+03 7.96e+00 3.71e+03  -2.6 5.26e+01    -  1.00e+00 1.00e+00f  1\n",
      "   4  3.4961562e+03 2.24e+00 9.42e+02  -3.4 6.97e+01    -  1.00e+00 1.00e+00f  1\n",
      "   5  2.1774951e+03 2.90e-01 2.95e+02  -5.4 6.80e+01    -  1.00e+00 1.00e+00f  1\n",
      "   6  1.6657512e+03 1.16e+00 2.17e+02  -7.3 6.07e+01    -  1.00e+00 1.00e+00f  1\n",
      "   7  1.6177707e+03 1.74e+00 1.56e+02  -9.2 5.89e+01    -  1.00e+00 1.00e+00f  1\n",
      "   8  1.4284821e+03 5.25e-02 8.03e+01 -11.0 1.88e+01    -  1.00e+00 1.00e+00f  1\n",
      "   9  1.3905747e+03 3.17e-02 2.87e+01 -11.0 1.14e+01    -  1.00e+00 1.00e+00f  1\n",
      "iter    objective    inf_pr   inf_du lg(mu)  ||d||  lg(rg) alpha_du alpha_pr  ls\n",
      "  10  1.3426775e+03 7.53e-02 3.23e+01 -11.0 2.47e+01    -  1.00e+00 1.00e+00f  1\n",
      "  11  1.3365785e+03 1.14e-01 4.92e+02 -11.0 1.21e+02    -  1.00e+00 1.25e-01f  4\n",
      "  12  1.3062152e+03 6.25e-02 2.87e+01 -11.0 1.80e+01    -  1.00e+00 1.00e+00f  1\n",
      "  13  1.3317824e+03 1.30e-02 1.73e+02 -11.0 4.15e+01    -  8.47e-01 1.00e+00H  1\n",
      "  14  1.2559709e+03 3.72e-01 7.22e+02  -9.3 3.27e+01    -  1.30e-02 1.00e+00f  1\n",
      "  15  1.5095279e+03 3.03e-01 7.55e+01  -9.0 3.44e+01    -  1.00e+00 1.00e+00H  1\n",
      "  16  1.2289143e+03 6.29e-01 2.36e+01  -8.0 2.43e+01    -  1.00e+00 1.00e+00f  1\n",
      "  17  1.2281048e+03 4.43e-02 6.40e+00  -9.9 8.48e+00    -  1.00e+00 1.00e+00f  1\n",
      "  18  1.2234141e+03 2.21e-01 5.87e+01 -11.0 4.79e+01    -  1.00e+00 1.00e+00f  1\n",
      "  19  1.8822042e+03 9.70e-03 1.32e+02 -11.0 7.51e+01    -  1.00e+00 1.00e+00H  1\n",
      "iter    objective    inf_pr   inf_du lg(mu)  ||d||  lg(rg) alpha_du alpha_pr  ls\n",
      "  20  1.2156887e+03 1.45e+00 2.85e+01 -11.0 8.29e+01    -  1.00e+00 1.00e+00f  1\n",
      "  21  1.4861445e+03 2.72e+00 1.48e+01 -11.0 5.23e+01    -  1.00e+00 1.00e+00h  1\n",
      "  22  1.2248984e+03 2.79e+00 3.61e+01 -11.0 5.56e+01    -  1.00e+00 1.00e+00f  1\n",
      "  23  1.3000155e+03 7.39e-01 5.72e+01 -11.0 2.60e+01    -  1.00e+00 1.00e+00h  1\n",
      "  24  1.2129693e+03 3.94e-01 1.75e+01 -11.0 1.63e+01    -  1.00e+00 1.00e+00f  1\n",
      "  25  1.2106874e+03 1.43e-02 4.02e+00 -11.0 4.18e+00    -  1.00e+00 1.00e+00f  1\n",
      "  26  1.2092108e+03 9.62e-03 2.18e+00 -11.0 2.29e+00    -  1.00e+00 1.00e+00f  1\n",
      "  27  1.2089208e+03 7.82e-05 1.10e+00 -11.0 1.17e+00    -  1.00e+00 1.00e+00f  1\n",
      "  28  1.2079573e+03 7.03e-03 8.39e+00 -11.0 8.46e+00    -  1.00e+00 1.00e+00f  1\n",
      "  29  1.2228602e+03 5.20e-04 3.32e+01 -11.0 2.82e+01    -  1.00e+00 1.00e+00H  1\n",
      "iter    objective    inf_pr   inf_du lg(mu)  ||d||  lg(rg) alpha_du alpha_pr  ls\n",
      "  30  1.2077223e+03 7.22e-02 2.30e+01 -11.0 1.35e+01    -  1.00e+00 1.00e+00f  1\n",
      "  31  1.2064528e+03 6.70e-03 9.14e+00 -11.0 5.77e+00    -  1.00e+00 1.00e+00f  1\n",
      "  32  1.2066802e+03 1.05e-04 8.29e+00 -11.0 4.29e+00    -  1.00e+00 1.00e+00H  1\n",
      "  33  1.2055185e+03 1.87e-03 1.78e+00 -11.0 4.96e+00    -  1.00e+00 1.00e+00f  1\n",
      "  34  1.2068469e+03 1.24e-03 2.99e+00 -11.0 3.42e+00    -  1.00e+00 1.00e+00h  1\n",
      "  35  1.2054841e+03 1.19e-03 1.83e-01 -11.0 2.85e+00    -  1.00e+00 1.00e+00f  1\n",
      "  36  1.2054702e+03 1.19e-05 1.55e-01 -11.0 1.50e-01    -  1.00e+00 1.00e+00h  1\n",
      "  37  1.2054442e+03 1.14e-03 2.85e+00 -11.0 6.10e+00    -  1.00e+00 5.00e-01f  2\n",
      "  38  1.2054049e+03 9.08e-04 5.83e+00 -11.0 7.02e+00    -  1.00e+00 5.00e-01f  2\n",
      "  39  1.2054026e+03 7.46e-04 7.51e+00 -11.0 7.89e+00    -  1.00e+00 2.50e-01f  3\n",
      "iter    objective    inf_pr   inf_du lg(mu)  ||d||  lg(rg) alpha_du alpha_pr  ls\n",
      "  40  1.2052934e+03 5.56e-04 4.81e+00 -11.0 1.68e+00    -  1.00e+00 5.00e-01f  2\n",
      "  41  1.2052860e+03 3.34e-04 1.17e+00 -11.0 1.56e+00    -  1.00e+00 1.00e+00f  1\n",
      "  42  1.2052529e+03 5.70e-04 8.58e-01 -11.0 1.19e+00    -  1.00e+00 5.00e-01f  2\n",
      "  43  1.2052321e+03 2.07e-04 3.53e-01 -11.0 5.46e-01    -  1.00e+00 1.00e+00f  1\n",
      "  44  1.2052273e+03 2.76e-05 2.53e-01 -11.0 3.23e-01    -  1.00e+00 1.00e+00h  1\n",
      "  45  1.2052272e+03 2.87e-05 4.37e-01 -11.0 2.99e-01    -  1.00e+00 1.00e+00h  1\n",
      "  46  1.2052239e+03 1.22e-05 4.87e-01 -11.0 2.06e-01    -  1.00e+00 1.00e+00f  1\n",
      "  47  1.2052209e+03 3.82e-06 1.51e-01 -11.0 1.35e-01    -  1.00e+00 1.00e+00h  1\n",
      "  48  1.2052201e+03 8.34e-07 1.16e-01 -11.0 1.15e-01    -  1.00e+00 1.00e+00h  1\n",
      "  49  1.2052196e+03 3.46e-06 3.37e-01 -11.0 7.14e-01    -  1.00e+00 2.50e-01h  3\n",
      "iter    objective    inf_pr   inf_du lg(mu)  ||d||  lg(rg) alpha_du alpha_pr  ls\n",
      "  50  1.2052192e+03 1.02e-05 5.91e-01 -11.0 1.34e+00    -  1.00e+00 1.25e-01h  4\n",
      "  51  1.2052262e+03 5.01e-09 1.01e+00 -11.0 5.19e-01    -  1.00e+00 1.00e+00H  1\n",
      "  52  1.2052236e+03 1.55e-05 4.72e-01 -11.0 2.21e-01    -  1.00e+00 1.00e+00f  1\n",
      "  53  1.2052205e+03 4.56e-06 5.30e-01 -11.0 3.86e-01    -  1.00e+00 1.00e+00f  1\n",
      "  54  1.2052194e+03 2.04e-06 1.19e-01 -11.0 2.33e-01    -  1.00e+00 1.00e+00h  1\n",
      "  55  1.2052187e+03 6.41e-06 2.10e-01 -11.0 1.13e-01    -  1.00e+00 1.00e+00h  1\n",
      "  56  1.2052184e+03 4.82e-06 7.15e-02 -11.0 1.27e-01    -  1.00e+00 1.00e+00h  1\n",
      "  57  1.2052187e+03 1.73e-09 1.41e-01 -11.0 8.40e-02    -  1.00e+00 1.00e+00H  1\n",
      "  58  1.2052179e+03 8.01e-06 1.70e-02 -11.0 6.04e-02    -  1.00e+00 1.00e+00f  1\n",
      "  59  1.2052180e+03 1.08e-06 5.80e-02 -11.0 3.66e-02    -  1.00e+00 1.00e+00h  1\n",
      "iter    objective    inf_pr   inf_du lg(mu)  ||d||  lg(rg) alpha_du alpha_pr  ls\n",
      "  60  1.2052179e+03 1.85e-07 8.53e-03 -11.0 2.56e-02    -  1.00e+00 1.00e+00h  1\n",
      "\n",
      "Number of Iterations....: 60\n",
      "\n",
      "                                   (scaled)                 (unscaled)\n",
      "Objective...............:   1.2052178606535588e+03    1.2052178606535588e+03\n",
      "Dual infeasibility......:   8.5251127649619285e-03    8.5251127649619285e-03\n",
      "Constraint violation....:   1.8528123879590908e-07    1.8528123879590908e-07\n",
      "Complementarity.........:   1.0000000000000001e-11    1.0000000000000001e-11\n",
      "Overall NLP error.......:   8.2773582348958045e-03    8.5251127649619285e-03\n",
      "\n",
      "\n",
      "Number of objective function evaluations             = 112\n",
      "Number of objective gradient evaluations             = 61\n",
      "Number of equality constraint evaluations            = 112\n",
      "Number of inequality constraint evaluations          = 112\n",
      "Number of equality constraint Jacobian evaluations   = 61\n",
      "Number of inequality constraint Jacobian evaluations = 61\n",
      "Number of Lagrangian Hessian evaluations             = 0\n",
      "Total CPU secs in IPOPT (w/o function evaluations)   =      7.078\n",
      "Total CPU secs in NLP function evaluations           =      0.537\n",
      "\n",
      "EXIT: Optimal Solution Found.\n"
     ]
    },
    {
     "data": {
      "text/plain": [
       "([-0.2500000000403383, 0.40355339059028017, 0.17453292519965125, 2.01377438093028e-11, 7.906379606575326e-12, -0.4999999999993803, 0.049999999998768724, -4.786701535577055e-12, -4.000000000001525, 9.38639184525435e-14  …  -6.89757525221992e-13, -0.4999999999717209, -6.931201083325183e-13, 1.7095293761140866e-12, -1.116177964217671e-12, 4.350430140123455e-14, -1.465554233291463e-12, 1.144743471340793e-13, -4.838870574448561e-12, 1.1491600260934224e-13], Ipopt.Optimizer)"
      ]
     },
     "metadata": {},
     "output_type": "display_data"
    }
   ],
   "source": [
    "# Z_sol, solver = solve(Z0, nlp, c_tol=1e-6, tol=1e-6)\n",
    "Z_sol, solver = solve(Z0, nlp, c_tol=1e-4, tol=1e-2)"
   ]
  },
  {
   "cell_type": "code",
   "execution_count": 27,
   "metadata": {},
   "outputs": [
    {
     "data": {
      "text/plain": [
       "14-element Vector{Float64}:\n",
       " -4.0338288265218125e-11\n",
       " -2.993605363599272e-12\n",
       "  2.182976022169214e-13\n",
       "  2.01377438093028e-11\n",
       "  7.906379606575326e-12\n",
       "  6.197264923457624e-13\n",
       " -1.231278967672722e-12\n",
       " -4.786701535577055e-12\n",
       " -1.525002346625115e-12\n",
       "  9.38639184525435e-14\n",
       "  2.518573629420131e-12\n",
       "  6.394884621840902e-13\n",
       "  6.703631200362835e-14\n",
       " -2.0538518729654233e-14"
      ]
     },
     "metadata": {},
     "output_type": "display_data"
    }
   ],
   "source": [
    "Z_sol[1:14] - xinit"
   ]
  },
  {
   "cell_type": "code",
   "execution_count": 28,
   "metadata": {},
   "outputs": [
    {
     "data": {
      "text/plain": [
       "14-element Vector{Float64}:\n",
       " -1.786215619858922e-11\n",
       "  8.664902129140728e-12\n",
       " -2.4579221580386657e-13\n",
       "  9.16629713885005e-12\n",
       " -6.89757525221992e-13\n",
       "  2.8279101282890906e-11\n",
       " -6.931201083325183e-13\n",
       "  1.7095293761140866e-12\n",
       " -1.116177964217671e-12\n",
       "  4.350430140123455e-14\n",
       " -1.465554233291463e-12\n",
       "  1.144743471340793e-13\n",
       " -4.838870574448561e-12\n",
       "  1.1491600260934224e-13"
      ]
     },
     "metadata": {},
     "output_type": "display_data"
    }
   ],
   "source": [
    "Z_sol[end-13:end] - xterm"
   ]
  },
  {
   "cell_type": "code",
   "execution_count": 29,
   "metadata": {},
   "outputs": [
    {
     "data": {
      "text/plain": [
       "554-element Vector{Float64}:\n",
       " -0.2500000000403383\n",
       "  0.40355339059028017\n",
       "  0.17453292519965125\n",
       "  2.01377438093028e-11\n",
       "  7.906379606575326e-12\n",
       " -0.4999999999993803\n",
       "  0.049999999998768724\n",
       " -4.786701535577055e-12\n",
       " -4.000000000001525\n",
       "  9.38639184525435e-14\n",
       "  ⋮\n",
       " -0.4999999999717209\n",
       " -6.931201083325183e-13\n",
       "  1.7095293761140866e-12\n",
       " -1.116177964217671e-12\n",
       "  4.350430140123455e-14\n",
       " -1.465554233291463e-12\n",
       "  1.144743471340793e-13\n",
       " -4.838870574448561e-12\n",
       "  1.1491600260934224e-13"
      ]
     },
     "metadata": {},
     "output_type": "display_data"
    }
   ],
   "source": [
    "Z_sol"
   ]
  }
 ],
 "metadata": {
  "@webio": {
   "lastCommId": "06ae0ce534004235b788f1a5d0a7d59a",
   "lastKernelId": "320b288e-2315-4364-93b6-7c10c2dfbcc7"
  },
  "kernelspec": {
   "display_name": "Julia 1.6.6",
   "language": "julia",
   "name": "julia-1.6"
  },
  "language_info": {
   "file_extension": ".jl",
   "mimetype": "application/julia",
   "name": "julia",
   "version": "1.6.6"
  }
 },
 "nbformat": 4,
 "nbformat_minor": 4
}
