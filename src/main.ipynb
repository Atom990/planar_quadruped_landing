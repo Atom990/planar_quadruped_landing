{
 "cells": [
  {
   "cell_type": "code",
   "execution_count": 129,
   "metadata": {},
   "outputs": [
    {
     "name": "stderr",
     "output_type": "stream",
     "text": [
      "\u001b[32m\u001b[1m  Activating\u001b[22m\u001b[39m environment at `~/homework/optimal_control/planar_quadruped_landing/Project.toml`\n"
     ]
    }
   ],
   "source": [
    "import Pkg; Pkg.activate(joinpath(@__DIR__,\"..\")); Pkg.instantiate()\n",
    "using LinearAlgebra\n",
    "using ForwardDiff\n",
    "using RobotDynamics\n",
    "using Ipopt\n",
    "using MathOptInterface\n",
    "using TrajOptPlots\n",
    "const MOI = MathOptInterface\n",
    "using Random"
   ]
  },
  {
   "cell_type": "code",
   "execution_count": 130,
   "metadata": {},
   "outputs": [
    {
     "data": {
      "text/plain": [
       "reference_trajectory"
      ]
     },
     "metadata": {},
     "output_type": "display_data"
    }
   ],
   "source": [
    "include(\"quadratic_cost.jl\")\n",
    "include(\"planar_quadruped.jl\")\n",
    "include(\"sparseblocks.jl\")\n",
    "include(\"utils.jl\")\n",
    "include(\"nlp.jl\")\n",
    "include(\"moi.jl\")\n",
    "include(\"costs.jl\")\n",
    "include(\"constraints.jl\")\n",
    "include(\"ref_traj.jl\")"
   ]
  },
  {
   "cell_type": "markdown",
   "metadata": {},
   "source": [
    "## Reference Trajectory"
   ]
  },
  {
   "cell_type": "markdown",
   "metadata": {},
   "source": [
    "## Problem Definition"
   ]
  },
  {
   "cell_type": "code",
   "execution_count": 131,
   "metadata": {},
   "outputs": [],
   "source": [
    "# Dynamics model\n",
    "model = PlanarQuadruped()\n",
    "g, mb, lb, l1, l2 = model.g, model.mb, model.lb, model.l1, model.l2\n",
    "\n",
    "# Discretization\n",
    "tf = 0.6\n",
    "dt = 0.02\n",
    "N = Int(ceil(tf/dt)) + 1\n",
    "times = range(0,tf, length=N)\n",
    "t_trans = 0.2\n",
    "\n",
    "n = 14\n",
    "m = 4\n",
    "\n",
    "# Initial Conditions\n",
    "# currently, we assume the initial mode ID is 1\n",
    "# xinit = [-0.4;0.6;-3.1415/9;        0.0;0.0; -1.0;0.2; 0.0;-0.5;0.0; 0.0;0.0; 0.0;-0.5]\n",
    "# xterm = [-lb/2;sqrt(l1^2+l2^2);0.0; 0.0;0.0; -lb;0.0;  0.0;0.0;0.0;  0.0;0.0; 0.0;0.0]\n",
    "xinit = zeros(n)\n",
    "xinit[1] = -lb/2                  # xb\n",
    "xinit[2] = sqrt(l1^2+l2^2) + 0.05 # yb\n",
    "xinit[3] = 10 * pi / 180          # theta\n",
    "xinit[6] = -lb                    # x2\n",
    "xinit[7] = 0.05                   # y2\n",
    "xinit[9] = -3.0                   # yb_dot\n",
    "xinit[12] = -3.0                  # y2_dot\n",
    "\n",
    "xterm = zeros(n)\n",
    "xterm[1] = -lb/2           # xb\n",
    "xterm[2] = sqrt(l1^2+l2^2) # yb\n",
    "xterm[6] = -lb             # x2\n",
    "\n",
    "init_mode = 1\n",
    "\n",
    "# Reference Trajectory\n",
    "Xref, Uref = reference_trajectory(model, times, t_trans, xinit, xterm, init_mode)\n",
    "\n",
    "# Objective\n",
    "Random.seed!(1)\n",
    "Q = Diagonal([1.0;1.0;1.0; 1.0;1.0; 1.0;1.0; 1.0;1.0;1.0; 1.0;1.0; 1.0;1.0])\n",
    "R = Diagonal(fill(1e-3,4))\n",
    "Qf = Q\n",
    "\n",
    "obj = map(1:N-1) do k\n",
    "    LQRCost(Q,R,Xref[k],Uref[k])\n",
    "end\n",
    "push!(obj, LQRCost(Qf, R*0, Xref[N], Uref[1]))\n",
    "\n",
    "# Define the NLP\n",
    "nlp = HybridNLP(model, obj, init_mode, tf, N, Xref[1], Xref[end]);"
   ]
  },
  {
   "cell_type": "markdown",
   "metadata": {},
   "source": [
    "## Solve"
   ]
  },
  {
   "cell_type": "code",
   "execution_count": 132,
   "metadata": {},
   "outputs": [
    {
     "data": {
      "text/plain": [
       "4-element Vector{UnitRange{Int64}}:\n",
       " 1:14\n",
       " 15:28\n",
       " 29:448\n",
       " 449:479"
      ]
     },
     "metadata": {},
     "output_type": "display_data"
    }
   ],
   "source": [
    "nlp.cinds"
   ]
  },
  {
   "cell_type": "code",
   "execution_count": 133,
   "metadata": {},
   "outputs": [],
   "source": [
    "# Initial guess\n",
    "xtransit = zeros(n)\n",
    "xtransit[1] = -lb/2                  # xb\n",
    "xtransit[2] = l1 # yb\n",
    "xtransit[3] = 0          # theta\n",
    "xtransit[6] = -lb     \n",
    "Random.seed!(1)\n",
    "Uguess = [u + 0.1*randn(length(u)) for u in Uref]\n",
    "# Uguess = zeros(size(Uref))\n",
    "Xguess = [x + 0.1*randn(length(x)) for x in Xref]\n",
    "               # x2\n",
    "timesteps_phase_1 = Int(t_trans / dt) \n",
    "for i = 1:timesteps_phase_1\n",
    "    Xguess[i] = xinit + (xtransit - xinit)/timesteps_phase_1 * i\n",
    "end\n",
    "# display((xtransit - xinit)/timesteps_phase_1)\n",
    "# @show timesteps_phase_1"
   ]
  },
  {
   "cell_type": "code",
   "execution_count": 134,
   "metadata": {},
   "outputs": [
    {
     "name": "stdout",
     "output_type": "stream",
     "text": [
      "Creating NLP Block Data...\n",
      "Creating Ipopt...\n",
      "Adding constraints...\n",
      "starting Ipopt Solve...\n"
     ]
    },
    {
     "name": "stdout",
     "output_type": "stream",
     "text": [
      "This is Ipopt version 3.13.4, running with linear solver mumps.\n",
      "NOTE: Other linear solvers might be more efficient (see Ipopt documentation).\n",
      "\n",
      "Number of nonzeros in equality constraint Jacobian...:   265366\n",
      "Number of nonzeros in inequality constraint Jacobian.:        0\n",
      "Number of nonzeros in Lagrangian Hessian.............:        0\n",
      "\n",
      "Total number of variables............................:      554\n",
      "                     variables with only lower bounds:        0\n",
      "                variables with lower and upper bounds:        0\n",
      "                     variables with only upper bounds:        0\n",
      "Total number of equality constraints.................:      479\n",
      "Total number of inequality constraints...............:        0\n",
      "        inequality constraints with only lower bounds:        0\n",
      "   inequality constraints with lower and upper bounds:        0\n",
      "        inequality constraints with only upper bounds:        0\n",
      "\n",
      "iter    objective    inf_pr   inf_du lg(mu)  ||d||  lg(rg) alpha_du alpha_pr  ls\n",
      "   0  2.0064669e+01 2.90e+00 2.40e+00   0.0 0.00e+00    -  0.00e+00 0.00e+00   0\n",
      "   1  4.8798046e+04 1.03e+01 2.59e+04 -11.0 2.00e+02    -  1.00e+00 1.00e+00h  1\n",
      "   2  1.4312588e+04 5.42e+00 2.20e+04 -11.0 3.24e+02    -  1.00e+00 5.00e-01f  2\n",
      "   3  3.7617713e+03 2.24e+01 3.65e+03 -11.0 1.99e+02    -  1.00e+00 1.00e+00f  1\n",
      "   4  2.1703473e+03 2.86e+00 1.26e+03 -11.0 8.86e+01    -  1.00e+00 1.00e+00f  1\n",
      "   5  1.4423907e+03 4.64e+00 7.64e+02 -11.0 3.71e+01    -  1.00e+00 1.00e+00f  1\n",
      "   6  1.2708463e+03 7.67e-02 1.28e+02 -11.0 2.04e+01    -  1.00e+00 1.00e+00f  1\n",
      "   7  1.1873941e+03 5.85e-02 1.73e+02 -11.0 3.15e+01    -  1.00e+00 1.00e+00f  1\n",
      "   8  1.1214104e+03 1.68e-01 4.25e+01 -11.0 4.02e+01    -  1.00e+00 1.00e+00f  1\n",
      "   9  1.8220210e+03 5.84e-02 1.40e+02 -11.0 7.84e+01    -  1.00e+00 1.00e+00H  1\n",
      "iter    objective    inf_pr   inf_du lg(mu)  ||d||  lg(rg) alpha_du alpha_pr  ls\n",
      "  10  1.2198731e+03 3.38e-01 1.20e+02 -11.0 9.36e+01    -  1.00e+00 1.00e+00F  1\n",
      "  11  2.0563778e+03 1.46e-01 1.71e+02 -11.0 7.46e+01    -  1.00e+00 1.00e+00H  1\n",
      "  12  1.0665645e+03 2.28e+00 7.35e+01 -11.0 6.12e+01    -  1.00e+00 1.00e+00f  1\n",
      "  13  1.0515853e+03 1.31e+00 3.26e+01 -11.0 3.13e+01    -  1.00e+00 5.00e-01f  2\n",
      "  14  1.0614489e+03 1.30e-01 2.16e+01 -11.0 8.35e+00    -  1.00e+00 1.00e+00h  1\n",
      "  15  1.0620386e+03 5.85e-02 2.62e+01 -11.0 2.05e+01    -  1.00e+00 1.00e+00H  1\n",
      "  16  1.0425115e+03 1.40e-01 1.46e+01 -11.0 1.28e+01    -  1.00e+00 1.00e+00f  1\n",
      "  17  1.0363469e+03 5.85e-02 1.51e+01 -11.0 8.94e+00    -  1.00e+00 1.00e+00f  1\n",
      "  18  1.0180489e+03 5.85e-02 1.55e+01 -11.0 2.69e+01    -  1.00e+00 1.00e+00f  1\n",
      "  19  1.0124647e+03 6.30e-02 2.41e+01 -11.0 2.51e+02    -  1.00e+00 6.25e-02f  5\n",
      "iter    objective    inf_pr   inf_du lg(mu)  ||d||  lg(rg) alpha_du alpha_pr  ls\n",
      "  20  1.0035443e+03 6.04e-01 3.10e+01 -11.0 6.24e+01    -  1.00e+00 1.00e+00f  1\n",
      "  21  1.0099303e+03 2.61e-01 3.45e+01 -11.0 2.36e+02    -  1.00e+00 1.25e-01h  4\n",
      "  22  9.9645457e+02 5.22e-01 3.14e+01 -11.0 1.94e+01    -  1.00e+00 1.00e+00f  1\n",
      "  23  9.8599520e+02 1.01e-01 5.08e+00 -11.0 1.49e+01    -  1.00e+00 1.00e+00f  1\n",
      "  24  9.9418238e+02 5.85e-02 1.64e+01 -11.0 1.18e+01    -  1.00e+00 1.00e+00h  1\n",
      "  25  9.8562896e+02 7.81e-02 4.42e+00 -11.0 2.01e+01    -  1.00e+00 1.00e+00f  1\n",
      "  26  1.0473862e+03 5.85e-02 2.85e+01 -11.0 2.55e+01    -  1.00e+00 1.00e+00H  1\n",
      "  27  9.8438471e+02 1.56e-01 5.08e+00 -11.0 2.34e+01    -  1.00e+00 1.00e+00f  1\n",
      "  28  9.8317483e+02 1.15e-01 4.28e+00 -11.0 1.22e+01    -  1.00e+00 2.50e-01f  3\n",
      "  29  9.8421322e+02 5.85e-02 6.63e-01 -11.0 1.28e+00    -  1.00e+00 1.00e+00h  1\n",
      "iter    objective    inf_pr   inf_du lg(mu)  ||d||  lg(rg) alpha_du alpha_pr  ls\n",
      "  30  9.8415800e+02 5.85e-02 2.74e-01 -11.0 5.31e-01    -  1.00e+00 1.00e+00h  1\n",
      "  31  9.8391236e+02 5.85e-02 2.53e+00 -11.0 2.17e+01    -  1.00e+00 2.50e-01f  3\n",
      "  32  9.8613618e+02 5.85e-02 5.98e+00 -11.0 1.99e+01    -  1.00e+00 1.00e+00H  1\n",
      "  33  1.0127209e+03 5.84e-02 2.52e+01 -11.0 2.36e+01    -  1.00e+00 1.00e+00H  1\n",
      "  34  9.8234818e+02 5.04e-01 3.27e+00 -11.0 3.53e+01    -  1.00e+00 1.00e+00f  1\n",
      "  35  1.0573416e+03 5.85e-02 2.32e+01 -11.0 2.18e+01    -  1.00e+00 1.00e+00H  1\n",
      "  36  9.7981809e+02 2.64e-01 3.57e+00 -11.0 2.11e+01    -  1.00e+00 1.00e+00f  1\n",
      "  37  9.8321158e+02 5.85e-02 2.00e+00 -11.0 3.85e+00    -  1.00e+00 1.00e+00h  1\n",
      "  38  9.8319861e+02 5.85e-02 1.71e+00 -11.0 1.48e+00    -  1.00e+00 1.00e+00h  1\n",
      "  39  9.8308438e+02 5.85e-02 3.03e-01 -11.0 7.42e-01    -  1.00e+00 1.00e+00h  1\n",
      "iter    objective    inf_pr   inf_du lg(mu)  ||d||  lg(rg) alpha_du alpha_pr  ls\n",
      "  40  9.8307944e+02 5.85e-02 4.43e-01 -11.0 5.54e-01    -  1.00e+00 1.00e+00h  1\n",
      "  41  9.8305758e+02 5.85e-02 1.11e+00 -11.0 1.65e+00    -  1.00e+00 5.00e-01h  2\n",
      "  42  9.8305365e+02 5.85e-02 9.99e-01 -11.0 2.52e+00    -  1.00e+00 5.00e-01h  2\n",
      "  43  9.8303957e+02 5.85e-02 1.21e+00 -11.0 5.94e+00    -  1.00e+00 1.25e-01h  4\n",
      "  44  9.8303050e+02 5.85e-02 7.71e-01 -11.0 1.11e+00    -  1.00e+00 5.00e-01h  2\n",
      "  45  9.8300713e+02 5.85e-02 8.93e-01 -11.0 8.11e-01    -  1.00e+00 1.00e+00h  1\n",
      "  46  9.8301640e+02 5.85e-02 4.97e-01 -11.0 6.37e-01    -  1.00e+00 1.00e+00H  1\n",
      "  47  9.8300327e+02 5.85e-02 5.28e-01 -11.0 6.97e-01    -  1.00e+00 1.00e+00h  1\n",
      "  48  9.8299868e+02 5.85e-02 8.03e-01 -11.0 8.96e-01    -  1.00e+00 2.50e-01h  3\n",
      "  49  9.8299623e+02 5.85e-02 1.80e-01 -11.0 2.10e-01    -  1.00e+00 1.00e+00h  1\n",
      "iter    objective    inf_pr   inf_du lg(mu)  ||d||  lg(rg) alpha_du alpha_pr  ls\n",
      "  50  9.8299482e+02 5.85e-02 1.27e-01 -11.0 1.06e-01    -  1.00e+00 1.00e+00H  1\n",
      "  51  9.8299398e+02 5.85e-02 6.29e-02 -11.0 1.07e-01    -  1.00e+00 1.00e+00h  1\n",
      "  52  9.8299386e+02 5.85e-02 9.90e-02 -11.0 1.02e-01    -  1.00e+00 1.00e+00h  1\n",
      "  53  9.8299297e+02 5.85e-02 1.11e-01 -11.0 1.95e-01    -  1.00e+00 1.00e+00h  1\n",
      "  54  9.8299274e+02 5.85e-02 1.28e-01 -11.0 6.08e-01    -  1.00e+00 2.50e-01h  3\n",
      "  55  9.8299278e+02 5.85e-02 1.36e-01 -11.0 2.53e-01    -  1.00e+00 5.00e-01h  2\n",
      "  56  9.8299193e+02 5.85e-02 8.06e-02 -11.0 9.36e-02    -  1.00e+00 1.00e+00h  1\n",
      "  57  9.8299187e+02 5.85e-02 5.07e-02 -11.0 3.55e-02    -  1.00e+00 1.00e+00h  1\n",
      "  58  9.8299170e+02 5.85e-02 2.88e-02 -11.0 2.54e-02    -  1.00e+00 1.00e+00h  1\n",
      "  59  9.8298963e+02 5.85e-02 3.25e-02 -11.0 4.48e-02    -  1.00e+00 1.00e+00H  1\n",
      "iter    objective    inf_pr   inf_du lg(mu)  ||d||  lg(rg) alpha_du alpha_pr  ls\n",
      "  60  9.8299154e+02 5.85e-02 2.61e-02 -11.0 3.17e-02    -  1.00e+00 1.00e+00h  1\n",
      "  61  9.8299148e+02 5.85e-02 2.45e-02 -11.0 4.38e-02    -  1.00e+00 1.00e+00h  1\n",
      "  62  9.8299146e+02 5.85e-02 4.64e-02 -11.0 3.17e-01    -  1.00e+00 1.25e-01h  4\n",
      "  63  9.8299142e+02 5.85e-02 6.34e-02 -11.0 1.80e-01    -  1.00e+00 2.50e-01h  3\n",
      "  64  9.8299135e+02 5.85e-02 1.17e-01 -11.0 2.91e-01    -  1.00e+00 5.00e-01h  2\n",
      "  65  9.8299134e+02 5.85e-02 1.07e-01 -11.0 1.02e-01    -  1.00e+00 1.25e-01h  4\n",
      "  66  9.8299131e+02 5.85e-02 1.59e-02 -11.0 4.64e-02    -  1.00e+00 1.00e+00h  1\n",
      "  67  9.8297832e+02 5.85e-02 5.34e-02 -11.0 3.30e-02    -  1.00e+00 1.00e+00H  1\n",
      "  68  9.8298479e+02 5.85e-02 3.73e-02 -11.0 2.88e-02    -  1.00e+00 5.00e-01h  2\n",
      "  69  9.8298807e+02 5.85e-02 3.33e-02 -11.0 8.21e-02    -  1.00e+00 5.00e-01h  2\n",
      "iter    objective    inf_pr   inf_du lg(mu)  ||d||  lg(rg) alpha_du alpha_pr  ls\n",
      "  70  9.8298967e+02 5.85e-02 1.58e-02 -11.0 2.12e-02    -  1.00e+00 5.00e-01h  2\n",
      "  71r 9.8298967e+02 5.85e-02 9.99e+02  -1.2 0.00e+00    -  0.00e+00 4.77e-07R 22\n",
      "  72r 9.8268052e+02 6.65e-02 9.60e+02   0.8 5.22e+00    -  2.59e-01 1.62e-02f  1\n",
      "  73r 9.8048610e+02 6.06e-02 7.54e+02  -0.8 1.43e+00    -  6.60e-01 2.29e-01f  1\n",
      "  74r 9.7967878e+02 6.05e-02 6.53e+02  -0.8 1.13e+00    -  1.00e+00 1.40e-01f  1\n",
      "  75r 9.7725330e+02 6.01e-02 1.96e+02  -1.8 1.25e+00    -  1.00e+00 7.01e-01f  1\n",
      "  76r 9.7706671e+02 6.00e-02 1.17e+00  -2.1 4.35e-01    -  1.00e+00 9.95e-01f  1\n",
      "  77r 9.7731829e+02 6.00e-02 2.87e-02  -3.5 3.13e-01    -  1.00e+00 1.00e+00f  1\n",
      "  78r 9.7730947e+02 6.00e-02 1.21e-02  -5.0 1.02e-01    -  1.00e+00 1.00e+00f  1\n",
      "  79r 9.7730940e+02 6.00e-02 1.23e-03  -7.1 1.48e-02    -  1.00e+00 1.00e+00f  1\n",
      "\n",
      "Number of Iterations....: 79\n",
      "\n",
      "                                   (scaled)                 (unscaled)\n",
      "Objective...............:   9.7730945583758762e+02    9.7730945583758762e+02\n",
      "Dual infeasibility......:   4.3145393585489105e+00    4.3145393585489105e+00\n",
      "Constraint violation....:   5.9999999999987841e-02    5.9999999999987841e-02\n",
      "Complementarity.........:   0.0000000000000000e+00    0.0000000000000000e+00\n",
      "Overall NLP error.......:   4.3145393585489105e+00    4.3145393585489105e+00\n",
      "\n",
      "\n",
      "Number of objective function evaluations             = 183\n",
      "Number of objective gradient evaluations             = 73\n",
      "Number of equality constraint evaluations            = 183\n",
      "Number of inequality constraint evaluations          = 0\n",
      "Number of equality constraint Jacobian evaluations   = 82\n",
      "Number of inequality constraint Jacobian evaluations = 0\n",
      "Number of Lagrangian Hessian evaluations             = 0\n",
      "Total CPU secs in IPOPT (w/o function evaluations)   =     23.665\n",
      "Total CPU secs in NLP function evaluations           =      1.137\n",
      "\n",
      "EXIT: Converged to a point of local infeasibility. Problem may be infeasible.\n"
     ]
    },
    {
     "data": {
      "text/plain": [
       "([-0.24999999999991906, 0.4035533905933081, 0.17453292519943156, -5.5263578492761607e-14, 1.3241122696725608e-12, -0.5000000000000007, 0.0499999999999998, 9.894866202817922e-15, -2.9999999999999956, -6.796132080258427e-16  …  6.999295829537496e-17, -0.5000000000000152, -3.0408507286421578e-16, 3.734584910270216e-15, 1.817713522624629e-15, -7.301413877387352e-17, 1.2077980634864725e-15, -1.0030843991034412e-16, 2.2941804000712882e-15, -2.5830535640155665e-18], Ipopt.Optimizer)"
      ]
     },
     "metadata": {},
     "output_type": "display_data"
    }
   ],
   "source": [
    "\n",
    "\n",
    "\n",
    "Z0 = packZ(nlp, Xguess, Uguess);\n",
    "# nlp = HybridNLP(model, obj, init_mode, tf, N, Xref[1], Xref[end], use_sparse_jacobian=false);\n",
    "\n",
    "# Z_sol, solver = solve(Z0, nlp, c_tol=1e-6, tol=1e-6)\n",
    "Z_sol, solver = solve(Z0, nlp, c_tol=1e-4, tol=1e-2)"
   ]
  },
  {
   "cell_type": "code",
   "execution_count": 135,
   "metadata": {},
   "outputs": [
    {
     "data": {
      "text/plain": [
       "14-element Vector{Float64}:\n",
       "  8.093525849517391e-14\n",
       "  3.430589146091734e-14\n",
       " -1.3877787807814457e-15\n",
       " -5.5263578492761607e-14\n",
       "  1.3241122696725608e-12\n",
       " -6.661338147750939e-16\n",
       " -2.0122792321330962e-16\n",
       "  9.894866202817922e-15\n",
       "  4.440892098500626e-15\n",
       " -6.796132080258427e-16\n",
       " -1.261704305478833e-15\n",
       "  3.717026686445024e-13\n",
       " -3.04856747476586e-17\n",
       " -6.334997579206894e-17"
      ]
     },
     "metadata": {},
     "output_type": "display_data"
    }
   ],
   "source": [
    "Z_sol[1:14] - xinit"
   ]
  },
  {
   "cell_type": "code",
   "execution_count": 136,
   "metadata": {},
   "outputs": [
    {
     "data": {
      "text/plain": [
       "14-element Vector{Float64}:\n",
       " -7.216449660063518e-15\n",
       " -9.103828801926284e-15\n",
       "  1.2811179925974138e-15\n",
       " -8.518644118587998e-15\n",
       "  6.999295829537496e-17\n",
       " -1.5210055437364645e-14\n",
       " -3.0408507286421578e-16\n",
       "  3.734584910270216e-15\n",
       "  1.817713522624629e-15\n",
       " -7.301413877387352e-17\n",
       "  1.2077980634864725e-15\n",
       " -1.0030843991034412e-16\n",
       "  2.2941804000712882e-15\n",
       " -2.5830535640155665e-18"
      ]
     },
     "metadata": {},
     "output_type": "display_data"
    }
   ],
   "source": [
    "Z_sol[end-13:end] - xterm"
   ]
  },
  {
   "cell_type": "markdown",
   "metadata": {},
   "source": [
    "EXIT: Restoration failed!\n",
    "\n",
    "EXIT: Converged to a point of local infeasibility. Problem may be infeasible."
   ]
  },
  {
   "cell_type": "code",
   "execution_count": 137,
   "metadata": {},
   "outputs": [
    {
     "data": {
      "text/plain": [
       "554-element Vector{Float64}:\n",
       " -0.24999999999991906\n",
       "  0.4035533905933081\n",
       "  0.17453292519943156\n",
       " -5.5263578492761607e-14\n",
       "  1.3241122696725608e-12\n",
       " -0.5000000000000007\n",
       "  0.0499999999999998\n",
       "  9.894866202817922e-15\n",
       " -2.9999999999999956\n",
       " -6.796132080258427e-16\n",
       "  ⋮\n",
       " -0.5000000000000152\n",
       " -3.0408507286421578e-16\n",
       "  3.734584910270216e-15\n",
       "  1.817713522624629e-15\n",
       " -7.301413877387352e-17\n",
       "  1.2077980634864725e-15\n",
       " -1.0030843991034412e-16\n",
       "  2.2941804000712882e-15\n",
       " -2.5830535640155665e-18"
      ]
     },
     "metadata": {},
     "output_type": "display_data"
    }
   ],
   "source": [
    "display(Z_sol)\n",
    "using DelimitedFiles\n",
    "using CSV\n",
    "writedlm( \"data.csv\",  Z_sol, ',')"
   ]
  },
  {
   "cell_type": "code",
   "execution_count": 138,
   "metadata": {},
   "outputs": [],
   "source": []
  }
 ],
 "metadata": {
  "@webio": {
   "lastCommId": "06ae0ce534004235b788f1a5d0a7d59a",
   "lastKernelId": "320b288e-2315-4364-93b6-7c10c2dfbcc7"
  },
  "kernelspec": {
   "display_name": "Julia 1.6.5",
   "language": "julia",
   "name": "julia-1.6"
  },
  "language_info": {
   "file_extension": ".jl",
   "mimetype": "application/julia",
   "name": "julia",
   "version": "1.6.5"
  }
 },
 "nbformat": 4,
 "nbformat_minor": 4
}
