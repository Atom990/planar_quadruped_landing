{
 "cells": [
  {
   "cell_type": "code",
   "execution_count": 56,
   "metadata": {},
   "outputs": [
    {
     "name": "stderr",
     "output_type": "stream",
     "text": [
      "\u001b[32m\u001b[1m  Activating\u001b[22m\u001b[39m environment at `~/homework/optimal_control/planar_quadruped_landing/Project.toml`\n"
     ]
    }
   ],
   "source": [
    "import Pkg; Pkg.activate(joinpath(@__DIR__,\"..\")); Pkg.instantiate()\n",
    "using LinearAlgebra\n",
    "using ForwardDiff\n",
    "using RobotDynamics\n",
    "using Ipopt\n",
    "using MathOptInterface\n",
    "using TrajOptPlots\n",
    "const MOI = MathOptInterface\n",
    "using Random"
   ]
  },
  {
   "cell_type": "code",
   "execution_count": 57,
   "metadata": {},
   "outputs": [
    {
     "data": {
      "text/plain": [
       "reference_trajectory"
      ]
     },
     "metadata": {},
     "output_type": "display_data"
    }
   ],
   "source": [
    "include(\"quadratic_cost.jl\")\n",
    "include(\"planar_quadruped.jl\")\n",
    "include(\"sparseblocks.jl\")\n",
    "include(\"utils.jl\")\n",
    "include(\"nlp.jl\")\n",
    "include(\"moi.jl\")\n",
    "include(\"costs.jl\")\n",
    "include(\"constraints.jl\")\n",
    "include(\"ref_traj.jl\")"
   ]
  },
  {
   "cell_type": "markdown",
   "metadata": {},
   "source": [
    "## Reference Trajectory"
   ]
  },
  {
   "cell_type": "markdown",
   "metadata": {},
   "source": [
    "## Problem Definition"
   ]
  },
  {
   "cell_type": "code",
   "execution_count": 58,
   "metadata": {},
   "outputs": [],
   "source": [
    "# Dynamics model\n",
    "model = PlanarQuadruped()\n",
    "g, mb, lb, l1, l2 = model.g, model.mb, model.lb, model.l1, model.l2\n",
    "\n",
    "# Discretization\n",
    "tf = 0.6\n",
    "dt = 0.02\n",
    "N = Int(ceil(tf/dt)) + 1\n",
    "times = range(0,tf, length=N)\n",
    "t_trans = 0.2\n",
    "\n",
    "n = 14\n",
    "m = 4\n",
    "\n",
    "# Initial Conditions\n",
    "# currently, we assume the initial mode ID is 1\n",
    "# xinit = [-0.4;0.6;-3.1415/9;        0.0;0.0; -1.0;0.2; 0.0;-0.5;0.0; 0.0;0.0; 0.0;-0.5]\n",
    "# xterm = [-lb/2;sqrt(l1^2+l2^2);0.0; 0.0;0.0; -lb;0.0;  0.0;0.0;0.0;  0.0;0.0; 0.0;0.0]\n",
    "xinit = zeros(n)\n",
    "xinit[1] = -lb/2                  # xb\n",
    "xinit[2] = sqrt(l1^2+l2^2) + 0.05 # yb\n",
    "xinit[3] = 10 * pi / 180          # theta\n",
    "xinit[6] = -lb                    # x2\n",
    "xinit[7] = 0.05                   # y2\n",
    "xinit[9] = -3.0                   # yb_dot\n",
    "xinit[12] = -3.0                  # y2_dot\n",
    "\n",
    "xterm = zeros(n)\n",
    "xterm[1] = -lb/2           # xb\n",
    "xterm[2] = sqrt(l1^2+l2^2) # yb\n",
    "xterm[6] = -lb             # x2\n",
    "\n",
    "init_mode = 1\n",
    "\n",
    "# Reference Trajectory\n",
    "Xref, Uref = reference_trajectory(model, times, t_trans, xinit, xterm, init_mode)\n",
    "\n",
    "# Objective\n",
    "Random.seed!(1)\n",
    "Q = Diagonal([1.0;1.0;1.0; 1.0;1.0; 1.0;1.0; 1.0;1.0;1.0; 1.0;1.0; 1.0;1.0])\n",
    "R = Diagonal(fill(1e-3,4))\n",
    "Qf = Q\n",
    "\n",
    "obj = map(1:N-1) do k\n",
    "    LQRCost(Q,R,Xref[k],Uref[k])\n",
    "end\n",
    "push!(obj, LQRCost(Qf, R*0, Xref[N], Uref[1]))\n",
    "\n",
    "# Define the NLP\n",
    "nlp = HybridNLP(model, obj, init_mode, tf, N, Xref[1], Xref[end]);"
   ]
  },
  {
   "cell_type": "markdown",
   "metadata": {},
   "source": [
    "## Solve"
   ]
  },
  {
   "cell_type": "code",
   "execution_count": 59,
   "metadata": {},
   "outputs": [
    {
     "data": {
      "text/plain": [
       "4-element Vector{UnitRange{Int64}}:\n",
       " 1:14\n",
       " 15:28\n",
       " 29:448\n",
       " 449:479"
      ]
     },
     "metadata": {},
     "output_type": "display_data"
    }
   ],
   "source": [
    "nlp.cinds"
   ]
  },
  {
   "cell_type": "code",
   "execution_count": 60,
   "metadata": {},
   "outputs": [
    {
     "name": "stdout",
     "output_type": "stream",
     "text": [
      "Creating NLP Block Data...\n",
      "Creating Ipopt...\n",
      "Adding constraints...\n",
      "starting Ipopt Solve...\n"
     ]
    },
    {
     "name": "stdout",
     "output_type": "stream",
     "text": [
      "This is Ipopt version 3.13.4, running with linear solver mumps.\n",
      "NOTE: Other linear solvers might be more efficient (see Ipopt documentation).\n",
      "\n",
      "Number of nonzeros in equality constraint Jacobian...:   265366\n",
      "Number of nonzeros in inequality constraint Jacobian.:        0\n",
      "Number of nonzeros in Lagrangian Hessian.............:        0\n",
      "\n",
      "Total number of variables............................:      554\n",
      "                     variables with only lower bounds:        0\n",
      "                variables with lower and upper bounds:        0\n",
      "                     variables with only upper bounds:        0\n",
      "Total number of equality constraints.................:      479\n",
      "Total number of inequality constraints...............:        0\n",
      "        inequality constraints with only lower bounds:        0\n",
      "   inequality constraints with lower and upper bounds:        0\n",
      "        inequality constraints with only upper bounds:        0\n",
      "\n",
      "iter    objective    inf_pr   inf_du lg(mu)  ||d||  lg(rg) alpha_du alpha_pr  ls\n",
      "   0  6.2442385e+01 3.24e+00 4.05e-01   0.0 0.00e+00    -  0.00e+00 0.00e+00   0\n",
      "WARNING: Problem in step computation; switching to emergency mode.\n",
      "   1r 6.2442385e+01 3.24e+00 9.99e+02   0.5 0.00e+00  20.0 0.00e+00 0.00e+00R  1\n",
      "WARNING: Problem in step computation; switching to emergency mode.\n",
      "Restoration phase is called at point that is almost feasible,\n",
      "  with constraint violation 0.000000e+00. Abort.\n",
      "Restoration phase in the restoration phase failed.\n",
      "\n",
      "Number of Iterations....: 1\n",
      "\n",
      "                                   (scaled)                 (unscaled)\n",
      "Objective...............:   6.2442384992296297e+01    6.2442384992296297e+01\n",
      "Dual infeasibility......:   4.0529880942202451e-01    4.0529880942202451e-01\n",
      "Constraint violation....:   3.2403052426346282e+00    3.2403052426346282e+00\n",
      "Complementarity.........:   0.0000000000000000e+00    0.0000000000000000e+00\n",
      "Overall NLP error.......:   3.2403052426346282e+00    3.2403052426346282e+00\n",
      "\n",
      "\n",
      "Number of objective function evaluations             = 2\n",
      "Number of objective gradient evaluations             = 2\n",
      "Number of equality constraint evaluations            = 2\n",
      "Number of inequality constraint evaluations          = 0\n",
      "Number of equality constraint Jacobian evaluations   = 2\n",
      "Number of inequality constraint Jacobian evaluations = 0\n",
      "Number of Lagrangian Hessian evaluations             = 0\n",
      "Total CPU secs in IPOPT (w/o function evaluations)   =     29.755\n",
      "Total CPU secs in NLP function evaluations           =      1.154\n",
      "\n",
      "EXIT: Restoration Failed!\n"
     ]
    },
    {
     "data": {
      "text/plain": [
       "([-0.22027120154645383, 0.4417929873723346, 0.11476947752660983, -0.001044524463737564, -0.08390268543887641, -0.4688888661501666, 0.27950878238373106, -0.05223367574215085, -2.9770990445090217, -0.22670863488005308  …  0.06731453712002894, -0.5367348873534037, 0.25678184926050074, 0.2382933268800983, 0.07880250747201781, -0.007153885116035236, 0.0031319294723795134, 0.0405811817759249, -0.09579189021380435, 0.06961249481623331], Ipopt.Optimizer)"
      ]
     },
     "metadata": {},
     "output_type": "display_data"
    }
   ],
   "source": [
    "# Initial guess\n",
    "Random.seed!(1)\n",
    "Xguess = [x + 0.1*randn(length(x)) for x in Xref]\n",
    "Uguess = [u + 0.1*randn(length(u)) for u in Uref]\n",
    "Uguess = zeros(size(Uref))\n",
    "Z0 = packZ(nlp, Xguess, Uguess);\n",
    "# nlp = HybridNLP(model, obj, init_mode, tf, N, Xref[1], Xref[end], use_sparse_jacobian=false);\n",
    "\n",
    "# Z_sol, solver = solve(Z0, nlp, c_tol=1e-6, tol=1e-6)\n",
    "Z_sol, solver = solve(Z0, nlp, c_tol=1e-4, tol=1e-2)"
   ]
  },
  {
   "cell_type": "code",
   "execution_count": 61,
   "metadata": {},
   "outputs": [
    {
     "data": {
      "text/plain": [
       "14-element Vector{Float64}:\n",
       "  0.029728798453546174\n",
       "  0.0382395967790608\n",
       " -0.059763447672823114\n",
       " -0.001044524463737564\n",
       " -0.08390268543887641\n",
       "  0.031111133849833383\n",
       "  0.22950878238373107\n",
       " -0.05223367574215085\n",
       "  0.02290095549097826\n",
       " -0.22670863488005308\n",
       "  0.052996557616674614\n",
       "  0.043142152642291265\n",
       "  0.05837082875687786\n",
       "  0.09632716050381906"
      ]
     },
     "metadata": {},
     "output_type": "display_data"
    }
   ],
   "source": [
    "Z_sol[1:14] - xinit"
   ]
  },
  {
   "cell_type": "code",
   "execution_count": 62,
   "metadata": {},
   "outputs": [
    {
     "data": {
      "text/plain": [
       "14-element Vector{Float64}:\n",
       "  0.006988294035825182\n",
       "  0.07338834687716467\n",
       "  0.04634387170013981\n",
       " -0.03537417603088734\n",
       "  0.06731453712002894\n",
       " -0.03673488735340369\n",
       "  0.25678184926050074\n",
       "  0.2382933268800983\n",
       "  0.07880250747201781\n",
       " -0.007153885116035236\n",
       "  0.0031319294723795134\n",
       "  0.0405811817759249\n",
       " -0.09579189021380435\n",
       "  0.06961249481623331"
      ]
     },
     "metadata": {},
     "output_type": "display_data"
    }
   ],
   "source": [
    "Z_sol[end-13:end] - xterm"
   ]
  },
  {
   "cell_type": "markdown",
   "metadata": {},
   "source": [
    "EXIT: Restoration failed!\n",
    "\n",
    "EXIT: Converged to a point of local infeasibility. Problem may be infeasible."
   ]
  },
  {
   "cell_type": "code",
   "execution_count": 63,
   "metadata": {},
   "outputs": [
    {
     "data": {
      "text/plain": [
       "554-element Vector{Float64}:\n",
       " -0.22027120154645383\n",
       "  0.4417929873723346\n",
       "  0.11476947752660983\n",
       " -0.001044524463737564\n",
       " -0.08390268543887641\n",
       " -0.4688888661501666\n",
       "  0.27950878238373106\n",
       " -0.05223367574215085\n",
       " -2.9770990445090217\n",
       " -0.22670863488005308\n",
       "  ⋮\n",
       " -0.5367348873534037\n",
       "  0.25678184926050074\n",
       "  0.2382933268800983\n",
       "  0.07880250747201781\n",
       " -0.007153885116035236\n",
       "  0.0031319294723795134\n",
       "  0.0405811817759249\n",
       " -0.09579189021380435\n",
       "  0.06961249481623331"
      ]
     },
     "metadata": {},
     "output_type": "display_data"
    }
   ],
   "source": [
    "display(Z_sol)\n",
    "using DelimitedFiles\n",
    "using CSV\n",
    "writedlm( \"data.csv\",  Z_sol, ',')"
   ]
  },
  {
   "cell_type": "code",
   "execution_count": 64,
   "metadata": {},
   "outputs": [],
   "source": []
  }
 ],
 "metadata": {
  "@webio": {
   "lastCommId": "06ae0ce534004235b788f1a5d0a7d59a",
   "lastKernelId": "320b288e-2315-4364-93b6-7c10c2dfbcc7"
  },
  "kernelspec": {
   "display_name": "Julia 1.6.6",
   "language": "julia",
   "name": "julia-1.6"
  },
  "language_info": {
   "file_extension": ".jl",
   "mimetype": "application/julia",
   "name": "julia",
   "version": "1.6.6"
  }
 },
 "nbformat": 4,
 "nbformat_minor": 4
}
