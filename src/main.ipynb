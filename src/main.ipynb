{
 "cells": [
  {
   "cell_type": "code",
   "execution_count": 1,
   "metadata": {},
   "outputs": [
    {
     "name": "stderr",
     "output_type": "stream",
     "text": [
      "\u001b[32m\u001b[1m  Activating\u001b[22m\u001b[39m environment at `~/planar_quadruped_landing/Project.toml`\n"
     ]
    }
   ],
   "source": [
    "import Pkg;\n",
    "Pkg.activate(joinpath(@__DIR__, \"..\"));\n",
    "Pkg.instantiate();\n",
    "using DelimitedFiles\n",
    "using CSV\n",
    "using LinearAlgebra\n",
    "using ForwardDiff\n",
    "using RobotDynamics\n",
    "using Ipopt\n",
    "using MathOptInterface\n",
    "const MOI = MathOptInterface\n",
    "using Random;"
   ]
  },
  {
   "cell_type": "code",
   "execution_count": 2,
   "metadata": {},
   "outputs": [
    {
     "data": {
      "application/vnd.webio.node+json": {
       "children": [],
       "instanceArgs": {
        "namespace": "html",
        "tag": "div"
       },
       "nodeType": "DOM",
       "props": {},
       "type": "node"
      },
      "text/html": [
       "<div style=\"padding: 1em; background-color: #f8d6da; border: 1px solid #f5c6cb; font-weight: bold;\">\n",
       "<p>The WebIO Jupyter extension was not detected. See the\n",
       "<a href=\"https://juliagizmos.github.io/WebIO.jl/latest/providers/ijulia/\" target=\"_blank\">\n",
       "    WebIO Jupyter integration documentation\n",
       "</a>\n",
       "for more information.\n",
       "</div>\n"
      ],
      "text/plain": [
       "WebIO._IJuliaInit()"
      ]
     },
     "metadata": {},
     "output_type": "display_data"
    }
   ],
   "source": [
    "include(\"quadratic_cost.jl\")\n",
    "include(\"planar_quadruped.jl\")\n",
    "include(\"sparseblocks.jl\")\n",
    "include(\"nlp.jl\")\n",
    "include(\"moi.jl\")\n",
    "include(\"costs.jl\")\n",
    "include(\"constraints.jl\")\n",
    "include(\"ref_traj.jl\");"
   ]
  },
  {
   "cell_type": "code",
   "execution_count": 3,
   "metadata": {},
   "outputs": [],
   "source": [
    "# Dynamics model\n",
    "model = PlanarQuadruped()\n",
    "g, mb, lb, l1, l2 = model.g, model.mb, model.lb, model.l1, model.l2\n",
    "\n",
    "# Some parameters\n",
    "dt = 0.005\n",
    "N = 61\n",
    "times = range(0, dt * (N - 1), length=N)\n",
    "k_trans = 21\n",
    "n = 15\n",
    "m = 5\n",
    "\n",
    "# Initial condition. Currently, we assume the initial mode ID is 1\n",
    "xinit = zeros(n)\n",
    "xinit[1] = -lb / 2.5                # xb\n",
    "xinit[2] = sqrt(l1^2 + l2^2) + 0.1  # yb\n",
    "xinit[3] = -20 * pi / 180           # theta\n",
    "xinit[6] = -lb                      # x2\n",
    "xinit[7] = 0.2                      # y2\n",
    "xinit[9] = -1.0                     # yb_dot\n",
    "xinit[12] = -1.0                    # y2_dot\n",
    "\n",
    "init_mode = 1\n",
    "\n",
    "# Desired final state\n",
    "xterm = zeros(n)\n",
    "xterm[1] = -lb / 2           # xb\n",
    "xterm[2] = sqrt(l1^2 + l2^2) # yb\n",
    "xterm[6] = -lb;              # x2"
   ]
  },
  {
   "cell_type": "code",
   "execution_count": 4,
   "metadata": {},
   "outputs": [],
   "source": [
    "# Reference Trajectory\n",
    "Xref, Uref = reference_trajectory(model, N, k_trans, xterm, init_mode, dt);"
   ]
  },
  {
   "cell_type": "code",
   "execution_count": 5,
   "metadata": {},
   "outputs": [],
   "source": [
    "# Objective\n",
    "Q = Diagonal([10.0; 10.0; 1.0; 10.0; 10.0; 10.0; 10.0; 10.0; 10.0; 1.0; 10.0; 10.0; 10.0; 10.0; 0.0])\n",
    "R = Diagonal(fill(1e-3, 5))\n",
    "R[end, end] = 0.0\n",
    "Qf = Q\n",
    "\n",
    "obj = map(1:N-1) do k\n",
    "    LQRCost(Q, R, Xref[k], Uref[k])\n",
    "end\n",
    "push!(obj, LQRCost(Qf, R * 0, Xref[N], Uref[1]));"
   ]
  },
  {
   "cell_type": "code",
   "execution_count": 6,
   "metadata": {},
   "outputs": [],
   "source": [
    "# Define the NLP\n",
    "nlp = HybridNLP(model, obj, init_mode, k_trans, N, xinit, xterm);"
   ]
  },
  {
   "cell_type": "code",
   "execution_count": 12,
   "metadata": {},
   "outputs": [],
   "source": [
    "# Initial guess\n",
    "# Random.seed!(1)\n",
    "\n",
    "# Uguess = [u + 0.1*randn(length(u)) for u in Uref]\n",
    "# Xguess = [x + 0.1*randn(length(x)) for x in Xref]\n",
    "\n",
    "# initialize Xguess\n",
    "Xguess = [zeros(n) for x in Xref]\n",
    "k_trans = nlp.k_trans\n",
    "\n",
    "for k = 1:N\n",
    "    if k <= k_trans\n",
    "        Xguess[k] = xinit + (xterm - xinit) / (k_trans - 1) * (k - 1)\n",
    "    else\n",
    "        Xguess[k][1:14] = xterm[1:14]\n",
    "    end\n",
    "    \n",
    "    Xguess[k][end] = dt * (k - 1)\n",
    "end\n",
    "\n",
    "# initialize Uguess\n",
    "Uguess = [zeros(m) + rand(m) for u in Uref]\n",
    "for k = 1: N-1\n",
    "    Uguess[k][end] = dt\n",
    "end"
   ]
  },
  {
   "cell_type": "code",
   "execution_count": 13,
   "metadata": {},
   "outputs": [
    {
     "name": "stdout",
     "output_type": "stream",
     "text": [
      "Creating NLP Block Data...\n",
      "Creating Ipopt...\n",
      "Adding constraints...\n",
      "starting Ipopt Solve...\n",
      "This is Ipopt version 3.13.4, running with linear solver mumps.\n",
      "NOTE: Other linear solvers might be more efficient (see Ipopt documentation).\n",
      "\n",
      "Number of nonzeros in equality constraint Jacobian...:  1252665\n",
      "Number of nonzeros in inequality constraint Jacobian.:    74115\n",
      "Number of nonzeros in Lagrangian Hessian.............:        0\n",
      "\n",
      "Total number of variables............................:     1215\n",
      "                     variables with only lower bounds:        0\n",
      "                variables with lower and upper bounds:      121\n",
      "                     variables with only upper bounds:        0\n",
      "Total number of equality constraints.................:     1031\n",
      "Total number of inequality constraints...............:       61\n",
      "        inequality constraints with only lower bounds:       61\n",
      "   inequality constraints with lower and upper bounds:        0\n",
      "        inequality constraints with only upper bounds:        0\n",
      "\n",
      "iter    objective    inf_pr   inf_du lg(mu)  ||d||  lg(rg) alpha_du alpha_pr  ls\n",
      "   0  3.7035282e-01 5.83e-01 1.00e+00   0.0 0.00e+00    -  0.00e+00 0.00e+00   0\n",
      "   1  3.6374846e-01 5.67e-01 7.86e+01  -0.7 1.85e+01    -  1.00e+00 2.43e-02h  1\n",
      "   2  5.2881628e-01 4.90e-01 1.42e+04  -0.0 5.14e+01    -  1.00e+00 1.47e-01h  1\n",
      "   3  3.9941931e-01 4.46e-01 1.77e+04   0.3 4.69e+01    -  9.04e-01 8.40e-02h  1\n",
      "   4  7.8914846e-01 3.54e-01 3.84e+04   0.7 6.79e+01    -  1.00e+00 1.99e-01h  1\n",
      "   5  3.8930641e+00 2.69e-01 4.67e+04   0.9 9.60e+01    -  1.00e+00 2.40e-01h  1\n",
      "   6  4.2798718e+01 5.24e-01 8.88e+04   1.1 3.05e+02    -  6.05e-01 6.28e-01H  1\n",
      "   7  8.2471413e+01 6.82e-01 9.72e+04   0.7 2.59e+02    -  7.28e-01 2.46e-01h  1\n",
      "   8  8.5859512e+01 4.16e-01 7.76e+04   0.3 2.00e+02    -  1.00e+00 4.63e-01h  1\n",
      "   9  6.0086919e+01 9.59e-02 3.19e+04  -0.2 4.31e+01    -  1.00e+00 7.71e-01h  1\n",
      "iter    objective    inf_pr   inf_du lg(mu)  ||d||  lg(rg) alpha_du alpha_pr  ls\n",
      "  10  6.0914091e+01 6.60e-02 8.64e+04   0.8 3.14e+00    -  1.00e+00 3.12e-01f  1\n",
      "  11  6.0516040e+01 6.12e-02 6.93e+04   0.4 1.20e+01    -  5.97e-01 7.36e-02h  1\n",
      "  12  5.5552977e+01 2.59e-02 4.73e+04  -0.3 2.21e+01    -  1.00e+00 6.76e-01h  1\n",
      "  13  4.3782748e+01 2.51e-02 1.67e+04  -0.7 2.41e+01    -  1.00e+00 8.75e-01f  1\n",
      "  14  2.7090885e+01 4.82e-01 1.25e+05  -0.2 2.39e+02    -  1.00e+00 1.77e-01f  1\n",
      "  15  1.0520282e+01 1.33e+00 8.18e+04   0.5 8.88e+02    -  1.00e+00 2.67e-01f  1\n",
      "  16  1.0045506e+01 5.79e-01 5.21e+02   0.3 1.58e+02    -  1.00e+00 1.00e+00f  1\n",
      "  17  8.8497304e+00 6.30e-02 5.44e+03  -0.7 9.00e+01    -  1.00e+00 9.34e-01h  1\n",
      "  18  6.1686890e+00 5.85e-01 4.59e+04  -0.4 5.11e+02    -  4.28e-01 7.62e-01f  1\n",
      "  19  1.1538032e+01 3.36e+00 8.69e+01  -0.8 4.39e+02    -  1.00e+00 1.00e+00h  1\n",
      "iter    objective    inf_pr   inf_du lg(mu)  ||d||  lg(rg) alpha_du alpha_pr  ls\n",
      "  20  6.0512217e+00 1.37e+00 4.56e+04  -0.9 3.12e+02    -  7.30e-01 1.00e+00f  1\n",
      "  21  5.3890898e+00 2.77e-01 1.11e+02  -1.5 9.77e+01    -  1.00e+00 1.00e+00h  1\n",
      "  22  6.0373257e+00 1.34e+00 1.29e+05  -1.0 2.23e+02    -  1.00e+00 4.56e-01f  1\n",
      "  23  5.7112550e+00 9.73e-01 9.40e+04  -1.2 5.49e+02    -  1.74e-01 2.40e-01f  2\n",
      "  24  5.3619171e+00 7.61e-01 3.66e+04  -1.2 8.86e+01    -  1.00e+00 8.12e-01h  1\n",
      "  25  5.6962767e+00 1.88e-01 1.96e+01  -1.8 2.06e+02    -  1.00e+00 1.00e+00h  1\n",
      "  26  7.0086089e+00 2.88e-02 7.16e+03  -2.4 1.45e+02    -  9.87e-01 1.00e+00H  1\n",
      "  27  6.8198181e+00 1.46e-01 1.04e+05  -2.9 9.87e+01    -  1.00e+00 7.44e-01f  1\n",
      "  28  5.7747409e+00 1.06e-01 4.83e+04  -3.0 9.85e+01    -  6.83e-01 8.28e-01f  1\n",
      "  29  5.7710977e+00 8.72e-02 4.95e+05  -2.7 4.42e+01    -  1.00e+00 1.14e-01h  1\n",
      "iter    objective    inf_pr   inf_du lg(mu)  ||d||  lg(rg) alpha_du alpha_pr  ls\n",
      "  30  5.8333287e+00 2.61e-02 1.37e+05  -3.2 2.09e+01    -  1.00e+00 7.15e-01h  1\n",
      "  31  5.8983069e+00 3.38e-03 1.63e+04  -4.0 9.23e+00    -  1.00e+00 9.74e-01h  1\n",
      "  32  5.9113609e+00 2.49e-03 1.69e+05  -4.6 1.81e+01    -  1.00e+00 8.31e-01h  1\n",
      "  33  5.9020757e+00 1.00e-03 7.41e+03  -5.2 3.22e+00    -  1.00e+00 9.95e-01h  1\n",
      "  34  5.9001655e+00 1.00e-03 7.49e+02  -6.0 2.77e+00    -  1.00e+00 1.00e+00h  1\n",
      "  35  5.8975155e+00 1.00e-03 6.47e-01  -6.4 5.73e+00    -  1.00e+00 1.00e+00h  1\n",
      "\n",
      "Number of Iterations....: 35\n",
      "\n",
      "                                   (scaled)                 (unscaled)\n",
      "Objective...............:   5.8975155087727584e+00    5.8975155087727584e+00\n",
      "Dual infeasibility......:   6.4704188781053595e-01    6.4704188781053595e-01\n",
      "Constraint violation....:   9.9974586993819875e-04    9.9974586993819875e-04\n",
      "Complementarity.........:   4.4412762860957316e-07    4.4412762860957316e-07\n",
      "Overall NLP error.......:   9.9974586993819875e-04    6.4704188781053595e-01\n",
      "\n",
      "\n",
      "Number of objective function evaluations             = 41\n",
      "Number of objective gradient evaluations             = 36\n",
      "Number of equality constraint evaluations            = 41\n",
      "Number of inequality constraint evaluations          = 41\n",
      "Number of equality constraint Jacobian evaluations   = 36\n",
      "Number of inequality constraint Jacobian evaluations = 36\n",
      "Number of Lagrangian Hessian evaluations             = 0\n",
      "Total CPU secs in IPOPT (w/o function evaluations)   =     45.564\n",
      "Total CPU secs in NLP function evaluations           =      0.861\n",
      "\n",
      "EXIT: Optimal Solution Found.\n"
     ]
    },
    {
     "data": {
      "text/plain": [
       "([-0.199999999888274, 0.45355339060596006, -0.34906585039844434, -3.801612852007844e-11, 0.0003819513794922862, -0.49999999985324683, 0.19999999999856843, 1.327730325064822e-11, -0.9999999999980587, -1.541639374487778e-12  …  -0.500000000189997, 1.8586359899774105e-13, 4.467343727772998e-13, 1.322663959179018e-13, 2.0178732052830547e-12, 2.2011020082633186e-12, 1.3024370762088127e-14, 2.933380502757403e-11, 1.3045565173069824e-14, 0.38799521421836064], Ipopt.Optimizer)"
      ]
     },
     "execution_count": 13,
     "metadata": {},
     "output_type": "execute_result"
    }
   ],
   "source": [
    "Z0 = packZ(nlp, Xguess, Uref)\n",
    "\n",
    "Z_sol, solver = solve(Z0, nlp, c_tol=1e-3, tol=1e-3)"
   ]
  },
  {
   "cell_type": "code",
   "execution_count": 14,
   "metadata": {},
   "outputs": [
    {
     "data": {
      "text/plain": [
       "15-element Vector{Float64}:\n",
       "  1.1172601732667431e-10\n",
       "  1.2686240946635507e-11\n",
       "  4.2155168245017194e-13\n",
       " -3.801612852007844e-11\n",
       "  0.0003819513794922862\n",
       "  1.4675316517553938e-10\n",
       " -1.4315770791029081e-12\n",
       "  1.327730325064822e-11\n",
       "  1.9413359808595487e-12\n",
       " -1.541639374487778e-12\n",
       " -6.741695553772551e-13\n",
       "  1.7997418726656278e-5\n",
       " -4.2058553455957116e-13\n",
       "  3.629174996117791e-12\n",
       " -4.795615456914076e-23"
      ]
     },
     "execution_count": 14,
     "metadata": {},
     "output_type": "execute_result"
    }
   ],
   "source": [
    "Z_sol[1:15] - xinit"
   ]
  },
  {
   "cell_type": "code",
   "execution_count": 15,
   "metadata": {},
   "outputs": [
    {
     "data": {
      "text/plain": [
       "15-element Vector{Float64}:\n",
       " -1.1453782366999121e-11\n",
       " -1.0104528325172168e-11\n",
       " -7.844733044533612e-13\n",
       " -1.9436413933508376e-11\n",
       "  1.8586995585589915e-13\n",
       " -1.89997018118504e-10\n",
       "  1.8586359899774105e-13\n",
       "  4.467343727772998e-13\n",
       "  1.322663959179018e-13\n",
       "  2.0178732052830547e-12\n",
       "  2.2011020082633186e-12\n",
       "  1.3024370762088127e-14\n",
       "  2.933380502757403e-11\n",
       "  1.3045565173069824e-14\n",
       "  0.38799521421836064"
      ]
     },
     "execution_count": 15,
     "metadata": {},
     "output_type": "execute_result"
    }
   ],
   "source": [
    "Z_sol[end-14:end] - xterm"
   ]
  },
  {
   "cell_type": "code",
   "execution_count": 16,
   "metadata": {},
   "outputs": [
    {
     "name": "stdout",
     "output_type": "stream",
     "text": [
      "theta = [-0.34906585039844434, -0.3489565084652224, -0.34863586785943484, -0.3481256380523912, -0.34744959707250467, -0.3466251020178286, -0.3456675507615372, -0.3445916973791306, -0.3434118186195406, -0.3421416120271847, -0.34079414920318274, -0.33938186964655326, -0.33791642117064713, -0.33640824396977415, -0.33486617431777677, -0.33329760152956633, -0.3317088602879703, -0.3301032071807728, -0.32850516330701995, -0.32691198741084865, -0.31600750863461374, -0.308587240447929, -0.30110394471490837, -0.2935384047205221, -0.2858068760382454, -0.2779841862013507, -0.27022424784541416, -0.26259338306902485, -0.2550726511992168, -0.24760722531782592, -0.24014599047996238, -0.2326788656815055, -0.22519959712343715, -0.21762859541903457, -0.2098559857024605, -0.2018130581017257, -0.19347311784718735, -0.18483945922393213, -0.1759408372362745, -0.16683104563372708, -0.15757454196440937, -0.14821770774774076, -0.138780653153999, -0.1292788947849903, -0.11974289194419657, -0.11022015859616903, -0.10076772356463692, -0.09144312554856869, -0.08229807170955918, -0.07337613786706379, -0.0647139356317845, -0.05634338982614905, -0.0482918299537359, -0.04057739246259638, -0.033199606289758384, -0.02612115180295186, -0.019295639702941493, -0.012776288145142135, -0.006811864721549741, -0.002006717076766912, -7.844733044533612e-13]\n"
     ]
    }
   ],
   "source": [
    "theta = zeros(N)\n",
    "for k = 1:N\n",
    "    theta[k] = Z_sol[3+20*(k-1)]\n",
    "end\n",
    "@show theta;"
   ]
  },
  {
   "cell_type": "code",
   "execution_count": 17,
   "metadata": {},
   "outputs": [
    {
     "name": "stdout",
     "output_type": "stream",
     "text": [
      "dt[k] = Z_sol[20 + 20 * (k - 1)] = 0.001\n",
      "dt[k] = Z_sol[20 + 20 * (k - 1)] = 0.001\n",
      "dt[k] = Z_sol[20 + 20 * (k - 1)] = 0.001\n",
      "dt[k] = Z_sol[20 + 20 * (k - 1)] = 0.001\n",
      "dt[k] = Z_sol[20 + 20 * (k - 1)] = 0.001\n",
      "dt[k] = Z_sol[20 + 20 * (k - 1)] = 0.001\n",
      "dt[k] = Z_sol[20 + 20 * (k - 1)] = 0.001\n",
      "dt[k] = Z_sol[20 + 20 * (k - 1)] = 0.001\n",
      "dt[k] = Z_sol[20 + 20 * (k - 1)] = 0.001\n",
      "dt[k] = Z_sol[20 + 20 * (k - 1)] = 0.001\n",
      "dt[k] = Z_sol[20 + 20 * (k - 1)] = 0.001\n",
      "dt[k] = Z_sol[20 + 20 * (k - 1)] = 0.001\n",
      "dt[k] = Z_sol[20 + 20 * (k - 1)] = 0.001\n",
      "dt[k] = Z_sol[20 + 20 * (k - 1)] = 0.001\n",
      "dt[k] = Z_sol[20 + 20 * (k - 1)] = 0.001\n",
      "dt[k] = Z_sol[20 + 20 * (k - 1)] = 0.001\n",
      "dt[k] = Z_sol[20 + 20 * (k - 1)] = 0.001\n",
      "dt[k] = Z_sol[20 + 20 * (k - 1)] = 0.001\n",
      "dt[k] = Z_sol[20 + 20 * (k - 1)] = 0.001\n",
      "dt[k] = Z_sol[20 + 20 * (k - 1)] = 0.008999989154076177\n",
      "dt[k] = Z_sol[20 + 20 * (k - 1)] = 0.008999987671933093\n",
      "dt[k] = Z_sol[20 + 20 * (k - 1)] = 0.00899998356156425\n",
      "dt[k] = Z_sol[20 + 20 * (k - 1)] = 0.00899997972286566\n",
      "dt[k] = Z_sol[20 + 20 * (k - 1)] = 0.008999975300077139\n",
      "dt[k] = Z_sol[20 + 20 * (k - 1)] = 0.008999970423838386\n",
      "dt[k] = Z_sol[20 + 20 * (k - 1)] = 0.008999965179602812\n",
      "dt[k] = Z_sol[20 + 20 * (k - 1)] = 0.008999959410164252\n",
      "dt[k] = Z_sol[20 + 20 * (k - 1)] = 0.008999953159004256\n",
      "dt[k] = Z_sol[20 + 20 * (k - 1)] = 0.008999946540703256\n",
      "dt[k] = Z_sol[20 + 20 * (k - 1)] = 0.00899993966795175\n",
      "dt[k] = Z_sol[20 + 20 * (k - 1)] = 0.008999932638409064\n",
      "dt[k] = Z_sol[20 + 20 * (k - 1)] = 0.00899992503877115\n",
      "dt[k] = Z_sol[20 + 20 * (k - 1)] = 0.00899991692032513\n",
      "dt[k] = Z_sol[20 + 20 * (k - 1)] = 0.008999909061167715\n",
      "dt[k] = Z_sol[20 + 20 * (k - 1)] = 0.008999901548304625\n",
      "dt[k] = Z_sol[20 + 20 * (k - 1)] = 0.008999894347345891\n",
      "dt[k] = Z_sol[20 + 20 * (k - 1)] = 0.008999887475274776\n",
      "dt[k] = Z_sol[20 + 20 * (k - 1)] = 0.008999880966846051\n",
      "dt[k] = Z_sol[20 + 20 * (k - 1)] = 0.008999874871404271\n",
      "dt[k] = Z_sol[20 + 20 * (k - 1)] = 0.008999869204589608\n",
      "dt[k] = Z_sol[20 + 20 * (k - 1)] = 0.00899986395308879\n",
      "dt[k] = Z_sol[20 + 20 * (k - 1)] = 0.008999859086741885\n",
      "dt[k] = Z_sol[20 + 20 * (k - 1)] = 0.00899985447189791\n",
      "dt[k] = Z_sol[20 + 20 * (k - 1)] = 0.008999849864585928\n",
      "dt[k] = Z_sol[20 + 20 * (k - 1)] = 0.008999845090509427\n",
      "dt[k] = Z_sol[20 + 20 * (k - 1)] = 0.008999840157661814\n",
      "dt[k] = Z_sol[20 + 20 * (k - 1)] = 0.00899983528931335\n",
      "dt[k] = Z_sol[20 + 20 * (k - 1)] = 0.00899983087978682\n",
      "dt[k] = Z_sol[20 + 20 * (k - 1)] = 0.00899982738807461\n",
      "dt[k] = Z_sol[20 + 20 * (k - 1)] = 0.008999825108892367\n",
      "dt[k] = Z_sol[20 + 20 * (k - 1)] = 0.008999823936301906\n",
      "dt[k] = Z_sol[20 + 20 * (k - 1)] = 0.00899982341717987\n",
      "dt[k] = Z_sol[20 + 20 * (k - 1)] = 0.008999823121324758\n",
      "dt[k] = Z_sol[20 + 20 * (k - 1)] = 0.008999823025272687\n",
      "dt[k] = Z_sol[20 + 20 * (k - 1)] = 0.008999823950050235\n",
      "dt[k] = Z_sol[20 + 20 * (k - 1)] = 0.008999826221600397\n",
      "dt[k] = Z_sol[20 + 20 * (k - 1)] = 0.00899982926956211\n",
      "dt[k] = Z_sol[20 + 20 * (k - 1)] = 0.008999835574875308\n",
      "dt[k] = Z_sol[20 + 20 * (k - 1)] = 0.008999846316079365\n",
      "dt[k] = Z_sol[20 + 20 * (k - 1)] = 0.008999907344176586\n"
     ]
    }
   ],
   "source": [
    "dt = zeros(N-1)\n",
    "for k = 1:N-1\n",
    "    @show dt[k] = Z_sol[20 + 20 * (k-1)]\n",
    "end"
   ]
  },
  {
   "cell_type": "code",
   "execution_count": 18,
   "metadata": {},
   "outputs": [],
   "source": [
    "# display(Z_sol)\n",
    "writedlm(\"data_optimal_solution_found_1.csv\", Z_sol, ',')"
   ]
  }
 ],
 "metadata": {
  "@webio": {
   "lastCommId": "06ae0ce534004235b788f1a5d0a7d59a",
   "lastKernelId": "320b288e-2315-4364-93b6-7c10c2dfbcc7"
  },
  "kernelspec": {
   "display_name": "Julia 1.6.6",
   "language": "julia",
   "name": "julia-1.6"
  },
  "language_info": {
   "file_extension": ".jl",
   "mimetype": "application/julia",
   "name": "julia",
   "version": "1.6.6"
  }
 },
 "nbformat": 4,
 "nbformat_minor": 4
}
