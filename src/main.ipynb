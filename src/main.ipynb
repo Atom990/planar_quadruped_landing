{
 "cells": [
  {
   "cell_type": "code",
   "execution_count": 1,
   "metadata": {},
   "outputs": [
    {
     "name": "stderr",
     "output_type": "stream",
     "text": [
      "\u001b[32m\u001b[1m  Activating\u001b[22m\u001b[39m environment at `~/planar_quadruped_landing/Project.toml`\n"
     ]
    }
   ],
   "source": [
    "import Pkg;\n",
    "Pkg.activate(joinpath(@__DIR__, \"..\"));\n",
    "Pkg.instantiate();\n",
    "using DelimitedFiles\n",
    "using CSV\n",
    "using LinearAlgebra\n",
    "using ForwardDiff\n",
    "using RobotDynamics\n",
    "using Ipopt\n",
    "using MathOptInterface\n",
    "const MOI = MathOptInterface\n",
    "using Random;"
   ]
  },
  {
   "cell_type": "code",
   "execution_count": 2,
   "metadata": {},
   "outputs": [],
   "source": [
    "include(\"quadratic_cost.jl\")\n",
    "include(\"planar_quadruped.jl\")\n",
    "include(\"nlp.jl\")\n",
    "include(\"moi.jl\")\n",
    "include(\"costs.jl\")\n",
    "include(\"constraints.jl\")\n",
    "include(\"ref_traj.jl\");"
   ]
  },
  {
   "cell_type": "code",
   "execution_count": 3,
   "metadata": {},
   "outputs": [
    {
     "data": {
      "text/plain": [
       "6.26418390534633"
      ]
     },
     "metadata": {},
     "output_type": "display_data"
    }
   ],
   "source": [
    "h = 2\n",
    "v_init_y = sqrt(2 * 9.81 * h)"
   ]
  },
  {
   "cell_type": "code",
   "execution_count": 4,
   "metadata": {},
   "outputs": [],
   "source": [
    "# Dynamics model\n",
    "model = PlanarQuadruped()\n",
    "g, mb, lb, l1, l2 = model.g, model.mb, model.lb, model.l1, model.l2\n",
    "\n",
    "# Some parameters\n",
    "dt = 0.009\n",
    "N = 41\n",
    "times = range(0, dt * (N - 1), length=N)\n",
    "n = 15\n",
    "m = 5\n",
    "\n",
    "# initial state\n",
    "xinit = zeros(n)\n",
    "xinit[1] = -lb / 2            # xb\n",
    "xinit[2] = sqrt(l1^2 + l2^2)  # yb\n",
    "xinit[6] = -lb                # x2\n",
    "xinit[9] = -v_init_y          # yb_dot\n",
    "xinit[10] = -pi/2             # theta_dot\n",
    "\n",
    "# Desired final state\n",
    "xterm = zeros(n)\n",
    "xterm[1] = -lb / 2           # xb\n",
    "xterm[2] = sqrt(l1^2 + l2^2) # yb\n",
    "xterm[6] = -lb;              # x2"
   ]
  },
  {
   "cell_type": "code",
   "execution_count": 5,
   "metadata": {},
   "outputs": [],
   "source": [
    "# Reference Trajectory\n",
    "Xref, Uref = reference_trajectory(model, N, xterm, dt);"
   ]
  },
  {
   "cell_type": "code",
   "execution_count": 6,
   "metadata": {},
   "outputs": [],
   "source": [
    "# Objective\n",
    "Q = Diagonal([10.0; 10.0; 1.0; 10.0; 10.0; 10.0; 10.0; 10.0; 10.0; 1.0; 10.0; 10.0; 10.0; 10.0; 0.0])\n",
    "R = Diagonal(fill(1e-3, 5))\n",
    "R[end, end] = 0.0\n",
    "Qf = Q\n",
    "\n",
    "obj = map(1:N-1) do k\n",
    "    LQRCost(Q, R, Xref[k], Uref[k])\n",
    "end\n",
    "push!(obj, LQRCost(Qf, R * 0, Xref[N], Uref[1]));"
   ]
  },
  {
   "cell_type": "code",
   "execution_count": 7,
   "metadata": {},
   "outputs": [],
   "source": [
    "# Define the NLP\n",
    "nlp = HybridNLP(model, obj, N, xinit, xterm);"
   ]
  },
  {
   "cell_type": "code",
   "execution_count": 8,
   "metadata": {},
   "outputs": [],
   "source": [
    "# initialize guess\n",
    "Xguess = [zeros(n) for x in Xref]\n",
    "\n",
    "for k = 1:N\n",
    "    Xguess[k][1:14] = xterm[1:14]\n",
    "    Xguess[k][end] = dt * (k - 1)\n",
    "end"
   ]
  },
  {
   "cell_type": "code",
   "execution_count": 12,
   "metadata": {},
   "outputs": [
    {
     "name": "stdout",
     "output_type": "stream",
     "text": [
      "Creating NLP Block Data...\n",
      "Creating Ipopt...\n",
      "Adding constraints...\n",
      "starting Ipopt Solve...\n"
     ]
    },
    {
     "name": "stdout",
     "output_type": "stream",
     "text": [
      "This is Ipopt version 3.13.4, running with linear solver mumps.\n",
      "NOTE: Other linear solvers might be more efficient (see Ipopt documentation).\n",
      "\n",
      "Number of nonzeros in equality constraint Jacobian...:   580280\n",
      "Number of nonzeros in inequality constraint Jacobian.:        0\n",
      "Number of nonzeros in Lagrangian Hessian.............:        0\n",
      "\n",
      "Total number of variables............................:      815\n",
      "                     variables with only lower bounds:       80\n",
      "                variables with lower and upper bounds:       81\n",
      "                     variables with only upper bounds:        0\n",
      "Total number of equality constraints.................:      712\n",
      "Total number of inequality constraints...............:        0\n",
      "        inequality constraints with only lower bounds:        0\n",
      "   inequality constraints with lower and upper bounds:        0\n",
      "        inequality constraints with only upper bounds:        0\n",
      "\n",
      "iter    objective    inf_pr   inf_du lg(mu)  ||d||  lg(rg) alpha_du alpha_pr  ls\n",
      "   0  6.7549865e-04 1.96e+02 1.00e+00   0.0 0.00e+00    -  0.00e+00 0.00e+00   0\n",
      "   1  1.4564705e-03 1.93e+02 1.35e+02  -0.6 9.97e+01    -  1.00e+00 1.45e-02h  1\n",
      "   2  4.0924878e-02 1.81e+02 1.22e+03   0.4 1.36e+02    -  1.00e+00 6.43e-02h  1\n",
      "   3  4.4590105e+01 1.69e+00 9.02e+02   0.4 8.73e+02    -  9.99e-01 1.00e+00h  1\n",
      "   4  3.5976190e+01 1.21e+00 5.84e+02  -0.1 3.72e+02    -  9.99e-01 1.00e+00f  1\n",
      "   5  6.1206517e+01 1.71e+00 7.55e+02   0.2 8.00e+02    -  4.62e-01 2.81e-01f  2\n",
      "   6  5.6570033e+01 7.82e-01 6.24e+02  -0.0 1.78e+02    -  1.00e+00 1.00e+00h  1\n",
      "   7  4.0771308e+01 3.21e-01 1.89e+02  -0.0 2.35e+02    -  1.00e+00 1.00e+00H  1\n",
      "   8  5.7511698e+01 2.42e+00 7.18e+02   0.2 2.78e+02    -  1.00e+00 1.00e+00f  1\n",
      "   9  5.4211000e+01 1.37e+00 2.20e+02   0.1 1.47e+02    -  1.00e+00 1.00e+00h  1\n",
      "iter    objective    inf_pr   inf_du lg(mu)  ||d||  lg(rg) alpha_du alpha_pr  ls\n",
      "  10  4.2826342e+01 5.16e-01 9.29e+01   0.1 1.12e+02    -  1.00e+00 1.00e+00f  1\n",
      "  11  3.5305644e+01 1.57e-01 7.80e+01  -0.6 1.14e+02    -  1.00e+00 1.00e+00h  1\n",
      "  12  3.2921857e+01 2.51e-02 1.73e+02  -1.0 3.25e+02    -  9.93e-01 1.00e+00H  1\n",
      "  13  3.1204851e+01 5.85e-02 8.30e+01  -1.2 6.93e+01    -  1.00e+00 1.00e+00H  1\n",
      "  14  3.1160069e+01 2.13e-02 2.76e+01  -1.4 4.03e+01    -  9.07e-01 1.00e+00H  1\n",
      "  15  3.0192248e+01 6.47e-01 9.65e+00  -1.2 2.79e+01    -  1.00e+00 9.57e-01f  1\n",
      "  16  3.0299311e+01 1.01e-02 3.56e+00  -1.6 1.66e+01    -  9.96e-01 1.00e+00h  1\n",
      "  17  3.0671839e+01 4.13e-03 8.73e+00  -2.1 1.56e+01    -  9.80e-01 1.00e+00H  1\n",
      "  18  3.0748141e+01 5.50e-03 1.11e+01  -2.5 1.62e+01    -  9.65e-01 9.12e-01H  1\n",
      "  19  3.0804882e+01 8.54e-04 3.43e+00  -3.4 3.50e+00    -  9.91e-01 9.07e-01H  1\n",
      "iter    objective    inf_pr   inf_du lg(mu)  ||d||  lg(rg) alpha_du alpha_pr  ls\n",
      "  20  3.0726733e+01 1.21e-02 3.60e+00  -3.1 9.42e+00    -  1.00e+00 5.16e-01h  1\n",
      "  21  3.0718577e+01 8.74e-03 7.77e+00  -9.1 4.22e+01    -  4.31e-01 2.42e-01h  1\n",
      "  22  3.0649003e+01 9.43e-02 9.96e+01  -3.7 4.76e+01    -  1.00e+00 2.53e-01h  1\n",
      "  23  3.0633613e+01 7.75e-02 2.76e+01  -9.5 1.08e+01    -  7.73e-01 1.81e-01h  1\n",
      "  24  3.0586759e+01 6.72e-02 9.70e+01  -3.5 1.78e+01    -  1.00e+00 3.79e-01h  1\n",
      "  25  3.0788360e+01 6.55e-02 1.42e+01  -3.6 3.52e+01    -  1.00e+00 9.61e-01H  1\n",
      "  26  3.0652923e+01 2.69e-02 1.16e+01  -3.6 2.32e+01    -  1.00e+00 3.32e-01f  1\n",
      "  27  3.0571742e+01 6.02e-02 7.85e+00  -2.7 3.30e+01    -  1.00e+00 3.11e-01f  1\n",
      "  28  3.0756196e+01 6.91e-02 9.70e+00  -3.2 2.00e+01    -  1.00e+00 9.71e-01H  1\n",
      "  29  3.0651910e+01 5.64e-02 1.25e+00  -3.3 1.29e+01    -  9.34e-01 1.00e+00h  1\n",
      "iter    objective    inf_pr   inf_du lg(mu)  ||d||  lg(rg) alpha_du alpha_pr  ls\n",
      "  30  3.0700937e+01 6.26e-03 3.16e+00  -4.2 4.40e+00    -  1.00e+00 1.00e+00h  1\n",
      "  31  3.0529602e+01 1.45e-02 2.50e+00  -3.4 2.88e+00    -  1.00e+00 6.20e-01f  1\n",
      "  32  3.0560050e+01 1.12e-02 3.04e-01  -3.8 1.49e+00    -  1.00e+00 1.00e+00h  1\n",
      "  33  3.0523679e+01 6.37e-03 3.01e-01  -3.9 6.07e-01    -  1.00e+00 9.75e-01h  1\n",
      "  34  3.0527223e+01 4.78e-04 4.24e-01  -5.0 5.38e-01    -  1.00e+00 9.79e-01h  1\n",
      "  35  3.0562104e+01 1.70e-04 4.14e+00  -4.4 7.40e+00    -  9.78e-01 1.00e+00H  1\n",
      "  36  3.0611285e+01 6.57e-05 1.60e+00  -5.1 2.43e+00    -  1.00e+00 9.81e-01H  1\n",
      "  37  3.0593722e+01 2.22e-04 1.21e+00  -5.4 2.77e+00    -  1.00e+00 1.00e+00h  1\n",
      "  38  3.0525308e+01 1.40e-02 1.17e+01  -5.5 7.80e-01    -  1.00e+00 5.07e-01h  1\n",
      "  39  3.0528911e+01 1.06e-02 1.78e+01  -5.5 5.96e-01    -  1.00e+00 2.50e-01h  3\n",
      "iter    objective    inf_pr   inf_du lg(mu)  ||d||  lg(rg) alpha_du alpha_pr  ls\n",
      "  40  3.0595156e+01 2.90e-04 2.90e+01  -5.5 1.12e+00    -  4.56e-01 1.00e+00H  1\n",
      "  41  3.0597487e+01 2.89e-04 2.35e+01  -5.5 6.19e-01    -  1.00e+00 9.38e-03h  6\n",
      "  42  3.0615958e+01 4.07e-06 1.49e-01  -5.5 8.46e-01    -  1.00e+00 1.00e+00H  1\n",
      "  43  3.0634117e+01 1.20e-06 3.85e-01  -6.2 3.03e-01    -  9.95e-01 1.00e+00H  1\n",
      "  44  3.0634180e+01 1.20e-06 3.61e+01  -8.1 4.40e-01    -  1.00e+00 3.73e-03h  9\n",
      "  45  3.0635289e+01 7.93e-07 4.96e+01  -6.8 1.10e+00    -  1.00e+00 1.15e-02h  6\n",
      "  46  3.0635298e+01 7.93e-07 5.02e+01  -6.8 1.63e+00    -  1.00e+00 1.74e-04h 13\n",
      "  47  3.0637442e+01 2.33e-07 4.80e+01  -6.8 1.51e+00    -  1.00e+00 4.32e-02h  5\n",
      "  48  3.0637944e+01 2.28e-07 4.96e+01  -6.8 1.89e+00    -  1.00e+00 1.22e-02h  7\n",
      "  49  3.0637948e+01 2.28e-07 5.02e+01  -6.8 3.09e+00    -  1.00e+00 1.15e-04h 14\n",
      "iter    objective    inf_pr   inf_du lg(mu)  ||d||  lg(rg) alpha_du alpha_pr  ls\n",
      "  50  3.0660217e+01 9.03e-08 2.81e-01  -6.8 3.20e+00    -  1.00e+00 1.00e+00H  1\n",
      "  51  3.0660222e+01 9.03e-08 5.02e+01  -7.6 6.53e-01    -  1.00e+00 2.57e-04h 12\n",
      "  52  3.0660225e+01 9.03e-08 6.33e+01  -7.2 1.32e+00    -  1.00e+00 9.77e-04h 11\n",
      "  53  3.0660227e+01 9.03e-08 6.34e+01  -7.2 1.27e+00    -  1.00e+00 1.68e-04h 13\n",
      "  54  3.0660228e+01 9.03e-08 6.34e+01  -7.2 5.60e+00    -  1.00e+00 5.18e-05h 15\n",
      "  55  3.0660235e+01 9.01e-08 6.33e+01  -7.2 3.38e+00    -  1.00e+00 8.96e-04h 11\n",
      "  56  3.0660089e+01 2.03e-05 3.17e+01  -7.2 2.51e+00    -  1.00e+00 5.00e-01f  2\n",
      "  57  3.0660164e+01 2.03e-05 6.33e+01  -7.2 1.05e+00    -  1.00e+00 7.19e-04h  8\n",
      "  58  3.0665536e+01 1.95e-08 9.42e-03  -7.2 6.15e-01    -  1.00e+00 1.00e+00H  1\n",
      "\n",
      "Number of Iterations....: 58\n",
      "\n",
      "                                   (scaled)                 (unscaled)\n",
      "Objective...............:   3.0665536267315758e+01    3.0665536267315758e+01\n",
      "Dual infeasibility......:   9.4214160996842020e-03    9.4214160996842020e-03\n",
      "Constraint violation....:   1.9549488863454046e-08    1.9549488863454046e-08\n",
      "Complementarity.........:   4.3389319809294808e-07    4.3389319809294808e-07\n",
      "Overall NLP error.......:   5.6675772214319538e-04    9.4214160996842020e-03\n",
      "\n",
      "\n",
      "Number of objective function evaluations             = 244\n",
      "Number of objective gradient evaluations             = 59\n",
      "Number of equality constraint evaluations            = 244\n",
      "Number of inequality constraint evaluations          = 0\n",
      "Number of equality constraint Jacobian evaluations   = 59\n",
      "Number of inequality constraint Jacobian evaluations = 0\n",
      "Number of Lagrangian Hessian evaluations             = 0\n",
      "Total CPU secs in IPOPT (w/o function evaluations)   =     32.695\n",
      "Total CPU secs in NLP function evaluations           =      1.543\n",
      "\n",
      "EXIT: Optimal Solution Found.\n"
     ]
    },
    {
     "data": {
      "text/plain": [
       "([-0.25000000000000044, 0.3535533905932738, 5.0127396250101924e-18, -4.997135112800288e-9, 3.548562252082801e-19, -0.49999999999999983, -1.0874446350183664e-18, -1.757182583283248e-17, -6.26418390534633, -1.5707963267948966  …  -0.50000000000003, 1.3352632358296945e-17, 2.6160144182112552e-17, -7.223170926082834e-21, 2.3837146695059082e-18, 0.0, 0.0, 0.0, 0.0, 0.6645707693199359], Ipopt.Optimizer)"
      ]
     },
     "metadata": {},
     "output_type": "display_data"
    }
   ],
   "source": [
    "Z0 = packZ(nlp, Xguess, Uref)\n",
    "\n",
    "Z_sol, solver = solve(Z0, nlp, c_tol=1e-3, tol=1e-3)"
   ]
  },
  {
   "cell_type": "code",
   "execution_count": null,
   "metadata": {},
   "outputs": [],
   "source": [
    "Z_sol[1:15] - xinit"
   ]
  },
  {
   "cell_type": "code",
   "execution_count": null,
   "metadata": {},
   "outputs": [],
   "source": [
    "Z_sol[end-14:end] - xterm"
   ]
  },
  {
   "cell_type": "code",
   "execution_count": null,
   "metadata": {},
   "outputs": [],
   "source": [
    "nlp.uinds[end]"
   ]
  },
  {
   "cell_type": "code",
   "execution_count": null,
   "metadata": {},
   "outputs": [],
   "source": [
    "@show F1y_final = Z_sol[797]\n",
    "@show F2y_final = Z_sol[799]\n",
    "@show F1y_final + F2y_final"
   ]
  },
  {
   "cell_type": "code",
   "execution_count": null,
   "metadata": {},
   "outputs": [],
   "source": [
    "dt = zeros(N - 1)\n",
    "for k = 1:N-1\n",
    "    @show dt[k] = Z_sol[20+20*(k-1)];\n",
    "end"
   ]
  },
  {
   "cell_type": "code",
   "execution_count": null,
   "metadata": {},
   "outputs": [],
   "source": [
    "F1y = zeros(N-1)\n",
    "F2y = zeros(N-1)\n",
    "for k = 1:N-1\n",
    "    @show F1y[k] = Z_sol[17+20*(k-1)];\n",
    "    @show F2y[k] = Z_sol[19+20*(k-1)];\n",
    "end"
   ]
  },
  {
   "cell_type": "code",
   "execution_count": null,
   "metadata": {},
   "outputs": [],
   "source": [
    "ui = nlp.uinds\n",
    "Z_sol[ui[end]][2] + Z_sol[ui[end]][4] + nlp.model.mb * nlp.model.g"
   ]
  },
  {
   "cell_type": "code",
   "execution_count": null,
   "metadata": {},
   "outputs": [],
   "source": [
    "# display(Z_sol)\n",
    "writedlm(\"data_8.csv\", Z_sol, ',')"
   ]
  },
  {
   "cell_type": "code",
   "execution_count": null,
   "metadata": {},
   "outputs": [],
   "source": []
  }
 ],
 "metadata": {
  "@webio": {
   "lastCommId": "06ae0ce534004235b788f1a5d0a7d59a",
   "lastKernelId": "320b288e-2315-4364-93b6-7c10c2dfbcc7"
  },
  "kernelspec": {
   "display_name": "Julia 1.6.6",
   "language": "julia",
   "name": "julia-1.6"
  },
  "language_info": {
   "file_extension": ".jl",
   "mimetype": "application/julia",
   "name": "julia",
   "version": "1.6.6"
  }
 },
 "nbformat": 4,
 "nbformat_minor": 4
}
