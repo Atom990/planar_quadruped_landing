{
 "cells": [
  {
   "cell_type": "code",
   "execution_count": null,
   "metadata": {},
   "outputs": [],
   "source": [
    "import Pkg;\n",
    "Pkg.activate(joinpath(@__DIR__, \"..\"));\n",
    "Pkg.instantiate();\n",
    "using DelimitedFiles\n",
    "using CSV\n",
    "using LinearAlgebra\n",
    "using ForwardDiff\n",
    "using RobotDynamics\n",
    "using Ipopt\n",
    "using MathOptInterface\n",
    "const MOI = MathOptInterface\n",
    "using Random;"
   ]
  },
  {
   "cell_type": "code",
   "execution_count": null,
   "metadata": {},
   "outputs": [],
   "source": [
    "include(\"quadratic_cost.jl\")\n",
    "include(\"real_quadruped.jl\")\n",
    "include(\"nlp.jl\")\n",
    "include(\"moi.jl\")\n",
    "include(\"costs.jl\")\n",
    "include(\"constraints.jl\")\n",
    "include(\"ref_traj.jl\");"
   ]
  },
  {
   "cell_type": "code",
   "execution_count": null,
   "metadata": {},
   "outputs": [],
   "source": [
    "h = 1\n",
    "v_init_z = sqrt(2 * 9.81 * h)"
   ]
  },
  {
   "cell_type": "code",
   "execution_count": null,
   "metadata": {},
   "outputs": [],
   "source": [
    "# Dynamics model\n",
    "model = RealQuadruped()\n",
    "\n",
    "# Some parameters\n",
    "dt = 0.02\n",
    "N = 41\n",
    "times = range(0, dt * (N - 1), length=N)\n",
    "n = 37\n",
    "m = 13\n",
    "\n",
    "# initial state\n",
    "xinit = zeros(n)\n",
    "\n",
    "xinit[3] = 0.5 # zb\n",
    "\n",
    "xinit[4] = deg2rad(15) # roll\n",
    "\n",
    "xinit[7] = 0.15 # x1\n",
    "xinit[8] = 0.1  # y1\n",
    "\n",
    "xinit[10] = -0.15 # x2\n",
    "xinit[11] = 0.1   # y2\n",
    "\n",
    "xinit[13] = 0.15 # x3\n",
    "xinit[14] = -0.1 # y3\n",
    "\n",
    "xinit[16] = -0.15 # x4\n",
    "xinit[17] = -0.1  # y4\n",
    "\n",
    "xinit[21] = -v_init_z # vzb\n",
    "\n",
    "# Desired final state\n",
    "xterm = zeros(n)\n",
    "\n",
    "xterm[3] = 0.3 # zb\n",
    "\n",
    "xterm[7:17] = xinit[7:17];"
   ]
  },
  {
   "cell_type": "code",
   "execution_count": null,
   "metadata": {},
   "outputs": [],
   "source": [
    "# Reference Trajectory\n",
    "Xref, Uref = reference_trajectory(model, N, xterm, dt);"
   ]
  },
  {
   "cell_type": "code",
   "execution_count": null,
   "metadata": {},
   "outputs": [],
   "source": [
    "# Objective\n",
    "Q_diag = 10.0 * ones(n)\n",
    "Q_diag[end] = 0.0\n",
    "Q = Diagonal(Q_diag)\n",
    "\n",
    "R_diag = 1e-3 * ones(m)\n",
    "R_diag[end] = 0.0\n",
    "R = Diagonal(R_diag)\n",
    "\n",
    "Qf = Q\n",
    "\n",
    "obj = map(1:N-1) do k\n",
    "    LQRCost(Q, R, Xref[k], Uref[k])\n",
    "end\n",
    "\n",
    "push!(obj, LQRCost(Qf, R * 0, Xref[N], Uref[1]));"
   ]
  },
  {
   "cell_type": "code",
   "execution_count": null,
   "metadata": {},
   "outputs": [],
   "source": [
    "# Define the NLP\n",
    "nlp = HybridNLP(model, obj, N, xinit, xterm);"
   ]
  },
  {
   "cell_type": "code",
   "execution_count": null,
   "metadata": {},
   "outputs": [],
   "source": [
    "# initialize guess\n",
    "Xguess = [zeros(n) for x in Xref]\n",
    "\n",
    "for k = 1:N\n",
    "    Xguess[k][1:36] = xterm[1:36]\n",
    "    Xguess[k][end] = dt * (k - 1)\n",
    "end\n",
    "\n",
    "mb, g = model.mb, model.g\n",
    "Uguess = [zeros(m) for u in Uref]\n",
    "\n",
    "for k = 1:N-1\n",
    "    Uguess[k][3] = -mb*g/4\n",
    "    Uguess[k][6] = -mb*g/4\n",
    "    Uguess[k][9] = -mb*g/4\n",
    "    Uguess[k][12] = -mb*g/4\n",
    "    Uguess[k][end] = dt;\n",
    "end\n",
    "\n",
    "Z0 = packZ(nlp, Xguess, Uguess);"
   ]
  },
  {
   "cell_type": "code",
   "execution_count": null,
   "metadata": {},
   "outputs": [],
   "source": [
    "Z_sol, solver = solve(Z0, nlp, c_tol=1e-3, tol=1e-3)"
   ]
  },
  {
   "cell_type": "code",
   "execution_count": null,
   "metadata": {},
   "outputs": [],
   "source": [
    "data_idx = 3\n",
    "\n",
    "if isdir(\"../results/data_\" * string(data_idx)) == false\n",
    "    mkdir(\"../results/data_\" * string(data_idx))\n",
    "end\n",
    "\n",
    "writedlm(\"../results/data_\" * string(data_idx) * \"/data_\" * string(data_idx) * \".csv\", Z_sol, ',')"
   ]
  }
 ],
 "metadata": {
  "@webio": {
   "lastCommId": "06ae0ce534004235b788f1a5d0a7d59a",
   "lastKernelId": "320b288e-2315-4364-93b6-7c10c2dfbcc7"
  },
  "kernelspec": {
   "display_name": "Julia 1.7.1",
   "language": "julia",
   "name": "julia-1.7"
  },
  "language_info": {
   "file_extension": ".jl",
   "mimetype": "application/julia",
   "name": "julia",
   "version": "1.7.1"
  }
 },
 "nbformat": 4,
 "nbformat_minor": 4
}
