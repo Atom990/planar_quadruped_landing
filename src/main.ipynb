{
 "cells": [
  {
   "cell_type": "code",
   "execution_count": null,
   "metadata": {},
   "outputs": [],
   "source": [
    "import Pkg;\n",
    "Pkg.activate(joinpath(@__DIR__, \"..\"));\n",
    "Pkg.instantiate();\n",
    "using DelimitedFiles\n",
    "using CSV\n",
    "using LinearAlgebra\n",
    "using ForwardDiff\n",
    "using RobotDynamics\n",
    "using Ipopt\n",
    "using MathOptInterface\n",
    "const MOI = MathOptInterface\n",
    "using Random"
   ]
  },
  {
   "cell_type": "code",
   "execution_count": null,
   "metadata": {},
   "outputs": [],
   "source": [
    "include(\"quadratic_cost.jl\")\n",
    "include(\"planar_quadruped.jl\")\n",
    "include(\"sparseblocks.jl\")\n",
    "include(\"nlp.jl\")\n",
    "include(\"moi.jl\")\n",
    "include(\"costs.jl\")\n",
    "include(\"constraints.jl\")\n",
    "include(\"ref_traj.jl\")"
   ]
  },
  {
   "cell_type": "code",
   "execution_count": null,
   "metadata": {},
   "outputs": [],
   "source": [
    "# Dynamics model\n",
    "model = PlanarQuadruped()\n",
    "g, mb, lb, l1, l2 = model.g, model.mb, model.lb, model.l1, model.l2\n",
    "\n",
    "# Discretization\n",
    "dt = 0.01\n",
    "N = 101\n",
    "times = range(0, dt * (N - 1), length=N)\n",
    "k_trans = 21\n",
    "n = 15\n",
    "m = 5;"
   ]
  },
  {
   "cell_type": "code",
   "execution_count": null,
   "metadata": {},
   "outputs": [],
   "source": [
    "# Initial condition. Currently, we assume the initial mode ID is 1\n",
    "xinit = zeros(n)\n",
    "xinit[1] = -lb / 2.5                # xb\n",
    "xinit[2] = sqrt(l1^2 + l2^2) + 0.05 # yb\n",
    "xinit[3] = -30 * pi / 180           # theta\n",
    "xinit[6] = -lb                      # x2\n",
    "xinit[7] = 0.25                     # y2\n",
    "xinit[9] = -1.0                     # yb_dot\n",
    "xinit[12] = -1.0                    # y2_dot\n",
    "\n",
    "xterm = zeros(n)\n",
    "xterm[1] = -lb / 2           # xb\n",
    "xterm[2] = sqrt(l1^2 + l2^2) # yb\n",
    "xterm[6] = -lb               # x2\n",
    "\n",
    "init_mode = 1\n",
    "\n",
    "# Reference Trajectory\n",
    "Xref, Uref = reference_trajectory(model, N, k_trans, xterm, init_mode, dt);"
   ]
  },
  {
   "cell_type": "code",
   "execution_count": null,
   "metadata": {},
   "outputs": [],
   "source": [
    "# Objective\n",
    "Q = Diagonal([10.0; 10.0; 1.0; 10.0; 10.0; 10.0; 10.0; 10.0; 10.0; 1.0; 10.0; 10.0; 10.0; 10.0; 0.0])\n",
    "R = Diagonal(fill(1e-3, 5))\n",
    "Qf = Q\n",
    "\n",
    "obj = map(1:N-1) do k\n",
    "    LQRCost(Q, R, Xref[k], Uref[k])\n",
    "end\n",
    "push!(obj, LQRCost(Qf, R * 0, Xref[N], Uref[1]))\n",
    "\n",
    "# Define the NLP\n",
    "nlp = HybridNLP(model, obj, init_mode, k_trans, N, xinit, xterm);"
   ]
  },
  {
   "cell_type": "code",
   "execution_count": null,
   "metadata": {},
   "outputs": [],
   "source": [
    "# Initial guess\n",
    "xtransit = zeros(n)\n",
    "xtransit[1] = -lb / 2 # xb\n",
    "xtransit[2] = l1      # yb\n",
    "xtransit[3] = 0       # theta\n",
    "xtransit[6] = -lb     # x2\n",
    "\n",
    "Random.seed!(1)\n",
    "\n",
    "# Uguess = [u + 0.1*randn(length(u)) for u in Uref]\n",
    "# Xguess = [x + 0.1*randn(length(x)) for x in Xref]\n",
    "\n",
    "Uguess = [zeros(m) + rand(m) for u in Uref]\n",
    "Xguess = [zeros(n) for x in Xref]\n",
    "\n",
    "k_trans = nlp.k_trans\n",
    "\n",
    "for i = 1:k_trans\n",
    "    Xguess[i] = xinit + (xtransit - xinit) / k_trans * i + 0.1 * rand(n)\n",
    "end\n",
    "\n",
    "# display((xtransit - xinit)/timesteps_phase_1)"
   ]
  },
  {
   "cell_type": "code",
   "execution_count": null,
   "metadata": {},
   "outputs": [],
   "source": [
    "Z0 = packZ(nlp, Xguess, Uguess);\n",
    "\n",
    "# Z_sol, solver = solve(Z0, nlp, c_tol=1e-6, tol=1e-6)\n",
    "Z_sol, solver = solve(Z0, nlp, c_tol=1e-4, tol=1e-3)"
   ]
  },
  {
   "cell_type": "code",
   "execution_count": null,
   "metadata": {},
   "outputs": [],
   "source": [
    "Z_sol[1:14] - xinit"
   ]
  },
  {
   "cell_type": "code",
   "execution_count": null,
   "metadata": {},
   "outputs": [],
   "source": [
    "Z_sol[end-13:end] - xterm"
   ]
  },
  {
   "cell_type": "code",
   "execution_count": null,
   "metadata": {},
   "outputs": [],
   "source": [
    "y2 = zeros(N)\n",
    "for k = 1:N\n",
    "    y2[k] = Z_sol[7+18*(k-1)]\n",
    "end\n",
    "@show y2"
   ]
  },
  {
   "cell_type": "code",
   "execution_count": null,
   "metadata": {},
   "outputs": [],
   "source": [
    "# display(Z_sol)\n",
    "writedlm(\"data.csv\", Z_sol, ',')"
   ]
  }
 ],
 "metadata": {
  "@webio": {
   "lastCommId": "06ae0ce534004235b788f1a5d0a7d59a",
   "lastKernelId": "320b288e-2315-4364-93b6-7c10c2dfbcc7"
  },
  "kernelspec": {
   "display_name": "Julia 1.7.1",
   "language": "julia",
   "name": "julia-1.7"
  },
  "language_info": {
   "file_extension": ".jl",
   "mimetype": "application/julia",
   "name": "julia",
   "version": "1.7.1"
  }
 },
 "nbformat": 4,
 "nbformat_minor": 4
}
