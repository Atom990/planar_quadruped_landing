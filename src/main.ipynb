{
 "cells": [
  {
   "cell_type": "code",
   "execution_count": 1,
   "metadata": {},
   "outputs": [
    {
     "name": "stderr",
     "output_type": "stream",
     "text": [
      "\u001b[32m\u001b[1m  Activating\u001b[22m\u001b[39m environment at `~/planar_quadruped_landing_real_quadruped/Project.toml`\n"
     ]
    }
   ],
   "source": [
    "import Pkg;\n",
    "Pkg.activate(joinpath(@__DIR__, \"..\"));\n",
    "Pkg.instantiate();\n",
    "using DelimitedFiles\n",
    "using CSV\n",
    "using LinearAlgebra\n",
    "using ForwardDiff\n",
    "using RobotDynamics\n",
    "using Ipopt\n",
    "using MathOptInterface\n",
    "const MOI = MathOptInterface\n",
    "using Random;"
   ]
  },
  {
   "cell_type": "code",
   "execution_count": 2,
   "metadata": {},
   "outputs": [
    {
     "data": {
      "application/vnd.webio.node+json": {
       "children": [],
       "instanceArgs": {
        "namespace": "html",
        "tag": "div"
       },
       "nodeType": "DOM",
       "props": {},
       "type": "node"
      },
      "text/html": [
       "<div style=\"padding: 1em; background-color: #f8d6da; border: 1px solid #f5c6cb; font-weight: bold;\">\n",
       "<p>The WebIO Jupyter extension was not detected. See the\n",
       "<a href=\"https://juliagizmos.github.io/WebIO.jl/latest/providers/ijulia/\" target=\"_blank\">\n",
       "    WebIO Jupyter integration documentation\n",
       "</a>\n",
       "for more information.\n",
       "</div>\n"
      ],
      "text/plain": [
       "WebIO._IJuliaInit()"
      ]
     },
     "metadata": {},
     "output_type": "display_data"
    }
   ],
   "source": [
    "include(\"quadratic_cost.jl\")\n",
    "include(\"real_quadruped.jl\")\n",
    "include(\"nlp.jl\")\n",
    "include(\"moi.jl\")\n",
    "include(\"costs.jl\")\n",
    "include(\"constraints.jl\")\n",
    "include(\"ref_traj.jl\");"
   ]
  },
  {
   "cell_type": "code",
   "execution_count": 3,
   "metadata": {},
   "outputs": [
    {
     "data": {
      "text/plain": [
       "4.4294469180700204"
      ]
     },
     "execution_count": 3,
     "metadata": {},
     "output_type": "execute_result"
    }
   ],
   "source": [
    "h = 1\n",
    "v_init_z = sqrt(2 * 9.81 * h)"
   ]
  },
  {
   "cell_type": "code",
   "execution_count": 4,
   "metadata": {},
   "outputs": [],
   "source": [
    "# Dynamics model\n",
    "model = RealQuadruped()\n",
    "\n",
    "# Some parameters\n",
    "dt = 0.02\n",
    "N = 41\n",
    "times = range(0, dt * (N - 1), length=N)\n",
    "n = 37\n",
    "m = 13\n",
    "\n",
    "# initial state\n",
    "xinit = zeros(n)\n",
    "\n",
    "xinit[3] = 0.5 # zb\n",
    "\n",
    "xinit[7] = 0.15 # x1\n",
    "xinit[8] = 0.1  # y1\n",
    "\n",
    "xinit[10] = -0.15 # x2\n",
    "xinit[11] = 0.1   # y2\n",
    "\n",
    "xinit[13] = 0.15 # x3\n",
    "xinit[14] = -0.1 # y3\n",
    "\n",
    "xinit[16] = -0.15 # x4\n",
    "xinit[17] = -0.1  # y4\n",
    "\n",
    "xinit[21] = -v_init_z # vzb\n",
    "\n",
    "# Desired final state\n",
    "xterm = zeros(n)\n",
    "\n",
    "xterm[3] = 0.3 # zb\n",
    "\n",
    "xterm[7:17] = xinit[7:17];"
   ]
  },
  {
   "cell_type": "code",
   "execution_count": 5,
   "metadata": {},
   "outputs": [],
   "source": [
    "# Reference Trajectory\n",
    "Xref, Uref = reference_trajectory(model, N, xterm, dt);"
   ]
  },
  {
   "cell_type": "code",
   "execution_count": 6,
   "metadata": {},
   "outputs": [],
   "source": [
    "# Objective\n",
    "Q_diag = 10.0 * ones(n)\n",
    "Q_diag[end] = 0.0\n",
    "Q = Diagonal(Q_diag)\n",
    "\n",
    "R_diag = 1e-3 * ones(m)\n",
    "R_diag[end] = 0.0\n",
    "R = Diagonal(R_diag)\n",
    "\n",
    "Qf = Q\n",
    "\n",
    "obj = map(1:N-1) do k\n",
    "    LQRCost(Q, R, Xref[k], Uref[k])\n",
    "end\n",
    "\n",
    "push!(obj, LQRCost(Qf, R * 0, Xref[N], Uref[1]));"
   ]
  },
  {
   "cell_type": "code",
   "execution_count": 7,
   "metadata": {},
   "outputs": [],
   "source": [
    "# Define the NLP\n",
    "nlp = HybridNLP(model, obj, N, xinit, xterm);"
   ]
  },
  {
   "cell_type": "code",
   "execution_count": 8,
   "metadata": {},
   "outputs": [],
   "source": [
    "# initialize guess\n",
    "Xguess = [zeros(n) for x in Xref]\n",
    "\n",
    "for k = 1:N\n",
    "    Xguess[k][1:36] = xterm[1:36]\n",
    "    Xguess[k][end] = dt * (k - 1)\n",
    "end\n",
    "\n",
    "mb, g = model.mb, model.g\n",
    "Uguess = [zeros(m) for u in Uref]\n",
    "\n",
    "for k = 1:N-1\n",
    "    Uguess[k][3] = -mb*g/4\n",
    "    Uguess[k][6] = -mb*g/4\n",
    "    Uguess[k][9] = -mb*g/4\n",
    "    Uguess[k][12] = -mb*g/4\n",
    "    Uguess[k][end] = dt;\n",
    "end\n",
    "\n",
    "Z0 = packZ(nlp, Xguess, Uguess);"
   ]
  },
  {
   "cell_type": "code",
   "execution_count": 9,
   "metadata": {},
   "outputs": [
    {
     "name": "stdout",
     "output_type": "stream",
     "text": [
      "Creating NLP Block Data...\n",
      "Creating Ipopt...\n",
      "Adding constraints...\n",
      "starting Ipopt Solve...\n",
      "\n",
      "******************************************************************************\n",
      "This program contains Ipopt, a library for large-scale nonlinear optimization.\n",
      " Ipopt is released as open source code under the Eclipse Public License (EPL).\n",
      "         For more information visit https://github.com/coin-or/Ipopt\n",
      "******************************************************************************\n",
      "\n",
      "This is Ipopt version 3.13.4, running with linear solver mumps.\n",
      "NOTE: Other linear solvers might be more efficient (see Ipopt documentation).\n",
      "\n",
      "Number of nonzeros in equality constraint Jacobian...:  3497529\n",
      "Number of nonzeros in inequality constraint Jacobian.:        0\n",
      "Number of nonzeros in Lagrangian Hessian.............:        0\n",
      "\n",
      "Total number of variables............................:     2037\n",
      "                     variables with only lower bounds:      160\n",
      "                variables with lower and upper bounds:      163\n",
      "                     variables with only upper bounds:        0\n",
      "Total number of equality constraints.................:     1717\n",
      "Total number of inequality constraints...............:        0\n",
      "        inequality constraints with only lower bounds:        0\n",
      "   inequality constraints with lower and upper bounds:        0\n",
      "        inequality constraints with only upper bounds:        0\n",
      "\n",
      "iter    objective    inf_pr   inf_du lg(mu)  ||d||  lg(rg) alpha_du alpha_pr  ls\n",
      "   0  2.1490735e+00 4.43e+00 9.99e-01   0.0 0.00e+00    -  0.00e+00 0.00e+00   0\n",
      "   1  8.8324594e-01 3.79e+00 1.36e+04  -1.0 7.36e+01    -  3.30e-01 1.45e-01f  1\n",
      "   2  1.0987940e+00 3.76e+00 1.35e+04   0.8 6.71e+01    -  7.18e-01 5.91e-03f  1\n",
      "   3  3.2633866e+00 3.20e+00 2.51e+04   2.4 7.70e+01    -  9.49e-01 1.50e-01f  1\n",
      "   4  1.0533579e+01 5.47e-01 5.13e+04   2.5 6.17e+01    -  1.00e+00 8.29e-01f  1\n",
      "   5  1.4261916e+01 1.57e-01 5.22e+04   2.4 2.41e+01    -  1.00e+00 7.14e-01h  1\n",
      "   6  1.6020638e+01 2.49e-03 8.14e+03   1.3 6.67e+00    -  1.00e+00 1.00e+00h  1\n",
      "   7  1.5138840e+01 8.64e-04 3.26e+02   1.6 2.51e+00    -  1.00e+00 1.00e+00f  1\n",
      "   8  1.4965719e+01 7.65e-05 4.11e+01   0.6 3.75e-01    -  9.95e-01 1.00e+00f  1\n",
      "   9  1.4939010e+01 2.91e-06 7.32e+00  -1.5 7.06e-02    -  9.81e-01 1.00e+00f  1\n",
      "iter    objective    inf_pr   inf_du lg(mu)  ||d||  lg(rg) alpha_du alpha_pr  ls\n",
      "  10  1.4688624e+01 2.32e-03 4.66e+00  -1.7 4.69e+00    -  9.95e-01 1.00e+00f  1\n",
      "  11  1.3455424e+01 9.54e-03 3.50e+01  -2.0 3.26e+01    -  1.00e+00 1.00e+00f  1\n",
      "  12  1.2814296e+01 2.59e-02 2.21e+01  -1.5 6.27e+01    -  9.82e-01 6.89e-01f  1\n",
      "  13  1.2740420e+01 3.13e-02 4.84e+01  -1.7 4.88e+01    -  1.00e+00 1.00e+00f  1\n",
      "  14  1.2790853e+01 5.58e-03 1.25e+01  -2.4 2.00e+01    -  1.00e+00 1.00e+00h  1\n",
      "  15  1.2855535e+01 5.49e-03 1.45e+00  -2.2 5.76e+01    -  1.00e+00 1.56e-02h  7\n",
      "  16  1.2788705e+01 3.59e-03 1.31e+00  -2.5 1.73e+00    -  1.00e+00 1.00e+00h  1\n",
      "  17  1.2817916e+01 1.73e-03 4.72e+00  -2.9 2.19e+00    -  1.00e+00 9.09e-01H  1\n",
      "  18  1.2821642e+01 1.63e-03 1.19e+01  -3.4 2.05e+00    -  1.00e+00 1.09e-01h  4\n",
      "  19  1.2819041e+01 3.37e-03 3.99e+00  -3.6 8.08e-01    -  1.00e+00 8.55e-01H  1\n",
      "iter    objective    inf_pr   inf_du lg(mu)  ||d||  lg(rg) alpha_du alpha_pr  ls\n",
      "  20  1.2804986e+01 3.14e-02 4.94e+00  -3.2 7.13e+00    -  1.00e+00 4.13e-01h  2\n",
      "  21  1.3024877e+01 1.16e-02 7.43e+00  -3.3 6.09e+00    -  1.00e+00 1.00e+00H  1\n",
      "  22  1.2840945e+01 1.43e-02 5.36e+00  -3.3 1.02e+00    -  1.00e+00 5.44e-01f  1\n",
      "  23  1.2748273e+01 3.57e-02 7.24e+00  -3.3 2.19e+00    -  2.80e-01 5.52e-01f  1\n",
      "  24  1.2777365e+01 4.59e-02 1.04e+01  -2.4 1.52e+01    -  1.00e+00 2.50e-01f  1\n",
      "  25  1.4131065e+01 4.90e-02 1.89e+00  -2.5 3.94e+00    -  1.00e+00 1.00e+00H  1\n",
      "  26  1.2936827e+01 2.26e-02 1.18e+00  -2.5 2.46e+00    -  9.10e-01 1.00e+00F  1\n",
      "  27  1.2734181e+01 1.13e-01 8.92e+00  -2.5 3.82e+00    -  3.59e-01 5.20e-01f  1\n",
      "  28  1.2775379e+01 7.46e-02 2.56e+00  -2.3 2.86e+00    -  1.00e+00 9.04e-01f  1\n",
      "  29  1.2867144e+01 2.61e-02 4.38e-01  -2.4 3.50e+00    -  1.00e+00 1.00e+00H  1\n",
      "iter    objective    inf_pr   inf_du lg(mu)  ||d||  lg(rg) alpha_du alpha_pr  ls\n",
      "  30  1.2914277e+01 2.27e-03 3.64e+00  -2.4 4.71e+00    -  1.00e+00 1.00e+00H  1\n",
      "  31  1.3434696e+01 1.23e-03 3.77e+00  -2.4 3.55e+00    -  1.00e+00 1.00e+00H  1\n",
      "  32  1.2765136e+01 3.24e-02 1.63e+00  -2.7 5.02e+00    -  1.00e+00 1.00e+00f  1\n",
      "  33  1.3445803e+01 9.94e-03 2.79e+00  -2.8 2.74e+00    -  7.90e-01 1.00e+00H  1\n",
      "  34  1.2915807e+01 4.25e-02 2.53e+00  -2.8 1.24e+00    -  2.34e-01 4.98e-01F  1\n",
      "  35  1.2771176e+01 1.78e-02 1.28e+00  -2.8 2.27e+00    -  6.57e-01 8.21e-01F  1\n",
      "  36  1.2799970e+01 1.78e-02 6.03e-01  -2.8 5.43e-01    -  7.12e-01 8.27e-01h  1\n",
      "  37  1.2761497e+01 6.44e-03 3.36e-01  -2.8 2.91e-01    -  1.00e+00 9.84e-01f  1\n",
      "  38  1.2773442e+01 7.44e-04 9.54e-02  -3.4 6.28e-02    -  1.00e+00 1.00e+00h  1\n",
      "  39  1.2815092e+01 2.89e-04 1.57e-01  -4.0 2.33e-01    -  9.92e-01 9.91e-01H  1\n",
      "iter    objective    inf_pr   inf_du lg(mu)  ||d||  lg(rg) alpha_du alpha_pr  ls\n",
      "  40  1.2815715e+01 2.88e-04 9.08e+00  -3.6 2.11e+00    -  9.84e-01 6.81e-03h  5\n",
      "  41  1.2817758e+01 2.78e-04 2.96e+01  -3.7 9.86e-01    -  1.00e+00 3.77e-02h  4\n",
      "  42  1.2817782e+01 2.73e-04 4.83e+01  -4.3 2.05e+00    -  1.00e+00 1.88e-02h  6\n",
      "  43  1.2818562e+01 2.62e-04 4.31e+01  -4.1 3.34e-01    -  1.00e+00 4.20e-02h  5\n",
      "  44  1.2818549e+01 2.55e-04 4.62e+01  -4.6 8.38e-01    -  1.00e+00 2.83e-02h  6\n",
      "  45  1.2837655e+01 1.84e-04 5.04e+00  -4.8 3.72e-01    -  1.00e+00 8.91e-01H  1\n",
      "  46  1.2955329e+01 2.60e-04 7.19e-02  -4.9 5.02e-01    -  1.00e+00 9.99e-01H  1\n",
      "  47  1.2839617e+01 1.14e-02 8.32e-02  -5.1 4.58e-01    -  1.00e+00 1.00e+00f  1\n",
      "  48  1.2839009e+01 5.15e-06 1.79e-02  -5.2 3.30e-02    -  1.00e+00 1.00e+00h  1\n",
      "  49  1.2837047e+01 1.55e-04 1.71e-02  -5.8 4.87e-02    -  1.00e+00 1.00e+00h  1\n",
      "iter    objective    inf_pr   inf_du lg(mu)  ||d||  lg(rg) alpha_du alpha_pr  ls\n",
      "  50  1.2823084e+01 1.48e-03 1.30e-01  -6.7 2.77e-01    -  1.00e+00 9.86e-01h  1\n",
      "  51  1.2811972e+01 1.98e-03 1.91e-01  -6.8 2.10e+00    -  5.00e-01 1.21e-01h  1\n",
      "  52  1.2811593e+01 1.79e-03 7.63e-01  -6.8 2.02e-01    -  1.65e-01 9.40e-02h  1\n",
      "  53  1.2787817e+01 1.72e-02 1.66e-01  -6.8 4.87e-01    -  1.00e+00 1.00e+00f  1\n",
      "  54  1.2777504e+01 2.06e-02 3.06e-01  -6.8 3.27e+00    -  1.53e-01 1.00e-01h  1\n",
      "  55  1.2777706e+01 1.49e-02 1.41e-01  -6.8 3.41e-01    -  9.39e-02 2.80e-01h  1\n",
      "  56  1.2742711e+01 3.17e-02 2.14e-01  -6.8 1.08e+00    -  5.97e-01 6.60e-01f  1\n",
      "  57  1.2740601e+01 3.15e-02 2.62e+00  -5.7 9.74e+00    -  1.00e+00 5.02e-03f  1\n",
      "  58  1.2740522e+01 3.14e-02 1.60e+00 -11.0 6.87e-01    -  3.43e-01 4.23e-03h  1\n",
      "  59  1.2705038e+01 3.31e-02 1.36e+00  -4.2 3.95e+00    -  1.00e+00 2.01e-01f  1\n",
      "iter    objective    inf_pr   inf_du lg(mu)  ||d||  lg(rg) alpha_du alpha_pr  ls\n",
      "  60  1.2708179e+01 3.31e-02 1.10e+00  -3.3 2.69e+01    -  1.00e+00 8.07e-03h  5\n",
      "  61  1.2672056e+01 1.25e-02 2.44e-01  -4.3 8.98e-01    -  1.00e+00 1.00e+00h  1\n",
      "  62  1.3147001e+01 1.83e-04 3.95e-01  -4.0 2.72e+00    -  1.00e+00 1.00e+00H  1\n",
      "  63  1.2660348e+01 2.39e-02 3.68e-01  -4.1 2.49e+00    -  1.00e+00 1.00e+00f  1\n",
      "  64  1.2672521e+01 2.76e-03 1.75e-01  -3.9 3.77e-01    -  1.00e+00 1.00e+00h  1\n",
      "  65  1.2661323e+01 8.29e-04 6.32e-01  -4.4 4.69e-01    -  1.00e+00 9.11e-01h  1\n",
      "  66  1.2739249e+01 5.08e-04 7.82e-01  -5.4 1.54e+00    -  1.00e+00 8.36e-01H  1\n",
      "  67  1.2657453e+01 2.21e-02 1.27e-01  -4.1 9.85e-01    -  1.00e+00 1.00e+00f  1\n",
      "  68  1.2745624e+01 5.83e-03 4.69e-01  -3.8 1.29e+00    -  1.00e+00 1.00e+00h  1\n",
      "  69  1.2648735e+01 7.30e-03 4.32e-01  -3.9 9.92e-01    -  7.94e-01 8.81e-01h  1\n",
      "iter    objective    inf_pr   inf_du lg(mu)  ||d||  lg(rg) alpha_du alpha_pr  ls\n",
      "  70  1.2651110e+01 3.61e-03 1.07e+00  -3.6 5.50e-01    -  1.00e+00 4.28e-01f  1\n",
      "  71  1.2652731e+01 4.89e-04 1.64e-02  -4.3 1.20e-01    -  1.00e+00 1.00e+00h  1\n",
      "  72  1.2653760e+01 4.24e-04 1.07e+00  -5.3 8.54e-02    -  1.00e+00 6.25e-01h  1\n",
      "  73  1.2655338e+01 1.18e-04 3.41e-02  -5.8 3.11e-02    -  1.00e+00 6.47e-01h  1\n",
      "  74  1.2657075e+01 2.18e-04 3.42e-01  -7.0 3.49e-02    -  1.00e+00 9.23e-01h  1\n",
      "  75  1.2656732e+01 1.80e-05 5.11e-02  -6.6 1.55e-02    -  1.00e+00 9.63e-01h  1\n",
      "  76  1.2656286e+01 1.64e-05 4.64e-03  -7.8 2.11e-02    -  1.00e+00 1.00e+00h  1\n",
      "  77  1.2656242e+01 5.41e-06 1.36e-02  -8.7 3.08e-02    -  1.00e+00 1.00e+00h  1\n",
      "  78  1.2655807e+01 8.66e-06 2.61e-02 -10.0 4.47e-02    -  1.00e+00 1.00e+00h  1\n",
      "  79  1.2656807e+01 6.19e-07 5.00e-02 -11.0 8.20e-02    -  1.00e+00 1.00e+00H  1\n",
      "iter    objective    inf_pr   inf_du lg(mu)  ||d||  lg(rg) alpha_du alpha_pr  ls\n",
      "  80  1.2655413e+01 1.00e-04 3.19e-02 -11.0 4.57e-02    -  1.00e+00 1.00e+00h  1\n",
      "  81  1.2654747e+01 1.43e-05 7.32e-03 -11.0 4.82e-02    -  1.00e+00 1.00e+00h  1\n",
      "  82  1.2654119e+01 5.99e-06 4.27e-02 -11.0 1.05e-01    -  1.00e+00 1.00e+00h  1\n",
      "  83  1.2655073e+01 4.01e-05 3.11e-01 -11.0 5.43e-01    -  1.00e+00 1.00e+00H  1\n",
      "  84  1.2654275e+01 2.05e-04 4.49e-01 -11.0 1.41e+00    -  1.00e+00 1.25e-01h  4\n",
      "  85  1.2677784e+01 7.53e-07 1.49e-01 -11.0 2.59e-01    -  1.00e+00 1.00e+00H  1\n",
      "  86  1.2652507e+01 2.40e-03 8.86e-02 -11.0 3.80e-01    -  1.00e+00 1.00e+00f  1\n",
      "  87  1.2654301e+01 2.51e-04 3.04e-02 -11.0 2.60e-01    -  1.00e+00 1.00e+00h  1\n",
      "  88  1.2650589e+01 4.16e-05 1.20e-02 -11.0 1.24e-01    -  1.00e+00 1.00e+00h  1\n",
      "  89  1.2650328e+01 1.59e-05 5.35e-03 -11.0 5.86e-02    -  1.00e+00 1.00e+00h  1\n",
      "iter    objective    inf_pr   inf_du lg(mu)  ||d||  lg(rg) alpha_du alpha_pr  ls\n",
      "  90  1.2650143e+01 2.43e-06 8.13e-03 -11.0 2.50e-02    -  1.00e+00 1.00e+00h  1\n",
      "  91  1.2650089e+01 1.11e-07 1.31e-03 -11.0 8.22e-03    -  1.00e+00 1.00e+00h  1\n",
      "  92  1.2649951e+01 8.16e-07 8.26e-04 -11.0 6.55e-03    -  1.00e+00 1.00e+00h  1\n",
      "\n",
      "Number of Iterations....: 92\n",
      "\n",
      "                                   (scaled)                 (unscaled)\n",
      "Objective...............:   1.2649950999681481e+01    1.2649950999681481e+01\n",
      "Dual infeasibility......:   8.2643382137348453e-04    8.2643382137348453e-04\n",
      "Constraint violation....:   8.1643476096751599e-07    8.1643476096751599e-07\n",
      "Complementarity.........:   1.0000214010818177e-11    1.0000214010818177e-11\n",
      "Overall NLP error.......:   8.2643382137348453e-04    8.2643382137348453e-04\n",
      "\n",
      "\n",
      "Number of objective function evaluations             = 178\n",
      "Number of objective gradient evaluations             = 93\n",
      "Number of equality constraint evaluations            = 178\n",
      "Number of inequality constraint evaluations          = 0\n",
      "Number of equality constraint Jacobian evaluations   = 93\n",
      "Number of inequality constraint Jacobian evaluations = 0\n",
      "Number of Lagrangian Hessian evaluations             = 0\n",
      "Total CPU secs in IPOPT (w/o function evaluations)   =    640.294\n",
      "Total CPU secs in NLP function evaluations           =      6.060\n",
      "\n",
      "EXIT: Optimal Solution Found.\n"
     ]
    },
    {
     "data": {
      "text/plain": [
       "([-1.0740771157349048e-12, -2.4242161660364105e-11, 0.49999999999994554, -1.283628336706759e-13, -9.38583001177672e-15, -1.7062967182032288e-15, 0.15000000000024596, 0.1000000000075244, -1.0374746893961827e-16, -0.14999999999975433  …  0.0, 0.0, 0.0, 0.0, 0.0, 0.0, 0.0, 0.0, 0.0, 0.5842117694485136], Ipopt.Optimizer)"
      ]
     },
     "execution_count": 9,
     "metadata": {},
     "output_type": "execute_result"
    }
   ],
   "source": [
    "Z_sol, solver = solve(Z0, nlp, c_tol=1e-3, tol=1e-3)"
   ]
  },
  {
   "cell_type": "code",
   "execution_count": 11,
   "metadata": {},
   "outputs": [
    {
     "data": {
      "text/plain": [
       "37-element Vector{Float64}:\n",
       " -1.0740771157349048e-12\n",
       " -2.4242161660364105e-11\n",
       " -5.445643935786393e-14\n",
       " -1.283628336706759e-13\n",
       " -9.38583001177672e-15\n",
       " -1.7062967182032288e-15\n",
       "  2.4596991110570343e-13\n",
       "  7.52439777151892e-12\n",
       " -1.0374746893961827e-16\n",
       "  2.456645997739315e-13\n",
       "  7.5238287822188e-12\n",
       " -8.870835041696512e-17\n",
       "  2.458588888032409e-13\n",
       "  ⋮\n",
       "  0.0\n",
       "  0.0\n",
       "  0.0\n",
       "  0.0\n",
       "  0.0\n",
       "  0.0\n",
       "  0.0\n",
       "  0.0\n",
       "  0.0\n",
       "  0.0\n",
       "  0.0\n",
       " -7.724812570049827e-18"
      ]
     },
     "execution_count": 11,
     "metadata": {},
     "output_type": "execute_result"
    }
   ],
   "source": [
    "Z_sol[1:37] - xinit"
   ]
  },
  {
   "cell_type": "code",
   "execution_count": null,
   "metadata": {},
   "outputs": [],
   "source": [
    "Z_sol[end-14:end] - xterm"
   ]
  },
  {
   "cell_type": "code",
   "execution_count": null,
   "metadata": {},
   "outputs": [],
   "source": [
    "@show F1y_final = Z_sol[797]\n",
    "@show F2y_final = Z_sol[799]\n",
    "@show F1y_final + F2y_final"
   ]
  },
  {
   "cell_type": "code",
   "execution_count": null,
   "metadata": {},
   "outputs": [],
   "source": [
    "dt = zeros(N - 1)\n",
    "for k = 1:N-1\n",
    "    @show dt[k] = Z_sol[20+20*(k-1)];\n",
    "end"
   ]
  },
  {
   "cell_type": "code",
   "execution_count": null,
   "metadata": {},
   "outputs": [],
   "source": [
    "F1y = zeros(N-1)\n",
    "F2y = zeros(N-1)\n",
    "for k = 1:N-1\n",
    "    @show F1y[k] = Z_sol[17+20*(k-1)];\n",
    "    @show F2y[k] = Z_sol[19+20*(k-1)];\n",
    "end"
   ]
  },
  {
   "cell_type": "code",
   "execution_count": null,
   "metadata": {},
   "outputs": [],
   "source": [
    "ui = nlp.uinds\n",
    "Z_sol[ui[end]][2] + Z_sol[ui[end]][4] + nlp.model.mb * nlp.model.g"
   ]
  },
  {
   "cell_type": "code",
   "execution_count": null,
   "metadata": {},
   "outputs": [],
   "source": [
    "# display(Z_sol)\n",
    "writedlm(\"data_1.csv\", Z_sol, ',')"
   ]
  }
 ],
 "metadata": {
  "@webio": {
   "lastCommId": "06ae0ce534004235b788f1a5d0a7d59a",
   "lastKernelId": "320b288e-2315-4364-93b6-7c10c2dfbcc7"
  },
  "kernelspec": {
   "display_name": "Julia 1.6.6",
   "language": "julia",
   "name": "julia-1.6"
  },
  "language_info": {
   "file_extension": ".jl",
   "mimetype": "application/julia",
   "name": "julia",
   "version": "1.6.6"
  }
 },
 "nbformat": 4,
 "nbformat_minor": 4
}
