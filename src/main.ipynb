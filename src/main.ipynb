{
 "cells": [
  {
   "cell_type": "code",
   "execution_count": 21,
   "metadata": {},
   "outputs": [
    {
     "name": "stderr",
     "output_type": "stream",
     "text": [
      "\u001b[32m\u001b[1m  Activating\u001b[22m\u001b[39m environment at `~/planar_quadruped_landing/Project.toml`\n"
     ]
    }
   ],
   "source": [
    "import Pkg; Pkg.activate(joinpath(@__DIR__,\"..\")); Pkg.instantiate()\n",
    "using LinearAlgebra\n",
    "using ForwardDiff\n",
    "using RobotDynamics\n",
    "using Ipopt\n",
    "using MathOptInterface\n",
    "using TrajOptPlots\n",
    "const MOI = MathOptInterface\n",
    "using Random"
   ]
  },
  {
   "cell_type": "code",
   "execution_count": 22,
   "metadata": {},
   "outputs": [
    {
     "data": {
      "text/plain": [
       "reference_trajectory"
      ]
     },
     "metadata": {},
     "output_type": "display_data"
    }
   ],
   "source": [
    "include(\"quadratic_cost.jl\")\n",
    "include(\"planar_quadruped.jl\")\n",
    "include(\"sparseblocks.jl\")\n",
    "include(\"utils.jl\")\n",
    "include(\"nlp.jl\")\n",
    "include(\"moi.jl\")\n",
    "include(\"costs.jl\")\n",
    "include(\"constraints.jl\")\n",
    "include(\"ref_traj.jl\")"
   ]
  },
  {
   "cell_type": "markdown",
   "metadata": {},
   "source": [
    "## Reference Trajectory"
   ]
  },
  {
   "cell_type": "markdown",
   "metadata": {},
   "source": [
    "## Problem Definition"
   ]
  },
  {
   "cell_type": "code",
   "execution_count": 23,
   "metadata": {},
   "outputs": [],
   "source": [
    "# Dynamics model\n",
    "model = PlanarQuadruped()\n",
    "g, mb, lb, l1, l2 = model.g, model.mb, model.lb, model.l1, model.l2\n",
    "\n",
    "# Discretization\n",
    "tf = 0.6\n",
    "dt = 0.02\n",
    "N = Int(ceil(tf/dt)) + 1\n",
    "times = range(0,tf, length=N)\n",
    "t_trans = 0.2\n",
    "\n",
    "n = 14\n",
    "m = 4\n",
    "\n",
    "# Initial Conditions\n",
    "# currently, we assume the initial mode ID is 1\n",
    "# xinit = [-0.4;0.6;-3.1415/9;        0.0;0.0; -1.0;0.2; 0.0;-0.5;0.0; 0.0;0.0; 0.0;-0.5]\n",
    "# xterm = [-lb/2;sqrt(l1^2+l2^2);0.0; 0.0;0.0; -lb;0.0;  0.0;0.0;0.0;  0.0;0.0; 0.0;0.0]\n",
    "xinit = zeros(n)\n",
    "xinit[1] = -lb/2                  # xb\n",
    "xinit[2] = sqrt(l1^2+l2^2) + 0.05 # yb\n",
    "xinit[3] = 10 * pi / 180          # theta\n",
    "xinit[6] = -lb                    # x2\n",
    "xinit[7] = 0.05                   # y2\n",
    "xinit[9] = -4.0                   # yb_dot\n",
    "xinit[12] = -4.0                  # y2_dot\n",
    "\n",
    "xterm = zeros(n)\n",
    "xterm[1] = -lb/2           # xb\n",
    "xterm[2] = sqrt(l1^2+l2^2) # yb\n",
    "xterm[6] = -lb             # x2\n",
    "\n",
    "init_mode = 1\n",
    "\n",
    "# Reference Trajectory\n",
    "Xref, Uref = reference_trajectory(model, times, t_trans, xinit, xterm, init_mode)\n",
    "\n",
    "# Objective\n",
    "Random.seed!(1)\n",
    "Q = Diagonal([1.0;1.0;1.0; 1.0;1.0; 1.0;1.0; 1.0;1.0;1.0; 1.0;1.0; 1.0;1.0])\n",
    "R = Diagonal(fill(1e-3,4))\n",
    "Qf = Q\n",
    "\n",
    "obj = map(1:N-1) do k\n",
    "    LQRCost(Q,R,Xref[k],Uref[k])\n",
    "end\n",
    "push!(obj, LQRCost(Qf, R*0, Xref[N], Uref[1]))\n",
    "\n",
    "# Define the NLP\n",
    "nlp = HybridNLP(model, obj, init_mode, tf, N, Xref[1], Xref[end]);"
   ]
  },
  {
   "cell_type": "markdown",
   "metadata": {},
   "source": [
    "## Solve"
   ]
  },
  {
   "cell_type": "code",
   "execution_count": 24,
   "metadata": {},
   "outputs": [],
   "source": [
    "# Initial guess\n",
    "Random.seed!(1)\n",
    "Xguess = [x + 0.1*randn(length(x)) for x in Xref]\n",
    "Uguess = [u + 0.1*randn(length(u)) for u in Uref]\n",
    "Z0 = packZ(nlp, Xguess, Uguess);\n",
    "# nlp = HybridNLP(model, obj, init_mode, tf, N, Xref[1], Xref[end], use_sparse_jacobian=false);"
   ]
  },
  {
   "cell_type": "code",
   "execution_count": 32,
   "metadata": {},
   "outputs": [
    {
     "data": {
      "text/plain": [
       "3-element Vector{UnitRange{Int64}}:\n",
       " 1:14\n",
       " 15:28\n",
       " 29:448"
      ]
     },
     "metadata": {},
     "output_type": "display_data"
    }
   ],
   "source": [
    "nlp.cinds"
   ]
  },
  {
   "cell_type": "code",
   "execution_count": 29,
   "metadata": {},
   "outputs": [
    {
     "name": "stdout",
     "output_type": "stream",
     "text": [
      "Creating NLP Block Data...\n",
      "Creating Ipopt...\n",
      "Adding constraints...\n",
      "starting Ipopt Solve...\n"
     ]
    },
    {
     "name": "stdout",
     "output_type": "stream",
     "text": [
      "This is Ipopt version 3.13.4, running with linear solver mumps.\n",
      "NOTE: Other linear solvers might be more efficient (see Ipopt documentation).\n",
      "\n",
      "Number of nonzeros in equality constraint Jacobian...:   248192\n",
      "Number of nonzeros in inequality constraint Jacobian.:        0\n",
      "Number of nonzeros in Lagrangian Hessian.............:        0\n",
      "\n",
      "Total number of variables............................:      554\n",
      "                     variables with only lower bounds:        0\n",
      "                variables with lower and upper bounds:        0\n",
      "                     variables with only upper bounds:        0\n",
      "Total number of equality constraints.................:      448\n",
      "Total number of inequality constraints...............:        0\n",
      "        inequality constraints with only lower bounds:        0\n",
      "   inequality constraints with lower and upper bounds:        0\n",
      "        inequality constraints with only upper bounds:        0\n",
      "\n",
      "iter    objective    inf_pr   inf_du lg(mu)  ||d||  lg(rg) alpha_du alpha_pr  ls\n",
      "   0  2.2954330e+00 4.34e+00 4.05e-01   0.0 0.00e+00    -  0.00e+00 0.00e+00   0\n",
      "   1  6.4697435e+04 1.84e+01 2.93e+04 -11.0 2.54e+02    -  1.00e+00 1.00e+00h  1\n",
      "   2  1.0238694e+04 2.82e+01 2.38e+04 -11.0 2.63e+02    -  1.00e+00 1.00e+00F  1\n",
      "   3  5.4066823e+03 4.87e+00 2.85e+03 -11.0 6.56e+01    -  1.00e+00 1.00e+00f  1\n",
      "   4  2.9166992e+03 2.17e+00 9.68e+02 -11.0 1.04e+02    -  1.00e+00 1.00e+00f  1\n",
      "   5  2.0464447e+03 5.73e-01 3.07e+02 -11.0 5.39e+01    -  1.00e+00 1.00e+00f  1\n",
      "   6  1.5955952e+03 5.30e-01 2.08e+02 -11.0 6.74e+01    -  1.00e+00 1.00e+00f  1\n",
      "   7  1.5158522e+03 5.06e-01 1.02e+02 -11.0 4.67e+01    -  1.00e+00 1.00e+00f  1\n",
      "   8  1.4494991e+03 4.14e-01 1.29e+02 -11.0 4.78e+02    -  1.00e+00 6.25e-02f  5\n",
      "   9  1.6690599e+03 1.39e-01 1.45e+02 -11.0 6.36e+01    -  1.00e+00 1.00e+00H  1\n",
      "iter    objective    inf_pr   inf_du lg(mu)  ||d||  lg(rg) alpha_du alpha_pr  ls\n",
      "  10  1.3409219e+03 9.79e-01 6.64e+01 -11.0 3.05e+01    -  1.00e+00 1.00e+00f  1\n",
      "  11  1.3239451e+03 4.65e-02 2.45e+01 -11.0 5.83e+00    -  1.00e+00 1.00e+00f  1\n",
      "  12  1.3121419e+03 1.26e-02 1.12e+01 -11.0 1.03e+01    -  1.00e+00 1.00e+00f  1\n",
      "  13  2.1490203e+03 1.42e-02 4.81e+02 -11.0 2.86e+02    -  1.00e+00 1.00e+00H  1\n",
      "  14  2.1196012e+03 1.56e-02 4.74e+02 -11.0 1.03e+02    -  1.00e+00 1.56e-02f  7\n",
      "  15  2.0881062e+03 1.70e-02 4.66e+02 -11.0 2.06e+02    -  1.00e+00 1.56e-02f  7\n",
      "  16  2.0642787e+03 1.76e-02 4.61e+02 -11.0 2.37e+02    -  1.00e+00 7.81e-03f  8\n",
      "  17  2.0338553e+03 1.96e-02 4.52e+02 -11.0 1.95e+02    -  1.00e+00 1.56e-02f  7\n",
      "  18  2.0148844e+03 1.91e-02 4.53e+02 -11.0 1.59e+02    -  1.00e+00 7.81e-03f  8\n",
      "  19  1.3308929e+03 5.22e+00 1.06e+02 -11.0 1.10e+02    -  1.00e+00 1.00e+00f  1\n",
      "iter    objective    inf_pr   inf_du lg(mu)  ||d||  lg(rg) alpha_du alpha_pr  ls\n",
      "  20  2.3604238e+03 4.85e+00 2.61e+02 -11.0 1.23e+02    -  1.00e+00 1.00e+00H  1\n",
      "  21  1.3979775e+03 6.09e+00 7.34e+01 -11.0 8.28e+01    -  1.00e+00 1.00e+00F  1\n",
      "  22  1.3644549e+03 2.00e+00 2.91e+01 -11.0 1.41e+02    -  1.00e+00 5.00e-01f  2\n",
      "  23  1.2077573e+03 1.18e+00 8.71e+01 -11.0 8.00e+01    -  1.00e+00 1.00e+00f  1\n",
      "  24  1.4114790e+03 6.63e-01 6.67e+01 -11.0 3.06e+01    -  1.00e+00 1.00e+00h  1\n",
      "  25  1.2097123e+03 4.24e-01 9.42e+00 -11.0 2.59e+01    -  1.00e+00 1.00e+00f  1\n",
      "  26  1.2087650e+03 4.74e-03 4.34e+00 -11.0 3.65e+00    -  1.00e+00 1.00e+00f  1\n",
      "  27  1.2087970e+03 2.14e-03 6.32e+00 -11.0 3.11e+00    -  1.00e+00 1.00e+00h  1\n",
      "  28  1.2077521e+03 1.36e-03 3.96e+00 -11.0 1.89e+00    -  1.00e+00 1.00e+00f  1\n",
      "  29  1.2074207e+03 1.22e-03 2.04e+00 -11.0 1.61e+00    -  1.00e+00 1.00e+00f  1\n",
      "iter    objective    inf_pr   inf_du lg(mu)  ||d||  lg(rg) alpha_du alpha_pr  ls\n",
      "  30  1.2072879e+03 6.23e-03 3.59e+00 -11.0 2.08e+00    -  1.00e+00 1.00e+00f  1\n",
      "  31  1.2065137e+03 7.54e-04 4.96e+00 -11.0 3.13e+00    -  1.00e+00 1.00e+00f  1\n",
      "  32  1.2059560e+03 1.69e-03 7.28e+00 -11.0 1.14e+01    -  1.00e+00 5.00e-01f  2\n",
      "  33  1.2491139e+03 9.22e-05 3.79e+01 -11.0 3.34e+01    -  1.00e+00 1.00e+00H  1\n",
      "  34  1.2061551e+03 1.31e-04 8.81e+00 -11.0 2.57e+01    -  1.00e+00 1.00e+00F  1\n",
      "  35  1.2055281e+03 2.09e-03 4.90e+00 -11.0 9.09e+00    -  1.00e+00 2.50e-01f  3\n",
      "  36  1.2054234e+03 7.89e-04 1.90e+00 -11.0 3.08e+00    -  1.00e+00 5.00e-01f  2\n",
      "  37  1.2053609e+03 1.35e-03 2.79e+00 -11.0 1.27e+00    -  1.00e+00 1.00e+00f  1\n",
      "  38  1.2052772e+03 1.72e-04 5.21e-01 -11.0 8.03e-01    -  1.00e+00 1.00e+00f  1\n",
      "  39  1.2052694e+03 1.26e-04 5.56e-01 -11.0 1.00e+00    -  1.00e+00 2.50e-01f  3\n",
      "iter    objective    inf_pr   inf_du lg(mu)  ||d||  lg(rg) alpha_du alpha_pr  ls\n",
      "  40  1.2052660e+03 1.07e-05 1.26e-01 -11.0 1.23e-01    -  1.00e+00 1.00e+00h  1\n",
      "  41  1.2052547e+03 4.76e-05 5.81e-01 -11.0 3.62e-01    -  1.00e+00 1.00e+00f  1\n",
      "  42  1.2052502e+03 2.07e-05 8.82e-01 -11.0 1.58e+00    -  1.00e+00 2.50e-01f  3\n",
      "  43  1.2052387e+03 2.65e-04 1.79e+00 -11.0 1.45e+00    -  1.00e+00 1.00e+00f  1\n",
      "  44  1.2052344e+03 2.73e-04 2.08e+00 -11.0 5.29e+00    -  1.00e+00 6.25e-02f  5\n",
      "  45  1.2052274e+03 6.70e-05 1.08e+00 -11.0 4.31e-01    -  1.00e+00 1.00e+00f  1\n",
      "  46  1.2052253e+03 3.08e-05 2.65e-01 -11.0 2.49e-01    -  1.00e+00 1.00e+00h  1\n",
      "  47  1.2052240e+03 1.91e-05 6.67e-01 -11.0 2.64e-01    -  1.00e+00 1.00e+00h  1\n",
      "  48  1.2052209e+03 2.71e-05 1.80e-01 -11.0 3.20e-01    -  1.00e+00 1.00e+00h  1\n",
      "  49  1.2052220e+03 1.83e-08 5.39e-01 -11.0 2.89e-01    -  1.00e+00 1.00e+00H  1\n",
      "iter    objective    inf_pr   inf_du lg(mu)  ||d||  lg(rg) alpha_du alpha_pr  ls\n",
      "  50  1.2052192e+03 3.71e-06 8.28e-02 -11.0 2.00e-01    -  1.00e+00 1.00e+00f  1\n",
      "  51  1.2052189e+03 1.25e-06 6.99e-02 -11.0 6.59e-02    -  1.00e+00 1.00e+00h  1\n",
      "  52  1.2052188e+03 3.07e-06 4.15e-01 -11.0 3.08e-01    -  1.00e+00 1.00e+00h  1\n",
      "  53  1.2052185e+03 5.07e-06 4.93e-01 -11.0 1.60e+00    -  1.00e+00 6.25e-02h  5\n",
      "  54  1.2052203e+03 9.55e-10 2.87e-01 -11.0 2.33e-01    -  1.00e+00 1.00e+00H  1\n",
      "  55  1.2052181e+03 7.11e-06 1.63e-01 -11.0 1.70e-01    -  1.00e+00 1.00e+00f  1\n",
      "  56  1.2052248e+03 3.87e-08 2.26e-01 -11.0 1.81e-01    -  1.00e+00 1.00e+00H  1\n",
      "  57  1.2052173e+03 2.97e-05 1.43e-02 -11.0 1.30e-01    -  1.00e+00 1.00e+00f  1\n",
      "\n",
      "Number of Iterations....: 57\n",
      "\n",
      "                                   (scaled)                 (unscaled)\n",
      "Objective...............:   1.2052173244709993e+03    1.2052173244709993e+03\n",
      "Dual infeasibility......:   1.4329945149307854e-02    1.4329945149307854e-02\n",
      "Constraint violation....:   2.9741724279497284e-05    2.9741724279497284e-05\n",
      "Complementarity.........:   0.0000000000000000e+00    0.0000000000000000e+00\n",
      "Overall NLP error.......:   8.4437800297547539e-03    1.4329945149307854e-02\n",
      "\n",
      "\n",
      "Number of objective function evaluations             = 180\n",
      "Number of objective gradient evaluations             = 58\n",
      "Number of equality constraint evaluations            = 180\n",
      "Number of inequality constraint evaluations          = 0\n",
      "Number of equality constraint Jacobian evaluations   = 58\n",
      "Number of inequality constraint Jacobian evaluations = 0\n",
      "Number of Lagrangian Hessian evaluations             = 0\n",
      "Total CPU secs in IPOPT (w/o function evaluations)   =      8.398\n",
      "Total CPU secs in NLP function evaluations           =      0.641\n",
      "\n",
      "EXIT: Optimal Solution Found.\n"
     ]
    },
    {
     "data": {
      "text/plain": [
       "([-0.24999999992484773, 0.4035533906023351, 0.1745329251990924, -3.877603542002777e-11, -1.4222136526216301e-11, -0.5000000000015933, 0.050000000002085404, 7.710524253005343e-12, -3.999999999994787, -2.012770699685609e-13  …  -7.069100603476383e-14, -0.5000000000583055, -7.422611969180345e-14, -5.051745458798031e-12, 2.1436398829733497e-12, -4.780545591816849e-15, 2.9897229344460088e-12, -1.8363438799711354e-13, 1.0383583069873222e-11, -1.8313271056116362e-13], Ipopt.Optimizer)"
      ]
     },
     "metadata": {},
     "output_type": "display_data"
    }
   ],
   "source": [
    "# Z_sol, solver = solve(Z0, nlp, c_tol=1e-6, tol=1e-6)\n",
    "Z_sol, solver = solve(Z0, nlp, c_tol=1e-4, tol=1e-2)"
   ]
  },
  {
   "cell_type": "code",
   "execution_count": 30,
   "metadata": {},
   "outputs": [
    {
     "data": {
      "text/plain": [
       "14-element Vector{Float64}:\n",
       "  7.515227329335517e-11\n",
       "  9.06130726008314e-12\n",
       " -3.4056091280376677e-13\n",
       " -3.877603542002777e-11\n",
       " -1.4222136526216301e-11\n",
       " -1.5932810626395622e-12\n",
       "  2.0854012960924706e-12\n",
       "  7.710524253005343e-12\n",
       "  5.213163234429885e-12\n",
       " -2.012770699685609e-13\n",
       " -4.874839547071352e-12\n",
       " -1.0462741784067475e-12\n",
       " -2.5514488055611164e-13\n",
       " -2.794061409933385e-14"
      ]
     },
     "metadata": {},
     "output_type": "display_data"
    }
   ],
   "source": [
    "Z_sol[1:14] - xinit"
   ]
  },
  {
   "cell_type": "code",
   "execution_count": 31,
   "metadata": {},
   "outputs": [
    {
     "data": {
      "text/plain": [
       "14-element Vector{Float64}:\n",
       "  4.1594228061825333e-11\n",
       " -1.75621739373355e-11\n",
       "  3.867608386545735e-13\n",
       " -1.8101857985140935e-11\n",
       " -7.069100603476383e-14\n",
       " -5.830547156193688e-11\n",
       " -7.422611969180345e-14\n",
       " -5.051745458798031e-12\n",
       "  2.1436398829733497e-12\n",
       " -4.780545591816849e-15\n",
       "  2.9897229344460088e-12\n",
       " -1.8363438799711354e-13\n",
       "  1.0383583069873222e-11\n",
       " -1.8313271056116362e-13"
      ]
     },
     "metadata": {},
     "output_type": "display_data"
    }
   ],
   "source": [
    "Z_sol[end-13:end] - xterm"
   ]
  }
 ],
 "metadata": {
  "@webio": {
   "lastCommId": "06ae0ce534004235b788f1a5d0a7d59a",
   "lastKernelId": "320b288e-2315-4364-93b6-7c10c2dfbcc7"
  },
  "kernelspec": {
   "display_name": "Julia 1.6.6",
   "language": "julia",
   "name": "julia-1.6"
  },
  "language_info": {
   "file_extension": ".jl",
   "mimetype": "application/julia",
   "name": "julia",
   "version": "1.6.6"
  }
 },
 "nbformat": 4,
 "nbformat_minor": 4
}
