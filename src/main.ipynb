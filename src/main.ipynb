{
 "cells": [
  {
   "cell_type": "code",
   "execution_count": null,
   "metadata": {},
   "outputs": [],
   "source": [
    "import Pkg; Pkg.activate(joinpath(@__DIR__,\"..\")); Pkg.instantiate()\n",
    "using LinearAlgebra\n",
    "using ForwardDiff\n",
    "using RobotDynamics\n",
    "using Ipopt\n",
    "using MathOptInterface\n",
    "const MOI = MathOptInterface\n",
    "using Random"
   ]
  },
  {
   "cell_type": "code",
   "execution_count": null,
   "metadata": {},
   "outputs": [],
   "source": [
    "include(\"quadratic_cost.jl\")\n",
    "include(\"planar_quadruped.jl\")\n",
    "include(\"sparseblocks.jl\")\n",
    "include(\"utils.jl\")\n",
    "include(\"nlp.jl\")\n",
    "include(\"moi.jl\")\n",
    "include(\"costs.jl\")\n",
    "include(\"constraints.jl\")\n",
    "include(\"ref_traj.jl\")"
   ]
  },
  {
   "cell_type": "markdown",
   "metadata": {},
   "source": [
    "## Reference Trajectory"
   ]
  },
  {
   "cell_type": "markdown",
   "metadata": {},
   "source": [
    "## Problem Definition"
   ]
  },
  {
   "cell_type": "code",
   "execution_count": null,
   "metadata": {},
   "outputs": [],
   "source": [
    "# Dynamics model\n",
    "model = PlanarQuadruped()\n",
    "g, mb, lb, l1, l2 = model.g, model.mb, model.lb, model.l1, model.l2\n",
    "\n",
    "# Discretization\n",
    "tf = 0.6\n",
    "dt = 0.02\n",
    "N = Int(ceil(tf / dt)) + 1\n",
    "times = range(0, tf, length=N)\n",
    "t_trans = 0.2\n",
    "\n",
    "n = 14\n",
    "m = 4\n",
    "\n",
    "# Initial Conditions\n",
    "# currently, we assume the initial mode ID is 1\n",
    "# xinit = [-0.4;0.6;-3.1415/9;        0.0;0.0; -1.0;0.2; 0.0;-0.5;0.0; 0.0;0.0; 0.0;-0.5]\n",
    "# xterm = [-lb/2;sqrt(l1^2+l2^2);0.0; 0.0;0.0; -lb;0.0;  0.0;0.0;0.0;  0.0;0.0; 0.0;0.0]\n",
    "xinit = zeros(n)\n",
    "xinit[1] = -lb / 2                  # xb\n",
    "xinit[2] = sqrt(l1^2 + l2^2) + 0.05 # yb\n",
    "xinit[3] = 10 * pi / 180          # theta\n",
    "xinit[6] = -lb                    # x2\n",
    "xinit[7] = 0.05                   # y2\n",
    "xinit[9] = -3.0                   # yb_dot\n",
    "xinit[12] = -3.0                  # y2_dot\n",
    "\n",
    "xterm = zeros(n)\n",
    "xterm[1] = -lb / 2           # xb\n",
    "xterm[2] = sqrt(l1^2 + l2^2) # yb\n",
    "xterm[6] = -lb             # x2\n",
    "\n",
    "init_mode = 1\n",
    "\n",
    "# Reference Trajectory\n",
    "Xref, Uref = reference_trajectory(model, times, t_trans, xinit, xterm, init_mode)\n",
    "\n",
    "# Objective\n",
    "Random.seed!(1)\n",
    "Q = Diagonal([1.0; 1.0; 1.0; 1.0; 1.0; 1.0; 1.0; 1.0; 1.0; 1.0; 1.0; 1.0; 1.0; 1.0])\n",
    "R = Diagonal(fill(1e-3, 4))\n",
    "Qf = Q\n",
    "\n",
    "obj = map(1:N-1) do k\n",
    "    LQRCost(Q, R, Xref[k], Uref[k])\n",
    "end\n",
    "push!(obj, LQRCost(Qf, R * 0, Xref[N], Uref[1]))\n",
    "\n",
    "# Define the NLP\n",
    "nlp = HybridNLP(model, obj, init_mode, tf, N, Xref[1], Xref[end]);"
   ]
  },
  {
   "cell_type": "markdown",
   "metadata": {},
   "source": [
    "## Solve"
   ]
  },
  {
   "cell_type": "code",
   "execution_count": null,
   "metadata": {},
   "outputs": [],
   "source": [
    "nlp.cinds"
   ]
  },
  {
   "cell_type": "code",
   "execution_count": null,
   "metadata": {},
   "outputs": [],
   "source": [
    "# Initial guess\n",
    "xtransit = zeros(n)\n",
    "xtransit[1] = -lb/2 # xb\n",
    "xtransit[2] = l1    # yb\n",
    "xtransit[3] = 0     # theta\n",
    "xtransit[6] = -lb   # x2\n",
    "\n",
    "# Random.seed!(1)\n",
    "# Uguess = [u + 0.1*randn(length(u)) for u in Uref]\n",
    "# Xguess = [x + 0.1*randn(length(x)) for x in Xref]\n",
    "\n",
    "Uguess = [zeros(m) + rand(m) for u in Uref]\n",
    "Xguess = [zeros(n) for x in Xref]\n",
    "\n",
    "timesteps_phase_1 = nlp.k_trans\n",
    "\n",
    "for i = 1:timesteps_phase_1\n",
    "    Xguess[i] = xinit + (xtransit - xinit)/timesteps_phase_1 * i + 0.1 * rand(n)\n",
    "end\n",
    "\n",
    "# display((xtransit - xinit)/timesteps_phase_1)\n",
    "\n",
    "Z0 = packZ(nlp, Xguess, Uguess);\n",
    "# nlp = HybridNLP(model, obj, init_mode, tf, N, Xref[1], Xref[end], use_sparse_jacobian=false);\n",
    "x_u[3+18*(k-1)] = pi / 2 # theta <= pi/2\n",
    "# Z_sol, solver = solve(Z0, nlp, c_tol=1e-6, tol=1e-6)\n",
    "Z_sol, solver = solve(Z0, nlp, c_tol=1e-3, tol=1e-2)"
   ]
  },
  {
   "cell_type": "code",
   "execution_count": null,
   "metadata": {},
   "outputs": [],
   "source": [
    "Z_sol[1:14] - xinit"
   ]
  },
  {
   "cell_type": "code",
   "execution_count": null,
   "metadata": {},
   "outputs": [],
   "source": [
    "Z_sol[end-13:end] - xterm"
   ]
  },
  {
   "cell_type": "markdown",
   "metadata": {},
   "source": [
    "EXIT: Restoration failed!\n",
    "\n",
    "EXIT: Converged to a point of local infeasibility. Problem may be infeasible."
   ]
  },
  {
   "cell_type": "code",
   "execution_count": null,
   "metadata": {},
   "outputs": [],
   "source": [
    "# # display(Z_sol)\n",
    "# using DelimitedFiles\n",
    "# using CSV\n",
    "# writedlm( \"data.csv\",  Z_sol, ',')"
   ]
  }
 ],
 "metadata": {
  "@webio": {
   "lastCommId": "06ae0ce534004235b788f1a5d0a7d59a",
   "lastKernelId": "320b288e-2315-4364-93b6-7c10c2dfbcc7"
  },
  "kernelspec": {
   "display_name": "Julia 1.6.5",
   "language": "julia",
   "name": "julia-1.6"
  },
  "language_info": {
   "file_extension": ".jl",
   "mimetype": "application/julia",
   "name": "julia",
   "version": "1.6.5"
  }
 },
 "nbformat": 4,
 "nbformat_minor": 4
}
