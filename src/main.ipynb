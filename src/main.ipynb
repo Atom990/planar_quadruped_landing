{
 "cells": [
  {
   "cell_type": "code",
   "execution_count": null,
   "metadata": {},
   "outputs": [],
   "source": [
    "import Pkg; Pkg.activate(joinpath(@__DIR__,\"..\")); Pkg.instantiate()\n",
    "using LinearAlgebra\n",
    "using ForwardDiff\n",
    "using RobotDynamics\n",
    "using Ipopt\n",
    "using MathOptInterface\n",
    "using TrajOptPlots\n",
    "const MOI = MathOptInterface\n",
    "using Random\n",
    "include(\"quadratic_cost.jl\")\n",
    "include(\"planar_quadruped.jl\")\n",
    "include(\"sparseblocks.jl\")\n",
    "include(\"utils.jl\")\n",
    "include(\"nlp.jl\")\n",
    "include(\"moi.jl\")\n",
    "include(\"costs.jl\")\n",
    "include(\"constraints.jl\")\n",
    "include(\"ref_traj.jl\")"
   ]
  },
  {
   "cell_type": "markdown",
   "metadata": {},
   "source": [
    "## Reference Trajectory"
   ]
  },
  {
   "cell_type": "markdown",
   "metadata": {},
   "source": [
    "## Problem Definition"
   ]
  },
  {
   "cell_type": "code",
   "execution_count": null,
   "metadata": {},
   "outputs": [],
   "source": [
    "# Dynamics model\n",
    "model = PlanarQuadruped()\n",
    "g, mb, lb, l1, l2 = model.g, model.mb, model.lb, model.l1, model.l2\n",
    "\n",
    "# Discretization\n",
    "tf = 1.0\n",
    "dt = 0.05\n",
    "N = Int(ceil(tf/dt)) + 1\n",
    "times = range(0,tf, length=N)\n",
    "t_trans = 0.5\n",
    "\n",
    "# Initial Conditions\n",
    "# currently, we assume the initial mode ID is 1\n",
    "xinit = [-0.4;0.6;-3.1415/9;        0.0;0.0; -1.0;0.2; 0.0;-0.5;0.0; 0.0;0.0; 0.0;-0.5]\n",
    "xterm = [-lb/2;sqrt(l1^2+l2^2);0.0; 0.0;0.0; -lb;0.0;  0.0;0.0;0.0;  0.0;0.0; 0.0;0.0]\n",
    "\n",
    "uinit = [0.0;mb*g/2; 0.0;mb*g/2]\n",
    "init_mode = 1\n",
    "\n",
    "# Reference Trajectory\n",
    "Xref, Uref = reference_trajectory(model, times, t_trans, xinit, xterm, init_mode)\n",
    "\n",
    "# Objective\n",
    "Random.seed!(1)\n",
    "Q = Diagonal([10.0;10.0;1.0; 10.0;10.0; 10.0;10.0; 10.0;10.0;1.0; 10.0;10.0; 10.0;10.0])\n",
    "R = Diagonal(fill(1e-3,4))\n",
    "Qf = Q\n",
    "\n",
    "obj = map(1:N-1) do k\n",
    "    LQRCost(Q,R,Xref[k],Uref[k])\n",
    "end\n",
    "push!(obj, LQRCost(Qf, R*0, Xref[N], Uref[1]))\n",
    "\n",
    "# Define the NLP\n",
    "nlp = HybridNLP(model, obj, init_mode, tf, N, Xref[1], Xref[end]);"
   ]
  },
  {
   "cell_type": "markdown",
   "metadata": {},
   "source": [
    "## Solve"
   ]
  },
  {
   "cell_type": "code",
   "execution_count": null,
   "metadata": {},
   "outputs": [],
   "source": [
    "# Initial guess\n",
    "Random.seed!(1)\n",
    "Xguess = [x + 0.1*randn(length(x)) for x in Xref]\n",
    "Uguess = [u + 0.1*randn(length(u)) for u in Uref]\n",
    "Z0 = packZ(nlp, Xguess, Uguess);\n",
    "nlp = HybridNLP(model, obj, init_mode, tf, N, Xref[1], Xref[end], use_sparse_jacobian=false);"
   ]
  },
  {
   "cell_type": "code",
   "execution_count": null,
   "metadata": {},
   "outputs": [],
   "source": [
    "contact1_jacobian(model, xinit, uinit, dt)"
   ]
  },
  {
   "cell_type": "code",
   "execution_count": null,
   "metadata": {},
   "outputs": [],
   "source": [
    "# Z_sol, solver = solve(Z0, nlp, c_tol=1e-6, tol=1e-6)\n",
    "Z_sol, solver = solve(Z0, nlp, c_tol=1e-2, tol=1e-2)"
   ]
  }
 ],
 "metadata": {
  "@webio": {
   "lastCommId": "06ae0ce534004235b788f1a5d0a7d59a",
   "lastKernelId": "320b288e-2315-4364-93b6-7c10c2dfbcc7"
  },
  "kernelspec": {
   "display_name": "Julia 1.6.5",
   "language": "julia",
   "name": "julia-1.6"
  },
  "language_info": {
   "file_extension": ".jl",
   "mimetype": "application/julia",
   "name": "julia",
   "version": "1.6.5"
  }
 },
 "nbformat": 4,
 "nbformat_minor": 4
}
