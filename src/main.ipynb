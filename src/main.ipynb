{
 "cells": [
  {
   "cell_type": "code",
   "execution_count": 308,
   "metadata": {},
   "outputs": [],
   "source": [
    "import Pkg; Pkg.activate(joinpath(@__DIR__,\"..\")); Pkg.instantiate()\n",
    "using LinearAlgebra\n",
    "using ForwardDiff\n",
    "using RobotDynamics\n",
    "using Ipopt\n",
    "using MathOptInterface\n",
    "const MOI = MathOptInterface\n",
    "using Random"
   ]
  },
  {
   "cell_type": "code",
   "execution_count": 309,
   "metadata": {},
   "outputs": [
    {
     "data": {
      "text/plain": [
       "reference_trajectory"
      ]
     },
     "metadata": {},
     "output_type": "display_data"
    }
   ],
   "source": [
    "include(\"quadratic_cost.jl\")\n",
    "include(\"planar_quadruped.jl\")\n",
    "include(\"sparseblocks.jl\")\n",
    "include(\"nlp.jl\")\n",
    "include(\"moi.jl\")\n",
    "include(\"costs.jl\")\n",
    "include(\"constraints.jl\")\n",
    "include(\"ref_traj.jl\")"
   ]
  },
  {
   "cell_type": "markdown",
   "metadata": {},
   "source": [
    "## Reference Trajectory"
   ]
  },
  {
   "cell_type": "markdown",
   "metadata": {},
   "source": [
    "## Problem Definition"
   ]
  },
  {
   "cell_type": "code",
   "execution_count": 310,
   "metadata": {},
   "outputs": [],
   "source": [
    "# Dynamics model\n",
    "model = PlanarQuadruped()\n",
    "g, mb, lb, l1, l2 = model.g, model.mb, model.lb, model.l1, model.l2\n",
    "\n",
    "# Discretization\n",
    "tf = 0.6\n",
    "dt = 0.01\n",
    "N = Int(ceil(tf / dt)) + 1\n",
    "times = range(0, tf, length=N)\n",
    "t_trans = 0.25\n",
    "n = 14\n",
    "m = 4\n",
    "\n",
    "# Initial Conditions\n",
    "# currently, we assume the initial mode ID is 1\n",
    "xinit = zeros(n)\n",
    "xinit[1]  = -lb / 2.5                  # xb\n",
    "xinit[2]  = sqrt(l1^2 + l2^2) + 0.05 # yb\n",
    "xinit[3]  = -30 * pi / 180            # theta\n",
    "xinit[6]  = -lb                      # x2\n",
    "xinit[7]  = 0.25                      # y2\n",
    "xinit[9]  = -1.0                     # yb_dot\n",
    "xinit[12] = -1.0                     # y2_dot\n",
    "\n",
    "xterm = zeros(n)\n",
    "xterm[1] = -lb / 2           # xb\n",
    "xterm[2] = sqrt(l1^2 + l2^2) # yb\n",
    "xterm[6] = -lb               # x2\n",
    "\n",
    "init_mode = 1\n",
    "\n",
    "# Reference Trajectory\n",
    "Xref, Uref = reference_trajectory(model, times, t_trans, xinit, xterm, init_mode)\n",
    "\n",
    "# Objective\n",
    "Random.seed!(1)\n",
    "Q = Diagonal([10.0;10.0;1.0; 10.0;10.0; 10.0;10.0; 10.0;10.0;1.0; 10.0;10.0; 10.0;10.0])\n",
    "R = Diagonal(fill(1e-3, 4))\n",
    "Qf = Q\n",
    "\n",
    "obj = map(1:N-1) do k\n",
    "    LQRCost(Q, R, Xref[k], Uref[k])\n",
    "end\n",
    "push!(obj, LQRCost(Qf, R * 0, Xref[N], Uref[1]))\n",
    "\n",
    "# Define the NLP\n",
    "# function HybridNLP(model, obj, init_mode, tf, N, x0, xf)\n",
    "\n",
    "# nlp = HybridNLP(model, obj, init_mode, tf, N, Xref[1], Xref[end]);\n",
    "nlp = HybridNLP(model, obj, init_mode, tf, N, xinit, xterm);"
   ]
  },
  {
   "cell_type": "markdown",
   "metadata": {},
   "source": [
    "## Solve"
   ]
  },
  {
   "cell_type": "code",
   "execution_count": 311,
   "metadata": {},
   "outputs": [
    {
     "data": {
      "text/plain": [
       "6-element Vector{UnitRange{Int64}}:\n",
       " 1:14\n",
       " 15:28\n",
       " 29:868\n",
       " 869:929\n",
       " 930:970\n",
       " 971:1031"
      ]
     },
     "metadata": {},
     "output_type": "display_data"
    }
   ],
   "source": [
    "nlp.cinds"
   ]
  },
  {
   "cell_type": "code",
   "execution_count": 312,
   "metadata": {},
   "outputs": [],
   "source": [
    "# Initial guess\n",
    "xtransit = zeros(n)\n",
    "xtransit[1] = -lb/2 # xb\n",
    "xtransit[2] = l1    # yb\n",
    "xtransit[3] = 0     # theta\n",
    "xtransit[6] = -lb   # x2\n",
    "\n",
    "# Random.seed!(1)\n",
    "# Uguess = [u + 0.1*randn(length(u)) for u in Uref]\n",
    "# Xguess = [x + 0.1*randn(length(x)) for x in Xref]\n",
    "\n",
    "Uguess = [zeros(m) + rand(m) for u in Uref]\n",
    "Xguess = [zeros(n) for x in Xref]\n",
    "\n",
    "k_trans = nlp.k_trans\n",
    "\n",
    "for i = 1:k_trans\n",
    "    Xguess[i] = xinit + (xtransit - xinit)/k_trans * i + 0.1 * rand(n)\n",
    "end\n",
    "\n",
    "# display((xtransit - xinit)/timesteps_phase_1)"
   ]
  },
  {
   "cell_type": "code",
   "execution_count": 313,
   "metadata": {},
   "outputs": [
    {
     "data": {
      "text/plain": [
       "14-element MVector{14, Float64} with indices SOneTo(14):\n",
       " -0.25\n",
       "  0.3535533905932738\n",
       "  0.0\n",
       "  0.0\n",
       "  0.0\n",
       " -0.5\n",
       "  0.0\n",
       "  0.0\n",
       "  0.0\n",
       "  0.0\n",
       "  0.0\n",
       "  0.0\n",
       "  0.0\n",
       "  0.0"
      ]
     },
     "metadata": {},
     "output_type": "display_data"
    }
   ],
   "source": [
    "nlp.xf"
   ]
  },
  {
   "cell_type": "code",
   "execution_count": 314,
   "metadata": {},
   "outputs": [
    {
     "data": {
      "text/plain": [
       "([-0.19999999995346743, 0.4035533906082208, 0.5235987755975288, -2.0094423339880293e-11, 5.406876755236595e-13, -0.4999999999997654, 0.2500000000002547, 7.824894521512318e-12, -0.9999999999973532, -3.540761817651308e-13  …  1.3029009672981952e-14, -0.5000000000137698, 1.3029006544687907e-14, 3.0157601118488365e-12, 2.0990192710383805e-12, -1.234816430200708e-13, 4.985116525161758e-13, 3.4534421805299843e-15, 2.5934181351424882e-12, 3.4534825137681947e-15], Ipopt.Optimizer)"
      ]
     },
     "metadata": {},
     "output_type": "display_data"
    }
   ],
   "source": [
    "Z0 = packZ(nlp, Xguess, Uguess);\n",
    "\n",
    "# Z_sol, solver = solve(Z0, nlp, c_tol=1e-6, tol=1e-6)\n",
    "Z_sol, solver = solve(Z0, nlp, c_tol=1e-4, tol=1e-3)"
   ]
  },
  {
   "cell_type": "code",
   "execution_count": 315,
   "metadata": {},
   "outputs": [
    {
     "data": {
      "text/plain": [
       "14-element Vector{Float64}:\n",
       "  4.6532583342084877e-11\n",
       "  1.4947043602830945e-11\n",
       " -7.700506898800086e-13\n",
       " -2.0094423339880293e-11\n",
       "  5.406876755236595e-13\n",
       "  2.345901251032956e-13\n",
       "  2.546851618490109e-13\n",
       "  7.824894521512318e-12\n",
       "  2.646771690706373e-12\n",
       " -3.540761817651308e-13\n",
       " -9.728207544363355e-13\n",
       "  3.5560443478743764e-13\n",
       "  5.692484607924333e-14\n",
       "  7.092940776471933e-14"
      ]
     },
     "metadata": {},
     "output_type": "display_data"
    }
   ],
   "source": [
    "Z_sol[1:14] - xinit"
   ]
  },
  {
   "cell_type": "code",
   "execution_count": 316,
   "metadata": {},
   "outputs": [
    {
     "data": {
      "text/plain": [
       "14-element Vector{Float64}:\n",
       " -1.1950440637065185e-11\n",
       " -1.0382139592479689e-11\n",
       "  7.499257777116727e-13\n",
       " -9.440180763563116e-13\n",
       "  1.3029009672981952e-14\n",
       " -1.3769763107518429e-11\n",
       "  1.3029006544687907e-14\n",
       "  3.0157601118488365e-12\n",
       "  2.0990192710383805e-12\n",
       " -1.234816430200708e-13\n",
       "  4.985116525161758e-13\n",
       "  3.4534421805299843e-15\n",
       "  2.5934181351424882e-12\n",
       "  3.4534825137681947e-15"
      ]
     },
     "metadata": {},
     "output_type": "display_data"
    }
   ],
   "source": [
    "Z_sol[end-13:end] - xterm"
   ]
  },
  {
   "cell_type": "code",
   "execution_count": 317,
   "metadata": {},
   "outputs": [
    {
     "data": {
      "text/plain": [
       "61-element Vector{Float64}:\n",
       " 0.2500000000002547\n",
       " 0.24960891973170918\n",
       " 0.24885095571694013\n",
       " 0.24814220773209295\n",
       " 0.24748074739521664\n",
       " 0.24686231939470063\n",
       " 0.24628405410287812\n",
       " 0.24574389202593577\n",
       " 0.24524042206229452\n",
       " 0.24477244565234121\n",
       " ⋮\n",
       " 4.565065687211366e-14\n",
       " 5.306437235715603e-14\n",
       " 6.077955859100761e-14\n",
       " 6.80032762328289e-14\n",
       " 7.323123733709754e-14\n",
       " 7.340581147374008e-14\n",
       " 6.351440541289785e-14\n",
       " 3.9182303656394e-14\n",
       " 1.3029006544687907e-14"
      ]
     },
     "metadata": {},
     "output_type": "display_data"
    }
   ],
   "source": [
    "y2 = zeros(N)\n",
    "for k = 1:N\n",
    "    y2[k] = Z_sol[7 + 18*(k-1)]\n",
    "end\n",
    "@show y2"
   ]
  },
  {
   "cell_type": "code",
   "execution_count": 318,
   "metadata": {},
   "outputs": [],
   "source": [
    "# display(Z_sol)\n",
    "using DelimitedFiles\n",
    "using CSV\n",
    "writedlm( \"data.csv\",  Z_sol, ',')"
   ]
  }
 ],
 "metadata": {
  "@webio": {
   "lastCommId": "06ae0ce534004235b788f1a5d0a7d59a",
   "lastKernelId": "320b288e-2315-4364-93b6-7c10c2dfbcc7"
  },
  "kernelspec": {
   "display_name": "Julia 1.6.5",
   "language": "julia",
   "name": "julia-1.6"
  },
  "language_info": {
   "file_extension": ".jl",
   "mimetype": "application/julia",
   "name": "julia",
   "version": "1.6.5"
  }
 },
 "nbformat": 4,
 "nbformat_minor": 4
}
